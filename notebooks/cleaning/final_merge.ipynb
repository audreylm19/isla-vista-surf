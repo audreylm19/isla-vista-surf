{
 "cells": [
  {
   "cell_type": "markdown",
   "id": "7ba099cc-d8de-4a56-a96c-b269dd141dc0",
   "metadata": {},
   "source": [
    "# Goal: \n",
    "### Merge swell, period, wind, and tide data into a singe dataframe\n",
    "### Convert UTC to PST and filter for daylight hours\n",
    "#### This file is the clean version of ```the_big_merge.ipynb```"
   ]
  },
  {
   "cell_type": "code",
   "execution_count": 78,
   "id": "9fdca876-6ad0-458d-ab1e-c3851fd8acc9",
   "metadata": {},
   "outputs": [],
   "source": [
    "import pandas as pd\n",
    "import numpy as np\n",
    "import random\n",
    "from pathlib import Path\n",
    "\n",
    "from datetime import datetime, timezone, timedelta\n",
    "from zoneinfo import ZoneInfo\n",
    "from astral import LocationInfo\n",
    "from astral.sun import sun"
   ]
  },
  {
   "cell_type": "code",
   "execution_count": 79,
   "id": "e6181b0d",
   "metadata": {},
   "outputs": [],
   "source": [
    "root_folder = Path.cwd().parents[1]"
   ]
  },
  {
   "cell_type": "code",
   "execution_count": 80,
   "id": "2e8c769e-4d0e-4928-8601-5ef3c061834a",
   "metadata": {},
   "outputs": [],
   "source": [
    "#reading cleaned datasets\n",
    "swell = pd.read_csv(root_folder/'data/interim/00-swell.csv')\n",
    "tide = pd.read_csv(root_folder/'data/interim/00-tide.csv')\n",
    "wind = pd.read_csv(root_folder/'data/interim/00-wind.csv')\n",
    "period = pd.read_csv(root_folder/'data/interim/01-period.csv')\n",
    "\n",
    "#converting to datetime\n",
    "swell['UTC'] = pd.to_datetime(swell['UTC'], utc=True)\n",
    "tide['UTC'] = pd.to_datetime(tide['UTC'], utc=True)\n",
    "wind['UTC'] = pd.to_datetime(wind['UTC'], utc=True)\n",
    "period['UTC'] = pd.to_datetime(period['UTC'], utc=True)"
   ]
  },
  {
   "cell_type": "code",
   "execution_count": 81,
   "id": "1fb4311a",
   "metadata": {},
   "outputs": [
    {
     "data": {
      "text/plain": [
       "UTC                  0\n",
       "Tide                 0\n",
       "Wind Speed          63\n",
       "Wind Direction     115\n",
       "Height            2266\n",
       "Deg               2270\n",
       "Period            2269\n",
       "dtype: int64"
      ]
     },
     "execution_count": 81,
     "metadata": {},
     "output_type": "execute_result"
    }
   ],
   "source": [
    "#merging - make sure to convert to datetime before merge!!!\n",
    "tw = tide.merge(wind, how='left', on='UTC')\n",
    "tws = tw.merge(swell, how='left', on='UTC')\n",
    "twsp = tws.merge(period, how='left', on='UTC')\n",
    "twsp.isna().sum()"
   ]
  },
  {
   "cell_type": "code",
   "execution_count": 82,
   "id": "dbb3328c-b773-4680-8954-c1c2dc753df7",
   "metadata": {},
   "outputs": [],
   "source": [
    "#fixing duplicate value\n",
    "# twsp.iloc[21452,6]=10\n",
    "# twsp = twsp.drop(index=21453)"
   ]
  },
  {
   "cell_type": "code",
   "execution_count": 83,
   "id": "812a73c6-0807-4587-84b0-8559036b4975",
   "metadata": {},
   "outputs": [],
   "source": [
    "#creating datetime column in PST\n",
    "PST = ZoneInfo('America/Los_Angeles')\n",
    "pstlist = [x.astimezone(tz=PST) for x in twsp['UTC']]\n",
    "twsp['PST']=pstlist"
   ]
  },
  {
   "cell_type": "code",
   "execution_count": 84,
   "id": "b3f9225c-964b-43ee-ba89-d23fc80dd071",
   "metadata": {},
   "outputs": [],
   "source": [
    "#create Dawn column\n",
    "iv = LocationInfo(\"Isla Vista\", \"California\", \"America/Los_Angeles\", 34.41302853802114, -119.8615254859206)\n",
    "dawn=[]\n",
    "for i in twsp.index.to_list():\n",
    "    s = sun(iv.observer, date=twsp['PST'][i], tzinfo=PST)\n",
    "    dawn.append(s['dawn'])\n",
    "twsp['Dawn'] = dawn\n",
    "\n",
    "#create Dusk column\n",
    "iv = LocationInfo(\"Isla Vista\", \"California\", \"America/Los_Angeles\", 34.41302853802114, -119.8615254859206)\n",
    "dusk=[]\n",
    "for i in twsp.index.to_list():\n",
    "    s = sun(iv.observer, date=twsp['PST'][i], tzinfo=PST)\n",
    "    dusk.append(s['dusk'])\n",
    "twsp['Dusk'] = dusk"
   ]
  },
  {
   "cell_type": "code",
   "execution_count": 85,
   "id": "9ad65d25-1689-435b-9752-dee9103666f0",
   "metadata": {},
   "outputs": [],
   "source": [
    "#filtering for daylight hours\n",
    "day=[]\n",
    "for i in twsp.index.to_list():\n",
    "    day.append(twsp['Dawn'][i] <= twsp['PST'][i] <= twsp['Dusk'][i])"
   ]
  },
  {
   "cell_type": "code",
   "execution_count": 86,
   "id": "49e95577",
   "metadata": {},
   "outputs": [
    {
     "data": {
      "text/plain": [
       "UTC                  0\n",
       "Tide                 0\n",
       "Wind Speed          33\n",
       "Wind Direction      54\n",
       "Height            1329\n",
       "Deg               1331\n",
       "Period            1330\n",
       "PST                  0\n",
       "Dawn                 0\n",
       "Dusk                 0\n",
       "dtype: int64"
      ]
     },
     "execution_count": 86,
     "metadata": {},
     "output_type": "execute_result"
    }
   ],
   "source": [
    "#check nan values\n",
    "twsp[day].isna().sum()"
   ]
  },
  {
   "cell_type": "markdown",
   "id": "69d73936",
   "metadata": {},
   "source": [
    "Instead of chucking rows with any nan values, I'll keep them in the dataset and classify good days based on how many parameters met ideal conditions. That way, some of these hours with nan values could still classify as \"4/6 ideal\" or smth... might have to change this later based on how nan values act in the analysis bit, and if I change my measuring method."
   ]
  },
  {
   "attachments": {},
   "cell_type": "markdown",
   "id": "f0b21962",
   "metadata": {},
   "source": [
    "To the best of my knowledge, these nan values are missing from the data scource, not because of some mistake I made while cleaning, so there's not much to be done about that."
   ]
  },
  {
   "cell_type": "code",
   "execution_count": 87,
   "id": "a34d5cf2",
   "metadata": {},
   "outputs": [
    {
     "data": {
      "text/plain": [
       "732"
      ]
     },
     "execution_count": 87,
     "metadata": {},
     "output_type": "execute_result"
    }
   ],
   "source": [
    "61*12"
   ]
  },
  {
   "attachments": {},
   "cell_type": "markdown",
   "id": "9abbd180",
   "metadata": {},
   "source": [
    "April and May of 2016 are missing swell and period data so that makes sense for the height and degree nan values ^ however the period nan values are way out of control"
   ]
  },
  {
   "cell_type": "code",
   "execution_count": 88,
   "id": "c4687cf1",
   "metadata": {},
   "outputs": [],
   "source": [
    "df = twsp[day][['PST','Tide','Height','Deg','Period','Wind Speed', 'Wind Direction']]\n",
    "\n",
    "#last bit of clean up then saving as csv\n",
    "df.drop(index=[0,1]).reset_index(drop=True).to_csv(root_folder/'data/processed/00-final.csv', index=False)"
   ]
  },
  {
   "cell_type": "code",
   "execution_count": 89,
   "id": "aba10a5c-7e7a-46a8-ab6a-d7d67f9762df",
   "metadata": {},
   "outputs": [],
   "source": [
    "#writing to csv\n",
    "# twsp[day][['PST','Tide','Height','Deg','Period','Wind Speed', 'Wind Direction']].to_csv(root_folder/'data/processed/final.csv', index=False)"
   ]
  },
  {
   "cell_type": "code",
   "execution_count": null,
   "id": "757adeb7",
   "metadata": {},
   "outputs": [],
   "source": []
  }
 ],
 "metadata": {
  "kernelspec": {
   "display_name": "Python 3.10.8 ('ivsurf-env')",
   "language": "python",
   "name": "python3"
  },
  "language_info": {
   "codemirror_mode": {
    "name": "ipython",
    "version": 3
   },
   "file_extension": ".py",
   "mimetype": "text/x-python",
   "name": "python",
   "nbconvert_exporter": "python",
   "pygments_lexer": "ipython3",
   "version": "3.10.8 | packaged by conda-forge | (main, Nov  4 2022, 13:42:51) [MSC v.1916 64 bit (AMD64)]"
  },
  "vscode": {
   "interpreter": {
    "hash": "94ab3e166c87eb08f52c1f27d18afd75aa2f18bc3012018fbae2a9065e8ea721"
   }
  }
 },
 "nbformat": 4,
 "nbformat_minor": 5
}
