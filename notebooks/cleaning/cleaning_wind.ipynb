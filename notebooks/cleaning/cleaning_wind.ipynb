{
 "cells": [
  {
   "cell_type": "markdown",
   "metadata": {},
   "source": [
    "### Goal:\n",
    "Clean wind data:\n",
    "- get rid of unnecessary columns\n",
    "- convert time to datetime object, then convert from PST to UTC\n",
    "- keep only those data collected near the top of the hour\n",
    "- fill NaN values with average of two adjacent hour measurements when possible"
   ]
  },
  {
   "cell_type": "code",
   "execution_count": 1,
   "metadata": {},
   "outputs": [],
   "source": [
    "import pandas as pd\n",
    "from pathlib import Path\n",
    "from datetime import timedelta"
   ]
  },
  {
   "cell_type": "code",
   "execution_count": 2,
   "metadata": {},
   "outputs": [],
   "source": [
    "root_folder = Path.cwd().parents[1]\n"
   ]
  },
  {
   "cell_type": "code",
   "execution_count": 3,
   "metadata": {},
   "outputs": [],
   "source": [
    "df = pd.read_csv(root_folder/\"data/raw/raw_wind.csv\", usecols=['DATE','HourlyWindDirection','HourlyWindSpeed'])\n",
    "\n",
    "#converting PST to UTC\n",
    "df['UTC'] = pd.to_datetime(df['DATE'],utc=True)+timedelta(hours=8)\n",
    "\n",
    "#making most observations at the top of the hour\n",
    "df['UTC'] = df['UTC']+timedelta(minutes=7)"
   ]
  },
  {
   "cell_type": "markdown",
   "metadata": {},
   "source": [
    "After some exploration, found that of the data that was taken at an odd time (ie not 53 minutes into the hour),  almost 20% of it are NaN values (almost 2000 entries). On the other hand, while the data taken at even intervals is 37 hours short of being complete, only 129 entries are NaN. So, I decided to just keep the top of the hour measurements, and fill in the NaN entries with an average of the two adjacent values when possible, resulting in 45 NaN values for wind direction, and 16 NaN values for wind speed. This instead of squinting through the odd interval measurements looking for complete entries to supplement the 37 missing hours/NaN values. I couuuuld track down those 37 missing hours and look for data in the odd intervals, but in the scheme of 5 years, 37 missing hours, even if all were daylight, only makes up 0.16% of total entries I'll look at."
   ]
  },
  {
   "cell_type": "code",
   "execution_count": 4,
   "metadata": {},
   "outputs": [],
   "source": [
    "#only keeping top of the hour observations\n",
    "top = df[df['UTC'].dt.minute ==0].reset_index()"
   ]
  },
  {
   "cell_type": "markdown",
   "metadata": {},
   "source": [
    "### Wind Speed"
   ]
  },
  {
   "cell_type": "code",
   "execution_count": 5,
   "metadata": {},
   "outputs": [
    {
     "name": "stderr",
     "output_type": "stream",
     "text": [
      "C:\\Users\\audre\\AppData\\Local\\Temp\\ipykernel_26100\\1106828178.py:10: SettingWithCopyWarning: \n",
      "A value is trying to be set on a copy of a slice from a DataFrame\n",
      "\n",
      "See the caveats in the documentation: https://pandas.pydata.org/pandas-docs/stable/user_guide/indexing.html#returning-a-view-versus-a-copy\n",
      "  speed[i]=(speed[i-1]+speed[i+1])/2\n"
     ]
    }
   ],
   "source": [
    "#getting list of na indicies so I can create an average to fill them\n",
    "naspeed = top[top['HourlyWindSpeed'].isna()].index.tolist()\n",
    "\n",
    "#removing the last index because NaN, nighttime value, and so that following loop will work\n",
    "naspeed.remove(43786)\n",
    "\n",
    "speed = top['HourlyWindSpeed']\n",
    "#filling in average of neighbors\n",
    "for i in naspeed:\n",
    "    speed[i]=(speed[i-1]+speed[i+1])/2\n",
    "\n",
    "top['Wind Speed']=speed"
   ]
  },
  {
   "cell_type": "markdown",
   "metadata": {},
   "source": [
    "### Wind Direction\n",
    "\n",
    "Wind direction entries are strings because of the measurements ```VRB``` and ```000``` which mean 'variable' and 'calm' respectively. In order to make an average, I need integers, so turn anything that's not 'VRB', '000', or NaN into ```int```."
   ]
  },
  {
   "cell_type": "code",
   "execution_count": 6,
   "metadata": {},
   "outputs": [
    {
     "name": "stderr",
     "output_type": "stream",
     "text": [
      "C:\\Users\\audre\\AppData\\Local\\Temp\\ipykernel_26100\\1586515412.py:18: SettingWithCopyWarning: \n",
      "A value is trying to be set on a copy of a slice from a DataFrame\n",
      "\n",
      "See the caveats in the documentation: https://pandas.pydata.org/pandas-docs/stable/user_guide/indexing.html#returning-a-view-versus-a-copy\n",
      "  direction.iloc[int_direction.index]=int_direction\n",
      "C:\\Users\\audre\\AppData\\Local\\Temp\\ipykernel_26100\\1586515412.py:23: SettingWithCopyWarning: \n",
      "A value is trying to be set on a copy of a slice from a DataFrame\n",
      "\n",
      "See the caveats in the documentation: https://pandas.pydata.org/pandas-docs/stable/user_guide/indexing.html#returning-a-view-versus-a-copy\n",
      "  direction[i]=(direction[i-1]+direction[i+1])/2\n"
     ]
    }
   ],
   "source": [
    "direction = top['HourlyWindDirection']\n",
    "\n",
    "d_index = top['HourlyWindDirection'].index.to_list()\n",
    "\n",
    "#getting the calm indicies\n",
    "calm_winds = [i for i in d_index if direction[i] in ('VRB', '000')]\n",
    "\n",
    "#getting nan indicies\n",
    "nadirection = direction[direction.isna()].index.to_list()\n",
    "\n",
    "#making integer values\n",
    "int_direction = direction.drop(index=calm_winds+nadirection).astype(int)\n",
    "\n",
    "#removing the last index because NaN, nighttime value, and so that following loop will work\n",
    "nadirection.remove(43786)\n",
    "\n",
    "#replacing string numbers with integers\n",
    "direction.iloc[int_direction.index]=int_direction\n",
    "\n",
    "#filling nan values with the average\n",
    "for i in nadirection:\n",
    "    if (type(direction[i-1])==int) & (type(direction[i+1])==int):\n",
    "         direction[i]=(direction[i-1]+direction[i+1])/2\n",
    "\n",
    "top['Wind Direction']=direction"
   ]
  },
  {
   "cell_type": "code",
   "execution_count": 7,
   "metadata": {},
   "outputs": [
    {
     "data": {
      "text/plain": [
       "UTC                0\n",
       "Wind Speed        11\n",
       "Wind Direction    45\n",
       "dtype: int64"
      ]
     },
     "execution_count": 7,
     "metadata": {},
     "output_type": "execute_result"
    }
   ],
   "source": [
    "top[['UTC','Wind Speed','Wind Direction']].isna().sum()"
   ]
  },
  {
   "cell_type": "markdown",
   "metadata": {},
   "source": [
    "Pretty goooood"
   ]
  },
  {
   "cell_type": "code",
   "execution_count": 8,
   "metadata": {},
   "outputs": [
    {
     "data": {
      "text/plain": [
       "(43787, 3)"
      ]
     },
     "execution_count": 8,
     "metadata": {},
     "output_type": "execute_result"
    }
   ],
   "source": [
    "top[['UTC','Wind Speed','Wind Direction']].shape"
   ]
  },
  {
   "cell_type": "code",
   "execution_count": 9,
   "metadata": {},
   "outputs": [
    {
     "data": {
      "text/plain": [
       "43824"
      ]
     },
     "execution_count": 9,
     "metadata": {},
     "output_type": "execute_result"
    }
   ],
   "source": [
    "24*365*5+24"
   ]
  },
  {
   "cell_type": "markdown",
   "metadata": {},
   "source": [
    "Still missing those 37 hours, but that's ok"
   ]
  },
  {
   "cell_type": "code",
   "execution_count": 10,
   "metadata": {},
   "outputs": [],
   "source": [
    "top[['UTC','Wind Speed','Wind Direction']].to_csv(root_folder/'data/interim/00-wind.csv', index=False)"
   ]
  }
 ],
 "metadata": {
  "kernelspec": {
   "display_name": "Python 3.10.8 ('ivsurf-env')",
   "language": "python",
   "name": "python3"
  },
  "language_info": {
   "codemirror_mode": {
    "name": "ipython",
    "version": 3
   },
   "file_extension": ".py",
   "mimetype": "text/x-python",
   "name": "python",
   "nbconvert_exporter": "python",
   "pygments_lexer": "ipython3",
   "version": "3.10.8"
  },
  "vscode": {
   "interpreter": {
    "hash": "94ab3e166c87eb08f52c1f27d18afd75aa2f18bc3012018fbae2a9065e8ea721"
   }
  }
 },
 "nbformat": 4,
 "nbformat_minor": 4
}
