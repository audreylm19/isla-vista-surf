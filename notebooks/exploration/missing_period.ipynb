{
 "cells": [
  {
   "cell_type": "markdown",
   "id": "f1c8b543-b968-4dae-889b-ad63c7c05267",
   "metadata": {},
   "source": [
    "# The Case of the Missing Period"
   ]
  },
  {
   "cell_type": "code",
   "execution_count": 1,
   "id": "269562dc-be3f-4ac7-adb7-54d03d983014",
   "metadata": {},
   "outputs": [],
   "source": [
    "import pandas as pd\n",
    "import numpy as np\n",
    "import random\n",
    "\n",
    "from datetime import datetime, timezone, timedelta\n",
    "from zoneinfo import ZoneInfo\n",
    "from astral import LocationInfo\n",
    "from astral.sun import SUN"
   ]
  },
  {
   "cell_type": "code",
   "execution_count": 2,
   "id": "8b192409-1abd-45c0-a808-481e56424eeb",
   "metadata": {},
   "outputs": [],
   "source": [
    "swell = pd.read_csv('data/swell.csv')\n",
    "tide = pd.read_csv('data/tide.csv')\n",
    "wind = pd.read_csv('data/wind.csv')\n",
    "period = pd.read_csv('data/period.csv')"
   ]
  },
  {
   "cell_type": "code",
   "execution_count": 3,
   "id": "a0613a2d-7020-49a7-ba7e-c5de54434263",
   "metadata": {},
   "outputs": [],
   "source": [
    "def checkHour(df):\n",
    "    df['UTC'] = pd.to_datetime(df['UTC'], utc=True)\n",
    "    onehour = timedelta(days=0, hours=1)\n",
    "    baddies = []\n",
    "    index = df.index.to_list()\n",
    "    index.remove(0)\n",
    "    for i in index:\n",
    "        if (df['UTC'][i]-df['UTC'][i-1] != onehour):\n",
    "            baddies.append(i)\n",
    "    return len(baddies), baddies"
   ]
  },
  {
   "cell_type": "markdown",
   "id": "1f64f7ea-4fd8-40ec-9368-05809fa8ab15",
   "metadata": {},
   "source": [
    "Would expect number of nan values in merged df to equal the number of missing hours in the original dataset, plus any nan values from og dataset <br/>\n",
    "Test this:"
   ]
  },
  {
   "cell_type": "code",
   "execution_count": 4,
   "id": "4f5cee5d-ae0c-461e-bafb-4ae3feef0a7b",
   "metadata": {},
   "outputs": [
    {
     "data": {
      "text/plain": [
       "55"
      ]
     },
     "execution_count": 4,
     "metadata": {},
     "output_type": "execute_result"
    }
   ],
   "source": [
    "#number of missing hours in swell\n",
    "(24*365*5+24) - swell.shape[0]"
   ]
  },
  {
   "cell_type": "code",
   "execution_count": 5,
   "id": "726f7e5f-beaf-4387-84d0-14f57154d480",
   "metadata": {},
   "outputs": [
    {
     "data": {
      "text/plain": [
       "Height    0\n",
       "Deg       2\n",
       "UTC       0\n",
       "dtype: int64"
      ]
     },
     "execution_count": 5,
     "metadata": {},
     "output_type": "execute_result"
    }
   ],
   "source": [
    "#number of nan values in swell\n",
    "swell.isna().sum()"
   ]
  },
  {
   "cell_type": "code",
   "execution_count": 6,
   "id": "4a95f5d1-86ab-4b46-adc2-986fb00ac1ac",
   "metadata": {},
   "outputs": [],
   "source": [
    "ts = tide.merge(swell, how='left', on='UTC')"
   ]
  },
  {
   "cell_type": "code",
   "execution_count": 7,
   "id": "e1be7568-594e-4bd2-9ae7-23cb93fdaca8",
   "metadata": {},
   "outputs": [
    {
     "data": {
      "text/plain": [
       "UTC        0\n",
       "Tide       0\n",
       "Height    55\n",
       "Deg       57\n",
       "dtype: int64"
      ]
     },
     "execution_count": 7,
     "metadata": {},
     "output_type": "execute_result"
    }
   ],
   "source": [
    "ts.isna().sum()"
   ]
  },
  {
   "cell_type": "markdown",
   "id": "b054e876-415b-4a41-aa6a-8ea2c8476b61",
   "metadata": {},
   "source": [
    "that's what's expected!"
   ]
  },
  {
   "cell_type": "code",
   "execution_count": 8,
   "id": "1d9e85e3-dca5-4427-a6fa-9eb179319218",
   "metadata": {},
   "outputs": [
    {
     "data": {
      "text/plain": [
       "57"
      ]
     },
     "execution_count": 8,
     "metadata": {},
     "output_type": "execute_result"
    }
   ],
   "source": [
    "#number of missing hours in period\n",
    "(24*365*5+24) - period.shape[0]"
   ]
  },
  {
   "cell_type": "code",
   "execution_count": 9,
   "id": "53af1d98-8ddd-4cf4-99a1-97ae89bd4e01",
   "metadata": {},
   "outputs": [
    {
     "data": {
      "text/plain": [
       "UTC       0\n",
       "Period    0\n",
       "dtype: int64"
      ]
     },
     "execution_count": 9,
     "metadata": {},
     "output_type": "execute_result"
    }
   ],
   "source": [
    "#number of nan values in period\n",
    "period.isna().sum()"
   ]
  },
  {
   "cell_type": "code",
   "execution_count": 10,
   "id": "8358f302-ca41-4129-bcd6-ec0070923ac2",
   "metadata": {},
   "outputs": [],
   "source": [
    "tsp = ts.merge(period, how='left', on='UTC')"
   ]
  },
  {
   "cell_type": "code",
   "execution_count": 11,
   "id": "a9ae50e9-171a-48c3-9a3e-fadb31b4af1f",
   "metadata": {},
   "outputs": [
    {
     "data": {
      "text/plain": [
       "UTC          0\n",
       "Tide         0\n",
       "Height      55\n",
       "Deg         57\n",
       "Period    8035\n",
       "dtype: int64"
      ]
     },
     "execution_count": 11,
     "metadata": {},
     "output_type": "execute_result"
    }
   ],
   "source": [
    "tsp.isna().sum()"
   ]
  },
  {
   "cell_type": "markdown",
   "id": "91372364-b4f3-4ea4-afbb-cf87b4712fc9",
   "metadata": {},
   "source": [
    "nooooo"
   ]
  },
  {
   "cell_type": "code",
   "execution_count": 12,
   "id": "f6b21e87-73dc-4e87-8a68-5ed52e9cdeaf",
   "metadata": {},
   "outputs": [
    {
     "data": {
      "text/plain": [
       "(4, [15403, 21538, 27029, 35007])"
      ]
     },
     "execution_count": 12,
     "metadata": {},
     "output_type": "execute_result"
    }
   ],
   "source": [
    "checkHour(period)"
   ]
  },
  {
   "cell_type": "code",
   "execution_count": 13,
   "id": "e49ec759-5e03-4346-a4e9-ca577f470ea7",
   "metadata": {},
   "outputs": [],
   "source": [
    "badi = checkHour(period)[1]\n"
   ]
  },
  {
   "cell_type": "code",
   "execution_count": 17,
   "id": "3ddc5e90-c2db-44c7-8852-7cf801d5533c",
   "metadata": {},
   "outputs": [
    {
     "data": {
      "text/html": [
       "<div>\n",
       "<style scoped>\n",
       "    .dataframe tbody tr th:only-of-type {\n",
       "        vertical-align: middle;\n",
       "    }\n",
       "\n",
       "    .dataframe tbody tr th {\n",
       "        vertical-align: top;\n",
       "    }\n",
       "\n",
       "    .dataframe thead th {\n",
       "        text-align: right;\n",
       "    }\n",
       "</style>\n",
       "<table border=\"1\" class=\"dataframe\">\n",
       "  <thead>\n",
       "    <tr style=\"text-align: right;\">\n",
       "      <th></th>\n",
       "      <th>UTC</th>\n",
       "      <th>Period</th>\n",
       "    </tr>\n",
       "  </thead>\n",
       "  <tbody>\n",
       "    <tr>\n",
       "      <th>35005</th>\n",
       "      <td>2020-12-31 22:30:00+00:00</td>\n",
       "      <td>7</td>\n",
       "    </tr>\n",
       "    <tr>\n",
       "      <th>35006</th>\n",
       "      <td>2020-12-31 23:30:00+00:00</td>\n",
       "      <td>4</td>\n",
       "    </tr>\n",
       "    <tr>\n",
       "      <th>35007</th>\n",
       "      <td>2021-01-01 00:00:00+00:00</td>\n",
       "      <td>7</td>\n",
       "    </tr>\n",
       "    <tr>\n",
       "      <th>35008</th>\n",
       "      <td>2021-01-01 01:00:00+00:00</td>\n",
       "      <td>15</td>\n",
       "    </tr>\n",
       "    <tr>\n",
       "      <th>35009</th>\n",
       "      <td>2021-01-01 02:00:00+00:00</td>\n",
       "      <td>15</td>\n",
       "    </tr>\n",
       "  </tbody>\n",
       "</table>\n",
       "</div>"
      ],
      "text/plain": [
       "                            UTC  Period\n",
       "35005 2020-12-31 22:30:00+00:00       7\n",
       "35006 2020-12-31 23:30:00+00:00       4\n",
       "35007 2021-01-01 00:00:00+00:00       7\n",
       "35008 2021-01-01 01:00:00+00:00      15\n",
       "35009 2021-01-01 02:00:00+00:00      15"
      ]
     },
     "execution_count": 17,
     "metadata": {},
     "output_type": "execute_result"
    }
   ],
   "source": [
    "i=3\n",
    "period.iloc[badi[i]-2:badi[i]+3]"
   ]
  },
  {
   "cell_type": "markdown",
   "id": "d3b7ee8c-971e-4d11-86c2-e88f6fbf710f",
   "metadata": {},
   "source": [
    "Missing 7pm 10/4/2018 <br/>\n",
    "Missing all of 6/18/2019 and the first 18 hours of 6/19 and the last 12 hours of 6/17 <br/>\n",
    "**On 2/3/2020 at 2:30pm measurements are taken at the half hour instead of the hour** <br/>\n",
    "**In the first hour of 2021, measurements go back to top of the hour** <br/>\n",
    "\n",
    "SOooooo all those missing values in the merge are becasue almost a year's worth of period data is at the half hour, not the hour, so gotta change those measurements....not gonna worry about how the accuracy of data changes because only a 30min difference, not a big deal "
   ]
  },
  {
   "cell_type": "code",
   "execution_count": 18,
   "id": "8db51230-72c7-4e6f-989a-88a7636e595c",
   "metadata": {},
   "outputs": [
    {
     "data": {
      "text/plain": [
       "UTC       2020-02-03 14:30:00+00:00\n",
       "Period                            9\n",
       "Name: 27029, dtype: object"
      ]
     },
     "execution_count": 18,
     "metadata": {},
     "output_type": "execute_result"
    }
   ],
   "source": [
    "period.iloc[27029]"
   ]
  },
  {
   "cell_type": "code",
   "execution_count": 21,
   "id": "1163d9ea-2158-4564-a770-4508e4f01a31",
   "metadata": {},
   "outputs": [
    {
     "data": {
      "text/plain": [
       "datetime64[ns, UTC]"
      ]
     },
     "execution_count": 21,
     "metadata": {},
     "output_type": "execute_result"
    }
   ],
   "source": [
    "period['UTC'].dtype"
   ]
  },
  {
   "cell_type": "code",
   "execution_count": 28,
   "id": "fdd9130e-2b50-49b7-99b4-81ce10eebf77",
   "metadata": {},
   "outputs": [
    {
     "name": "stderr",
     "output_type": "stream",
     "text": [
      "C:\\Users\\audre\\AppData\\Local\\Temp\\ipykernel_7068\\876847691.py:1: SettingWithCopyWarning: \n",
      "A value is trying to be set on a copy of a slice from a DataFrame\n",
      "\n",
      "See the caveats in the documentation: https://pandas.pydata.org/pandas-docs/stable/user_guide/indexing.html#returning-a-view-versus-a-copy\n",
      "  period['UTC'].iloc[27029:35007] = period['UTC'].iloc[27029:35007]-timedelta(minutes=30)\n"
     ]
    }
   ],
   "source": [
    "period['UTC'].iloc[27029:35007] = period['UTC'].iloc[27029:35007]-timedelta(minutes=30)"
   ]
  },
  {
   "cell_type": "code",
   "execution_count": 29,
   "id": "70436d9e-b8df-4d6b-82f9-eb5eb4853405",
   "metadata": {},
   "outputs": [
    {
     "data": {
      "text/plain": [
       "(2, [15403, 21538])"
      ]
     },
     "execution_count": 29,
     "metadata": {},
     "output_type": "execute_result"
    }
   ],
   "source": [
    "checkHour(period)"
   ]
  },
  {
   "cell_type": "markdown",
   "id": "a227cdbc-a4a1-447a-a64e-a07faa58a718",
   "metadata": {},
   "source": [
    "These are the normal missing hours we already looked at! "
   ]
  },
  {
   "cell_type": "code",
   "execution_count": 34,
   "id": "6d319858-45c9-4ebb-91c4-f2455d1a244a",
   "metadata": {},
   "outputs": [
    {
     "data": {
      "text/plain": [
       "UTC        0\n",
       "Tide       0\n",
       "Height    55\n",
       "Deg       57\n",
       "Period    57\n",
       "dtype: int64"
      ]
     },
     "execution_count": 34,
     "metadata": {},
     "output_type": "execute_result"
    }
   ],
   "source": [
    "tsp = ts.merge(p, how='left', on='UTC')\n",
    "tsp.isna().sum()"
   ]
  },
  {
   "cell_type": "code",
   "execution_count": 33,
   "id": "95675c56-1aa0-4cb5-ba91-3d2fbaa9ec81",
   "metadata": {},
   "outputs": [],
   "source": [
    "p = pd.read_csv('data/period.csv')"
   ]
  },
  {
   "cell_type": "code",
   "execution_count": null,
   "id": "a4131f44-2108-4c9d-a3a1-ee49a9d0cc03",
   "metadata": {},
   "outputs": [],
   "source": []
  }
 ],
 "metadata": {
  "kernelspec": {
   "display_name": "Python 3.10.8 ('ivsurf-env')",
   "language": "python",
   "name": "python3"
  },
  "language_info": {
   "codemirror_mode": {
    "name": "ipython",
    "version": 3
   },
   "file_extension": ".py",
   "mimetype": "text/x-python",
   "name": "python",
   "nbconvert_exporter": "python",
   "pygments_lexer": "ipython3",
   "version": "3.10.8"
  },
  "vscode": {
   "interpreter": {
    "hash": "94ab3e166c87eb08f52c1f27d18afd75aa2f18bc3012018fbae2a9065e8ea721"
   }
  }
 },
 "nbformat": 4,
 "nbformat_minor": 5
}
