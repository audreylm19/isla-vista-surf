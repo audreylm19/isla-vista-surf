{
 "cells": [
  {
   "cell_type": "markdown",
   "metadata": {},
   "source": [
    "# Goal: \n",
    "### Merge swell, period, wind, and tide data into a singe dataframe"
   ]
  },
  {
   "cell_type": "code",
   "execution_count": 210,
   "metadata": {},
   "outputs": [],
   "source": [
    "import pandas as pd\n",
    "import numpy as np\n",
    "import random\n",
    "\n",
    "from datetime import datetime, timezone, timedelta\n",
    "from zoneinfo import ZoneInfo\n",
    "from astral import LocationInfo\n",
    "from astral.sun import sun"
   ]
  },
  {
   "cell_type": "code",
   "execution_count": 211,
   "metadata": {},
   "outputs": [],
   "source": [
    "swell = pd.read_csv('data/swell.csv')\n",
    "tide = pd.read_csv('data/tide.csv')\n",
    "wind = pd.read_csv('data/wind.csv')\n",
    "period = pd.read_csv('data/period.csv')"
   ]
  },
  {
   "cell_type": "code",
   "execution_count": 212,
   "metadata": {},
   "outputs": [
    {
     "data": {
      "text/plain": [
       "True"
      ]
     },
     "execution_count": 212,
     "metadata": {},
     "output_type": "execute_result"
    }
   ],
   "source": [
    "ts = tide.merge(swell, how='left', on='UTC')\n",
    "\n",
    "#checking to make sure there isn't weirdness with dates\n",
    "date_count = ts['UTC'].value_counts().to_list()\n",
    "\n",
    "ones = np.ones(len(date_count))\n",
    "\n",
    "truth = date_count==ones\n",
    "truth.sum()==ts.shape[0]"
   ]
  },
  {
   "cell_type": "code",
   "execution_count": 213,
   "metadata": {},
   "outputs": [
    {
     "data": {
      "text/plain": [
       "True"
      ]
     },
     "execution_count": 213,
     "metadata": {},
     "output_type": "execute_result"
    }
   ],
   "source": [
    "tsp= ts.merge(period, how='left', on='UTC')\n",
    "\n",
    "#checking to make sure there isn't weirdness with dates\n",
    "date_count = tsp['UTC'].value_counts().to_list()\n",
    "\n",
    "ones = np.ones(len(date_count))\n",
    "\n",
    "truth = date_count==ones\n",
    "truth.sum()==tsp.shape[0]"
   ]
  },
  {
   "cell_type": "code",
   "execution_count": 214,
   "metadata": {},
   "outputs": [
    {
     "data": {
      "text/plain": [
       "UTC        0\n",
       "Tide       0\n",
       "Height    55\n",
       "Deg       57\n",
       "Period    57\n",
       "dtype: int64"
      ]
     },
     "execution_count": 214,
     "metadata": {},
     "output_type": "execute_result"
    }
   ],
   "source": [
    "tsp.isna().sum()"
   ]
  },
  {
   "cell_type": "code",
   "execution_count": 215,
   "metadata": {},
   "outputs": [
    {
     "data": {
      "text/plain": [
       "False"
      ]
     },
     "execution_count": 215,
     "metadata": {},
     "output_type": "execute_result"
    }
   ],
   "source": [
    "tspw = tsp.merge(wind, how='left', on='UTC')\n",
    "\n",
    "#checking to make sure there isn't weirdness with dates\n",
    "date_count = tspw['UTC'].value_counts().to_list()\n",
    "\n",
    "ones = np.ones(len(date_count))\n",
    "\n",
    "truth = date_count==ones\n",
    "truth.sum()==tspw.shape[0]"
   ]
  },
  {
   "cell_type": "code",
   "execution_count": 216,
   "metadata": {},
   "outputs": [
    {
     "data": {
      "text/plain": [
       "2019-06-13 20:00:00+00:00    2\n",
       "2017-01-01 00:00:00+00:00    1\n",
       "2020-05-02 04:00:00+00:00    1\n",
       "2020-05-02 05:00:00+00:00    1\n",
       "2020-05-02 06:00:00+00:00    1\n",
       "                            ..\n",
       "2018-09-01 17:00:00+00:00    1\n",
       "2018-09-01 18:00:00+00:00    1\n",
       "2018-09-01 19:00:00+00:00    1\n",
       "2018-09-01 20:00:00+00:00    1\n",
       "2021-12-31 23:00:00+00:00    1\n",
       "Name: UTC, Length: 43824, dtype: int64"
      ]
     },
     "execution_count": 216,
     "metadata": {},
     "output_type": "execute_result"
    }
   ],
   "source": [
    "tspw['UTC'].value_counts()"
   ]
  },
  {
   "cell_type": "code",
   "execution_count": 217,
   "metadata": {},
   "outputs": [
    {
     "data": {
      "text/html": [
       "<div>\n",
       "<style scoped>\n",
       "    .dataframe tbody tr th:only-of-type {\n",
       "        vertical-align: middle;\n",
       "    }\n",
       "\n",
       "    .dataframe tbody tr th {\n",
       "        vertical-align: top;\n",
       "    }\n",
       "\n",
       "    .dataframe thead th {\n",
       "        text-align: right;\n",
       "    }\n",
       "</style>\n",
       "<table border=\"1\" class=\"dataframe\">\n",
       "  <thead>\n",
       "    <tr style=\"text-align: right;\">\n",
       "      <th></th>\n",
       "      <th>UTC</th>\n",
       "      <th>Tide</th>\n",
       "      <th>Height</th>\n",
       "      <th>Deg</th>\n",
       "      <th>Period</th>\n",
       "      <th>Wind Speed</th>\n",
       "      <th>Wind Direction</th>\n",
       "    </tr>\n",
       "  </thead>\n",
       "  <tbody>\n",
       "    <tr>\n",
       "      <th>21452</th>\n",
       "      <td>2019-06-13 20:00:00+00:00</td>\n",
       "      <td>1.51</td>\n",
       "      <td>1.07</td>\n",
       "      <td>200.0</td>\n",
       "      <td>4.0</td>\n",
       "      <td>9.0</td>\n",
       "      <td>150</td>\n",
       "    </tr>\n",
       "    <tr>\n",
       "      <th>21453</th>\n",
       "      <td>2019-06-13 20:00:00+00:00</td>\n",
       "      <td>1.51</td>\n",
       "      <td>1.07</td>\n",
       "      <td>200.0</td>\n",
       "      <td>4.0</td>\n",
       "      <td>11.0</td>\n",
       "      <td>150</td>\n",
       "    </tr>\n",
       "  </tbody>\n",
       "</table>\n",
       "</div>"
      ],
      "text/plain": [
       "                             UTC  Tide  Height    Deg  Period  Wind Speed  \\\n",
       "21452  2019-06-13 20:00:00+00:00  1.51    1.07  200.0     4.0         9.0   \n",
       "21453  2019-06-13 20:00:00+00:00  1.51    1.07  200.0     4.0        11.0   \n",
       "\n",
       "      Wind Direction  \n",
       "21452            150  \n",
       "21453            150  "
      ]
     },
     "execution_count": 217,
     "metadata": {},
     "output_type": "execute_result"
    }
   ],
   "source": [
    "tspw[tspw['UTC']=='2019-06-13 20:00:00+00:00']"
   ]
  },
  {
   "cell_type": "markdown",
   "metadata": {},
   "source": [
    "Only a little bit of weirdness as far as I can tell, will just drop one of these observations, and make the wind speed 10"
   ]
  },
  {
   "cell_type": "code",
   "execution_count": 218,
   "metadata": {},
   "outputs": [],
   "source": [
    "tspw.iloc[21452,6]=10\n",
    "\n",
    "tspw = tspw.drop(index=21453)"
   ]
  },
  {
   "cell_type": "code",
   "execution_count": 219,
   "metadata": {},
   "outputs": [
    {
     "data": {
      "text/plain": [
       "True"
      ]
     },
     "execution_count": 219,
     "metadata": {},
     "output_type": "execute_result"
    }
   ],
   "source": [
    "#checking to make sure there isn't weirdness with dates\n",
    "date_count = tspw['UTC'].value_counts().to_list()\n",
    "\n",
    "ones = np.ones(len(date_count))\n",
    "\n",
    "truth = date_count==ones\n",
    "truth.sum()==tspw.shape[0]"
   ]
  },
  {
   "cell_type": "code",
   "execution_count": 220,
   "metadata": {},
   "outputs": [
    {
     "data": {
      "text/plain": [
       "UTC                0\n",
       "Tide               0\n",
       "Height            55\n",
       "Deg               57\n",
       "Period            57\n",
       "Wind Speed        57\n",
       "Wind Direction    91\n",
       "dtype: int64"
      ]
     },
     "execution_count": 220,
     "metadata": {},
     "output_type": "execute_result"
    }
   ],
   "source": [
    "tspw.isna().sum()"
   ]
  },
  {
   "cell_type": "markdown",
   "metadata": {},
   "source": [
    "## Got extremely sidetracked\n",
    "because the ZoneInfo module didn't exist on the version of python I was using, went to update python, remembered the thing about virtual environments Alan told me about, was sitting here updating python and realized I should practice using virtual environments....before one minute ago my conda base was the only thing I had altered/downloaded stuff on, which is exactly what you're not supposed to do. So I uninstalled and reinstalled anaconda in order to start from scratch, created a virtual environment called ivsurf-env, and now will be doing my project out of here. Along the way, learned I should be using github as I go and also could potentially be using vscode, so will start to do that \n",
    "## New plan:\n",
    "finish up with the data cleaning and everything, make sure I have a nice pretty dataset I can work with. Then try and reproduce everything I've done and put parts of it into vscode/github according to [this video](https://youtu.be/cn7CnFIQUBo). From there, continue those practices in the analysis/visualization. **Main thing is to have a really nice looking project at the end of this, with a respectable looking github and everything**\n",
    "<br>kinda fun to get organized :)"
   ]
  },
  {
   "cell_type": "markdown",
   "metadata": {
    "tags": []
   },
   "source": [
    "\n",
    "Now the mission is to convert everything to PST, hopefully can use the timezone package built into datetime "
   ]
  },
  {
   "cell_type": "markdown",
   "metadata": {},
   "source": [
    "### gotta convert the UTC column to datetime object because csv's cannot store those"
   ]
  },
  {
   "cell_type": "code",
   "execution_count": 221,
   "metadata": {},
   "outputs": [
    {
     "data": {
      "text/plain": [
       "datetime64[ns, UTC]"
      ]
     },
     "execution_count": 221,
     "metadata": {},
     "output_type": "execute_result"
    }
   ],
   "source": [
    "tspw['UTC'] = pd.to_datetime(tspw['UTC'], utc=True)\n",
    "\n",
    "tspw['UTC'].dtype"
   ]
  },
  {
   "cell_type": "code",
   "execution_count": 222,
   "metadata": {},
   "outputs": [
    {
     "data": {
      "text/plain": [
       "<UTC>"
      ]
     },
     "execution_count": 222,
     "metadata": {},
     "output_type": "execute_result"
    }
   ],
   "source": [
    "tspw['UTC'][0].tzinfo"
   ]
  },
  {
   "cell_type": "code",
   "execution_count": 223,
   "metadata": {},
   "outputs": [
    {
     "data": {
      "text/plain": [
       "datetime.timedelta(0)"
      ]
     },
     "execution_count": 223,
     "metadata": {},
     "output_type": "execute_result"
    }
   ],
   "source": [
    "tspw['UTC'][0].tzinfo.utcoffset(tspw['UTC'][0])"
   ]
  },
  {
   "cell_type": "markdown",
   "metadata": {},
   "source": [
    "My datetime objects are *aware*"
   ]
  },
  {
   "cell_type": "code",
   "execution_count": 224,
   "metadata": {},
   "outputs": [],
   "source": [
    "LA = ZoneInfo('America/Los_Angeles')\n",
    "timezone = zoneinfo.ZoneInfo(\"America/Los_Angeles\")\n",
    "iv = LocationInfo(\"Isla Vista\", \"California\", \"America/Los_Angeles\", 34.41302853802114, -119.8615254859206) #lat and long from google maps\n",
    "\n",
    "s = sun(iv.observer, date=tspw['UTC'][4128].astimezone(tz=LA), tzinfo=timezone)"
   ]
  },
  {
   "cell_type": "code",
   "execution_count": 225,
   "metadata": {},
   "outputs": [
    {
     "name": "stdout",
     "output_type": "stream",
     "text": [
      "Dawn:    2017-06-21 05:17:49.291788-07:00\n",
      "Sunrise: 2017-06-21 05:47:49.250841-07:00\n",
      "Noon:    2017-06-21 13:01:20-07:00\n",
      "Sunset:  2017-06-21 20:14:53.486789-07:00\n",
      "Dusk:    2017-06-21 20:44:53.332313-07:00\n",
      "\n"
     ]
    }
   ],
   "source": [
    "print((\n",
    "    f'Dawn:    {s[\"dawn\"]}\\n'\n",
    "    f'Sunrise: {s[\"sunrise\"]}\\n'\n",
    "    f'Noon:    {s[\"noon\"]}\\n'\n",
    "    f'Sunset:  {s[\"sunset\"]}\\n'\n",
    "    f'Dusk:    {s[\"dusk\"]}\\n'\n",
    "))"
   ]
  },
  {
   "cell_type": "markdown",
   "metadata": {},
   "source": [
    "#### Above times look right, don't think daylight savings is in here which is good bc irrelevant"
   ]
  },
  {
   "cell_type": "markdown",
   "metadata": {},
   "source": [
    "#### Method: \n",
    "- convert all times to PST with ```.astimezon(tz=ZoneInfo('America/Los_Angeles'))```\n",
    "- create ```Dawn``` and ```Dusk``` columns for each entry with ```s['dawn']``` and ```s['dusk']```\n",
    "- drop all entries that do not occur between dawn and dusk\n",
    "- Daylight Savings Time isn't an issue bc astral takes care of it"
   ]
  },
  {
   "cell_type": "code",
   "execution_count": 226,
   "metadata": {},
   "outputs": [],
   "source": [
    "PST = ZoneInfo('America/Los_Angeles')\n",
    "\n",
    "pstlist = [x.astimezone(tz=PST) for x in tspw['UTC']]\n",
    "\n",
    "tspw['PST']=pstlist"
   ]
  },
  {
   "cell_type": "code",
   "execution_count": 228,
   "metadata": {},
   "outputs": [
    {
     "data": {
      "text/html": [
       "<div>\n",
       "<style scoped>\n",
       "    .dataframe tbody tr th:only-of-type {\n",
       "        vertical-align: middle;\n",
       "    }\n",
       "\n",
       "    .dataframe tbody tr th {\n",
       "        vertical-align: top;\n",
       "    }\n",
       "\n",
       "    .dataframe thead th {\n",
       "        text-align: right;\n",
       "    }\n",
       "</style>\n",
       "<table border=\"1\" class=\"dataframe\">\n",
       "  <thead>\n",
       "    <tr style=\"text-align: right;\">\n",
       "      <th></th>\n",
       "      <th>UTC</th>\n",
       "      <th>Tide</th>\n",
       "      <th>Height</th>\n",
       "      <th>Deg</th>\n",
       "      <th>Period</th>\n",
       "      <th>Wind Speed</th>\n",
       "      <th>Wind Direction</th>\n",
       "      <th>PST</th>\n",
       "    </tr>\n",
       "  </thead>\n",
       "  <tbody>\n",
       "    <tr>\n",
       "      <th>0</th>\n",
       "      <td>2017-01-01 00:00:00+00:00</td>\n",
       "      <td>0.31</td>\n",
       "      <td>2.79</td>\n",
       "      <td>300.0</td>\n",
       "      <td>11.0</td>\n",
       "      <td>NaN</td>\n",
       "      <td>NaN</td>\n",
       "      <td>2016-12-31 16:00:00-08:00</td>\n",
       "    </tr>\n",
       "    <tr>\n",
       "      <th>1</th>\n",
       "      <td>2017-01-01 01:00:00+00:00</td>\n",
       "      <td>-0.19</td>\n",
       "      <td>2.82</td>\n",
       "      <td>313.0</td>\n",
       "      <td>11.0</td>\n",
       "      <td>NaN</td>\n",
       "      <td>NaN</td>\n",
       "      <td>2016-12-31 17:00:00-08:00</td>\n",
       "    </tr>\n",
       "    <tr>\n",
       "      <th>2</th>\n",
       "      <td>2017-01-01 02:00:00+00:00</td>\n",
       "      <td>-0.09</td>\n",
       "      <td>2.97</td>\n",
       "      <td>309.0</td>\n",
       "      <td>11.0</td>\n",
       "      <td>NaN</td>\n",
       "      <td>NaN</td>\n",
       "      <td>2016-12-31 18:00:00-08:00</td>\n",
       "    </tr>\n",
       "    <tr>\n",
       "      <th>3</th>\n",
       "      <td>2017-01-01 03:00:00+00:00</td>\n",
       "      <td>0.62</td>\n",
       "      <td>2.97</td>\n",
       "      <td>312.0</td>\n",
       "      <td>11.0</td>\n",
       "      <td>NaN</td>\n",
       "      <td>NaN</td>\n",
       "      <td>2016-12-31 19:00:00-08:00</td>\n",
       "    </tr>\n",
       "    <tr>\n",
       "      <th>4</th>\n",
       "      <td>2017-01-01 04:00:00+00:00</td>\n",
       "      <td>1.44</td>\n",
       "      <td>2.67</td>\n",
       "      <td>310.0</td>\n",
       "      <td>11.0</td>\n",
       "      <td>NaN</td>\n",
       "      <td>NaN</td>\n",
       "      <td>2016-12-31 20:00:00-08:00</td>\n",
       "    </tr>\n",
       "    <tr>\n",
       "      <th>5</th>\n",
       "      <td>2017-01-01 05:00:00+00:00</td>\n",
       "      <td>2.63</td>\n",
       "      <td>3.18</td>\n",
       "      <td>309.0</td>\n",
       "      <td>11.0</td>\n",
       "      <td>NaN</td>\n",
       "      <td>NaN</td>\n",
       "      <td>2016-12-31 21:00:00-08:00</td>\n",
       "    </tr>\n",
       "    <tr>\n",
       "      <th>6</th>\n",
       "      <td>2017-01-01 06:00:00+00:00</td>\n",
       "      <td>3.38</td>\n",
       "      <td>3.01</td>\n",
       "      <td>314.0</td>\n",
       "      <td>11.0</td>\n",
       "      <td>NaN</td>\n",
       "      <td>NaN</td>\n",
       "      <td>2016-12-31 22:00:00-08:00</td>\n",
       "    </tr>\n",
       "    <tr>\n",
       "      <th>7</th>\n",
       "      <td>2017-01-01 07:00:00+00:00</td>\n",
       "      <td>4.03</td>\n",
       "      <td>3.04</td>\n",
       "      <td>310.0</td>\n",
       "      <td>11.0</td>\n",
       "      <td>NaN</td>\n",
       "      <td>NaN</td>\n",
       "      <td>2016-12-31 23:00:00-08:00</td>\n",
       "    </tr>\n",
       "    <tr>\n",
       "      <th>8</th>\n",
       "      <td>2017-01-01 08:00:00+00:00</td>\n",
       "      <td>4.32</td>\n",
       "      <td>2.79</td>\n",
       "      <td>299.0</td>\n",
       "      <td>11.0</td>\n",
       "      <td>NaN</td>\n",
       "      <td>NaN</td>\n",
       "      <td>2017-01-01 00:00:00-08:00</td>\n",
       "    </tr>\n",
       "    <tr>\n",
       "      <th>9</th>\n",
       "      <td>2017-01-01 09:00:00+00:00</td>\n",
       "      <td>3.83</td>\n",
       "      <td>3.08</td>\n",
       "      <td>312.0</td>\n",
       "      <td>13.0</td>\n",
       "      <td>3.0</td>\n",
       "      <td>50</td>\n",
       "      <td>2017-01-01 01:00:00-08:00</td>\n",
       "    </tr>\n",
       "    <tr>\n",
       "      <th>10</th>\n",
       "      <td>2017-01-01 10:00:00+00:00</td>\n",
       "      <td>3.49</td>\n",
       "      <td>3.28</td>\n",
       "      <td>312.0</td>\n",
       "      <td>13.0</td>\n",
       "      <td>0.0</td>\n",
       "      <td>000</td>\n",
       "      <td>2017-01-01 02:00:00-08:00</td>\n",
       "    </tr>\n",
       "    <tr>\n",
       "      <th>11</th>\n",
       "      <td>2017-01-01 11:00:00+00:00</td>\n",
       "      <td>3.05</td>\n",
       "      <td>2.75</td>\n",
       "      <td>312.0</td>\n",
       "      <td>11.0</td>\n",
       "      <td>0.0</td>\n",
       "      <td>000</td>\n",
       "      <td>2017-01-01 03:00:00-08:00</td>\n",
       "    </tr>\n",
       "    <tr>\n",
       "      <th>12</th>\n",
       "      <td>2017-01-01 12:00:00+00:00</td>\n",
       "      <td>2.68</td>\n",
       "      <td>2.72</td>\n",
       "      <td>307.0</td>\n",
       "      <td>13.0</td>\n",
       "      <td>7.0</td>\n",
       "      <td>20</td>\n",
       "      <td>2017-01-01 04:00:00-08:00</td>\n",
       "    </tr>\n",
       "    <tr>\n",
       "      <th>13</th>\n",
       "      <td>2017-01-01 13:00:00+00:00</td>\n",
       "      <td>2.84</td>\n",
       "      <td>2.77</td>\n",
       "      <td>313.0</td>\n",
       "      <td>13.0</td>\n",
       "      <td>0.0</td>\n",
       "      <td>000</td>\n",
       "      <td>2017-01-01 05:00:00-08:00</td>\n",
       "    </tr>\n",
       "    <tr>\n",
       "      <th>14</th>\n",
       "      <td>2017-01-01 14:00:00+00:00</td>\n",
       "      <td>3.18</td>\n",
       "      <td>2.59</td>\n",
       "      <td>303.0</td>\n",
       "      <td>11.0</td>\n",
       "      <td>6.0</td>\n",
       "      <td>80</td>\n",
       "      <td>2017-01-01 06:00:00-08:00</td>\n",
       "    </tr>\n",
       "    <tr>\n",
       "      <th>15</th>\n",
       "      <td>2017-01-01 15:00:00+00:00</td>\n",
       "      <td>3.82</td>\n",
       "      <td>2.47</td>\n",
       "      <td>306.0</td>\n",
       "      <td>11.0</td>\n",
       "      <td>7.0</td>\n",
       "      <td>260</td>\n",
       "      <td>2017-01-01 07:00:00-08:00</td>\n",
       "    </tr>\n",
       "    <tr>\n",
       "      <th>16</th>\n",
       "      <td>2017-01-01 16:00:00+00:00</td>\n",
       "      <td>4.42</td>\n",
       "      <td>2.37</td>\n",
       "      <td>309.0</td>\n",
       "      <td>9.0</td>\n",
       "      <td>6.0</td>\n",
       "      <td>40</td>\n",
       "      <td>2017-01-01 08:00:00-08:00</td>\n",
       "    </tr>\n",
       "    <tr>\n",
       "      <th>17</th>\n",
       "      <td>2017-01-01 17:00:00+00:00</td>\n",
       "      <td>5.13</td>\n",
       "      <td>2.38</td>\n",
       "      <td>310.0</td>\n",
       "      <td>11.0</td>\n",
       "      <td>0.0</td>\n",
       "      <td>000</td>\n",
       "      <td>2017-01-01 09:00:00-08:00</td>\n",
       "    </tr>\n",
       "    <tr>\n",
       "      <th>18</th>\n",
       "      <td>2017-01-01 18:00:00+00:00</td>\n",
       "      <td>5.66</td>\n",
       "      <td>2.66</td>\n",
       "      <td>314.0</td>\n",
       "      <td>11.0</td>\n",
       "      <td>0.0</td>\n",
       "      <td>000</td>\n",
       "      <td>2017-01-01 10:00:00-08:00</td>\n",
       "    </tr>\n",
       "    <tr>\n",
       "      <th>19</th>\n",
       "      <td>2017-01-01 19:00:00+00:00</td>\n",
       "      <td>5.71</td>\n",
       "      <td>2.38</td>\n",
       "      <td>303.0</td>\n",
       "      <td>11.0</td>\n",
       "      <td>5.0</td>\n",
       "      <td>150</td>\n",
       "      <td>2017-01-01 11:00:00-08:00</td>\n",
       "    </tr>\n",
       "    <tr>\n",
       "      <th>20</th>\n",
       "      <td>2017-01-01 20:00:00+00:00</td>\n",
       "      <td>4.86</td>\n",
       "      <td>2.54</td>\n",
       "      <td>306.0</td>\n",
       "      <td>4.0</td>\n",
       "      <td>6.0</td>\n",
       "      <td>260</td>\n",
       "      <td>2017-01-01 12:00:00-08:00</td>\n",
       "    </tr>\n",
       "    <tr>\n",
       "      <th>21</th>\n",
       "      <td>2017-01-01 21:00:00+00:00</td>\n",
       "      <td>4.30</td>\n",
       "      <td>2.41</td>\n",
       "      <td>300.0</td>\n",
       "      <td>4.0</td>\n",
       "      <td>8.0</td>\n",
       "      <td>230</td>\n",
       "      <td>2017-01-01 13:00:00-08:00</td>\n",
       "    </tr>\n",
       "    <tr>\n",
       "      <th>22</th>\n",
       "      <td>2017-01-01 22:00:00+00:00</td>\n",
       "      <td>3.33</td>\n",
       "      <td>2.62</td>\n",
       "      <td>312.0</td>\n",
       "      <td>4.0</td>\n",
       "      <td>8.0</td>\n",
       "      <td>110</td>\n",
       "      <td>2017-01-01 14:00:00-08:00</td>\n",
       "    </tr>\n",
       "    <tr>\n",
       "      <th>23</th>\n",
       "      <td>2017-01-01 23:00:00+00:00</td>\n",
       "      <td>1.85</td>\n",
       "      <td>2.59</td>\n",
       "      <td>313.0</td>\n",
       "      <td>4.0</td>\n",
       "      <td>3.0</td>\n",
       "      <td>VRB</td>\n",
       "      <td>2017-01-01 15:00:00-08:00</td>\n",
       "    </tr>\n",
       "    <tr>\n",
       "      <th>24</th>\n",
       "      <td>2017-01-02 00:00:00+00:00</td>\n",
       "      <td>0.82</td>\n",
       "      <td>2.72</td>\n",
       "      <td>316.0</td>\n",
       "      <td>11.0</td>\n",
       "      <td>5.0</td>\n",
       "      <td>300</td>\n",
       "      <td>2017-01-01 16:00:00-08:00</td>\n",
       "    </tr>\n",
       "  </tbody>\n",
       "</table>\n",
       "</div>"
      ],
      "text/plain": [
       "                         UTC  Tide  Height    Deg  Period  Wind Speed  \\\n",
       "0  2017-01-01 00:00:00+00:00  0.31    2.79  300.0    11.0         NaN   \n",
       "1  2017-01-01 01:00:00+00:00 -0.19    2.82  313.0    11.0         NaN   \n",
       "2  2017-01-01 02:00:00+00:00 -0.09    2.97  309.0    11.0         NaN   \n",
       "3  2017-01-01 03:00:00+00:00  0.62    2.97  312.0    11.0         NaN   \n",
       "4  2017-01-01 04:00:00+00:00  1.44    2.67  310.0    11.0         NaN   \n",
       "5  2017-01-01 05:00:00+00:00  2.63    3.18  309.0    11.0         NaN   \n",
       "6  2017-01-01 06:00:00+00:00  3.38    3.01  314.0    11.0         NaN   \n",
       "7  2017-01-01 07:00:00+00:00  4.03    3.04  310.0    11.0         NaN   \n",
       "8  2017-01-01 08:00:00+00:00  4.32    2.79  299.0    11.0         NaN   \n",
       "9  2017-01-01 09:00:00+00:00  3.83    3.08  312.0    13.0         3.0   \n",
       "10 2017-01-01 10:00:00+00:00  3.49    3.28  312.0    13.0         0.0   \n",
       "11 2017-01-01 11:00:00+00:00  3.05    2.75  312.0    11.0         0.0   \n",
       "12 2017-01-01 12:00:00+00:00  2.68    2.72  307.0    13.0         7.0   \n",
       "13 2017-01-01 13:00:00+00:00  2.84    2.77  313.0    13.0         0.0   \n",
       "14 2017-01-01 14:00:00+00:00  3.18    2.59  303.0    11.0         6.0   \n",
       "15 2017-01-01 15:00:00+00:00  3.82    2.47  306.0    11.0         7.0   \n",
       "16 2017-01-01 16:00:00+00:00  4.42    2.37  309.0     9.0         6.0   \n",
       "17 2017-01-01 17:00:00+00:00  5.13    2.38  310.0    11.0         0.0   \n",
       "18 2017-01-01 18:00:00+00:00  5.66    2.66  314.0    11.0         0.0   \n",
       "19 2017-01-01 19:00:00+00:00  5.71    2.38  303.0    11.0         5.0   \n",
       "20 2017-01-01 20:00:00+00:00  4.86    2.54  306.0     4.0         6.0   \n",
       "21 2017-01-01 21:00:00+00:00  4.30    2.41  300.0     4.0         8.0   \n",
       "22 2017-01-01 22:00:00+00:00  3.33    2.62  312.0     4.0         8.0   \n",
       "23 2017-01-01 23:00:00+00:00  1.85    2.59  313.0     4.0         3.0   \n",
       "24 2017-01-02 00:00:00+00:00  0.82    2.72  316.0    11.0         5.0   \n",
       "\n",
       "   Wind Direction                       PST  \n",
       "0             NaN 2016-12-31 16:00:00-08:00  \n",
       "1             NaN 2016-12-31 17:00:00-08:00  \n",
       "2             NaN 2016-12-31 18:00:00-08:00  \n",
       "3             NaN 2016-12-31 19:00:00-08:00  \n",
       "4             NaN 2016-12-31 20:00:00-08:00  \n",
       "5             NaN 2016-12-31 21:00:00-08:00  \n",
       "6             NaN 2016-12-31 22:00:00-08:00  \n",
       "7             NaN 2016-12-31 23:00:00-08:00  \n",
       "8             NaN 2017-01-01 00:00:00-08:00  \n",
       "9              50 2017-01-01 01:00:00-08:00  \n",
       "10            000 2017-01-01 02:00:00-08:00  \n",
       "11            000 2017-01-01 03:00:00-08:00  \n",
       "12             20 2017-01-01 04:00:00-08:00  \n",
       "13            000 2017-01-01 05:00:00-08:00  \n",
       "14             80 2017-01-01 06:00:00-08:00  \n",
       "15            260 2017-01-01 07:00:00-08:00  \n",
       "16             40 2017-01-01 08:00:00-08:00  \n",
       "17            000 2017-01-01 09:00:00-08:00  \n",
       "18            000 2017-01-01 10:00:00-08:00  \n",
       "19            150 2017-01-01 11:00:00-08:00  \n",
       "20            260 2017-01-01 12:00:00-08:00  \n",
       "21            230 2017-01-01 13:00:00-08:00  \n",
       "22            110 2017-01-01 14:00:00-08:00  \n",
       "23            VRB 2017-01-01 15:00:00-08:00  \n",
       "24            300 2017-01-01 16:00:00-08:00  "
      ]
     },
     "execution_count": 228,
     "metadata": {},
     "output_type": "execute_result"
    }
   ],
   "source": [
    "tspw.head(25)"
   ]
  },
  {
   "cell_type": "code",
   "execution_count": 229,
   "metadata": {},
   "outputs": [
    {
     "data": {
      "text/plain": [
       "True"
      ]
     },
     "execution_count": 229,
     "metadata": {},
     "output_type": "execute_result"
    }
   ],
   "source": [
    "#check random time\n",
    "i = random.randrange(tspw.iloc[-1].name)\n",
    "tspw['UTC'][i] == tspw['PST'][i].astimezone(tz=ZoneInfo('UTC'))"
   ]
  },
  {
   "cell_type": "code",
   "execution_count": 230,
   "metadata": {},
   "outputs": [],
   "source": [
    "s = sun(iv.observer, date=tspw['PST'][4128], tzinfo=PST)"
   ]
  },
  {
   "cell_type": "code",
   "execution_count": 231,
   "metadata": {},
   "outputs": [
    {
     "name": "stdout",
     "output_type": "stream",
     "text": [
      "Dawn:    2017-06-21 05:17:49.291788-07:00\n",
      "Sunrise: 2017-06-21 05:47:49.250841-07:00\n",
      "Noon:    2017-06-21 13:01:20-07:00\n",
      "Sunset:  2017-06-21 20:14:53.486789-07:00\n",
      "Dusk:    2017-06-21 20:44:53.332313-07:00\n",
      "\n"
     ]
    }
   ],
   "source": [
    "print((\n",
    "    f'Dawn:    {s[\"dawn\"]}\\n'\n",
    "    f'Sunrise: {s[\"sunrise\"]}\\n'\n",
    "    f'Noon:    {s[\"noon\"]}\\n'\n",
    "    f'Sunset:  {s[\"sunset\"]}\\n'\n",
    "    f'Dusk:    {s[\"dusk\"]}\\n'\n",
    "))"
   ]
  },
  {
   "cell_type": "markdown",
   "metadata": {},
   "source": [
    "### ^^^ with this -7 thing instead of -8, there might actually be daylight savings info in there....looks like it's taken care of though?"
   ]
  },
  {
   "cell_type": "code",
   "execution_count": 232,
   "metadata": {},
   "outputs": [
    {
     "data": {
      "text/plain": [
       "datetime.datetime(2017, 6, 21, 5, 17, 49, 291788, tzinfo=zoneinfo.ZoneInfo(key='America/Los_Angeles'))"
      ]
     },
     "execution_count": 232,
     "metadata": {},
     "output_type": "execute_result"
    }
   ],
   "source": [
    "s['dawn']"
   ]
  },
  {
   "cell_type": "code",
   "execution_count": 233,
   "metadata": {},
   "outputs": [
    {
     "data": {
      "text/plain": [
       "43824"
      ]
     },
     "execution_count": 233,
     "metadata": {},
     "output_type": "execute_result"
    }
   ],
   "source": [
    "len(tspw.index.to_list())"
   ]
  },
  {
   "cell_type": "code",
   "execution_count": 234,
   "metadata": {},
   "outputs": [
    {
     "data": {
      "text/plain": [
       "UTC               2021-12-31 23:00:00+00:00\n",
       "Tide                                  -0.71\n",
       "Height                                  2.9\n",
       "Deg                                   306.0\n",
       "Period                                  7.0\n",
       "Wind Speed                             18.0\n",
       "Wind Direction                          270\n",
       "PST               2021-12-31 15:00:00-08:00\n",
       "Name: 43824, dtype: object"
      ]
     },
     "execution_count": 234,
     "metadata": {},
     "output_type": "execute_result"
    }
   ],
   "source": [
    "tspw.iloc[-1]"
   ]
  },
  {
   "cell_type": "code",
   "execution_count": 235,
   "metadata": {},
   "outputs": [],
   "source": [
    "#create Dawn column\n",
    "iv = LocationInfo(\"Isla Vista\", \"California\", \"America/Los_Angeles\", 34.41302853802114, -119.8615254859206)\n",
    "\n",
    "dawn=[]\n",
    "for i in tspw.index.to_list():\n",
    "    s = sun(iv.observer, date=tspw['PST'][i], tzinfo=PST)\n",
    "    dawn.append(s['dawn'])\n",
    "\n",
    "tspw['Dawn'] = dawn\n",
    "\n",
    "#create Dusk column\n",
    "iv = LocationInfo(\"Isla Vista\", \"California\", \"America/Los_Angeles\", 34.41302853802114, -119.8615254859206)\n",
    "\n",
    "dusk=[]\n",
    "for i in tspw.index.to_list():\n",
    "    s = sun(iv.observer, date=tspw['PST'][i], tzinfo=PST)\n",
    "    dusk.append(s['dusk'])\n",
    "\n",
    "tspw['Dusk'] = dusk"
   ]
  },
  {
   "cell_type": "markdown",
   "metadata": {},
   "source": [
    "Daylight savings time is built into astral, and the dawn/dusk times take this into account, so no need to worry"
   ]
  },
  {
   "cell_type": "code",
   "execution_count": 237,
   "metadata": {},
   "outputs": [
    {
     "data": {
      "text/html": [
       "<div>\n",
       "<style scoped>\n",
       "    .dataframe tbody tr th:only-of-type {\n",
       "        vertical-align: middle;\n",
       "    }\n",
       "\n",
       "    .dataframe tbody tr th {\n",
       "        vertical-align: top;\n",
       "    }\n",
       "\n",
       "    .dataframe thead th {\n",
       "        text-align: right;\n",
       "    }\n",
       "</style>\n",
       "<table border=\"1\" class=\"dataframe\">\n",
       "  <thead>\n",
       "    <tr style=\"text-align: right;\">\n",
       "      <th></th>\n",
       "      <th>UTC</th>\n",
       "      <th>Tide</th>\n",
       "      <th>Height</th>\n",
       "      <th>Deg</th>\n",
       "      <th>Period</th>\n",
       "      <th>Wind Speed</th>\n",
       "      <th>Wind Direction</th>\n",
       "      <th>PST</th>\n",
       "      <th>Dawn</th>\n",
       "      <th>Dusk</th>\n",
       "    </tr>\n",
       "  </thead>\n",
       "  <tbody>\n",
       "    <tr>\n",
       "      <th>0</th>\n",
       "      <td>2017-01-01 00:00:00+00:00</td>\n",
       "      <td>0.31</td>\n",
       "      <td>2.79</td>\n",
       "      <td>300.0</td>\n",
       "      <td>11.0</td>\n",
       "      <td>NaN</td>\n",
       "      <td>NaN</td>\n",
       "      <td>2016-12-31 16:00:00-08:00</td>\n",
       "      <td>2016-12-31 06:37:44.271510-08:00</td>\n",
       "      <td>2016-12-31 17:27:59.126429-08:00</td>\n",
       "    </tr>\n",
       "    <tr>\n",
       "      <th>1</th>\n",
       "      <td>2017-01-01 01:00:00+00:00</td>\n",
       "      <td>-0.19</td>\n",
       "      <td>2.82</td>\n",
       "      <td>313.0</td>\n",
       "      <td>11.0</td>\n",
       "      <td>NaN</td>\n",
       "      <td>NaN</td>\n",
       "      <td>2016-12-31 17:00:00-08:00</td>\n",
       "      <td>2016-12-31 06:37:44.271510-08:00</td>\n",
       "      <td>2016-12-31 17:27:59.126429-08:00</td>\n",
       "    </tr>\n",
       "    <tr>\n",
       "      <th>2</th>\n",
       "      <td>2017-01-01 02:00:00+00:00</td>\n",
       "      <td>-0.09</td>\n",
       "      <td>2.97</td>\n",
       "      <td>309.0</td>\n",
       "      <td>11.0</td>\n",
       "      <td>NaN</td>\n",
       "      <td>NaN</td>\n",
       "      <td>2016-12-31 18:00:00-08:00</td>\n",
       "      <td>2016-12-31 06:37:44.271510-08:00</td>\n",
       "      <td>2016-12-31 17:27:59.126429-08:00</td>\n",
       "    </tr>\n",
       "    <tr>\n",
       "      <th>3</th>\n",
       "      <td>2017-01-01 03:00:00+00:00</td>\n",
       "      <td>0.62</td>\n",
       "      <td>2.97</td>\n",
       "      <td>312.0</td>\n",
       "      <td>11.0</td>\n",
       "      <td>NaN</td>\n",
       "      <td>NaN</td>\n",
       "      <td>2016-12-31 19:00:00-08:00</td>\n",
       "      <td>2016-12-31 06:37:44.271510-08:00</td>\n",
       "      <td>2016-12-31 17:27:59.126429-08:00</td>\n",
       "    </tr>\n",
       "    <tr>\n",
       "      <th>4</th>\n",
       "      <td>2017-01-01 04:00:00+00:00</td>\n",
       "      <td>1.44</td>\n",
       "      <td>2.67</td>\n",
       "      <td>310.0</td>\n",
       "      <td>11.0</td>\n",
       "      <td>NaN</td>\n",
       "      <td>NaN</td>\n",
       "      <td>2016-12-31 20:00:00-08:00</td>\n",
       "      <td>2016-12-31 06:37:44.271510-08:00</td>\n",
       "      <td>2016-12-31 17:27:59.126429-08:00</td>\n",
       "    </tr>\n",
       "  </tbody>\n",
       "</table>\n",
       "</div>"
      ],
      "text/plain": [
       "                        UTC  Tide  Height    Deg  Period  Wind Speed  \\\n",
       "0 2017-01-01 00:00:00+00:00  0.31    2.79  300.0    11.0         NaN   \n",
       "1 2017-01-01 01:00:00+00:00 -0.19    2.82  313.0    11.0         NaN   \n",
       "2 2017-01-01 02:00:00+00:00 -0.09    2.97  309.0    11.0         NaN   \n",
       "3 2017-01-01 03:00:00+00:00  0.62    2.97  312.0    11.0         NaN   \n",
       "4 2017-01-01 04:00:00+00:00  1.44    2.67  310.0    11.0         NaN   \n",
       "\n",
       "  Wind Direction                       PST                             Dawn  \\\n",
       "0            NaN 2016-12-31 16:00:00-08:00 2016-12-31 06:37:44.271510-08:00   \n",
       "1            NaN 2016-12-31 17:00:00-08:00 2016-12-31 06:37:44.271510-08:00   \n",
       "2            NaN 2016-12-31 18:00:00-08:00 2016-12-31 06:37:44.271510-08:00   \n",
       "3            NaN 2016-12-31 19:00:00-08:00 2016-12-31 06:37:44.271510-08:00   \n",
       "4            NaN 2016-12-31 20:00:00-08:00 2016-12-31 06:37:44.271510-08:00   \n",
       "\n",
       "                              Dusk  \n",
       "0 2016-12-31 17:27:59.126429-08:00  \n",
       "1 2016-12-31 17:27:59.126429-08:00  \n",
       "2 2016-12-31 17:27:59.126429-08:00  \n",
       "3 2016-12-31 17:27:59.126429-08:00  \n",
       "4 2016-12-31 17:27:59.126429-08:00  "
      ]
     },
     "execution_count": 237,
     "metadata": {},
     "output_type": "execute_result"
    }
   ],
   "source": [
    "tspw.head()"
   ]
  },
  {
   "cell_type": "code",
   "execution_count": 238,
   "metadata": {},
   "outputs": [],
   "source": [
    "day=[]\n",
    "for i in tspw.index.to_list():\n",
    "    day.append(tspw['Dawn'][i] <= tspw['PST'][i] <= tspw['Dusk'][i])"
   ]
  },
  {
   "cell_type": "code",
   "execution_count": 242,
   "metadata": {},
   "outputs": [
    {
     "data": {
      "text/plain": [
       "PST                0\n",
       "Tide               0\n",
       "Height            36\n",
       "Deg               37\n",
       "Period            37\n",
       "Wind Speed        31\n",
       "Wind Direction    46\n",
       "dtype: int64"
      ]
     },
     "execution_count": 242,
     "metadata": {},
     "output_type": "execute_result"
    }
   ],
   "source": [
    "tspw[day][['PST','Tide','Height','Deg','Period','Wind Speed', 'Wind Direction']].isna().sum()"
   ]
  },
  {
   "cell_type": "code",
   "execution_count": 245,
   "metadata": {},
   "outputs": [
    {
     "data": {
      "text/plain": [
       "0        False\n",
       "1        False\n",
       "15       False\n",
       "16       False\n",
       "17       False\n",
       "         ...  \n",
       "43820    False\n",
       "43821    False\n",
       "43822    False\n",
       "43823    False\n",
       "43824    False\n",
       "Name: Height, Length: 23852, dtype: bool"
      ]
     },
     "execution_count": 245,
     "metadata": {},
     "output_type": "execute_result"
    }
   ],
   "source": [
    "tspw[day]['Height'].isna()"
   ]
  },
  {
   "cell_type": "code",
   "execution_count": 248,
   "metadata": {},
   "outputs": [],
   "source": [
    "dl = tspw[day][['PST','Tide','Height','Deg','Period','Wind Speed', 'Wind Direction']].drop(index=[0,1])"
   ]
  },
  {
   "cell_type": "code",
   "execution_count": 250,
   "metadata": {},
   "outputs": [
    {
     "data": {
      "text/plain": [
       "PST                0\n",
       "Tide               0\n",
       "Height            36\n",
       "Deg               37\n",
       "Period            37\n",
       "Wind Speed        29\n",
       "Wind Direction    44\n",
       "dtype: int64"
      ]
     },
     "execution_count": 250,
     "metadata": {},
     "output_type": "execute_result"
    }
   ],
   "source": [
    "dl.isna().sum()"
   ]
  },
  {
   "cell_type": "code",
   "execution_count": 256,
   "metadata": {},
   "outputs": [
    {
     "data": {
      "text/html": [
       "<div>\n",
       "<style scoped>\n",
       "    .dataframe tbody tr th:only-of-type {\n",
       "        vertical-align: middle;\n",
       "    }\n",
       "\n",
       "    .dataframe tbody tr th {\n",
       "        vertical-align: top;\n",
       "    }\n",
       "\n",
       "    .dataframe thead th {\n",
       "        text-align: right;\n",
       "    }\n",
       "</style>\n",
       "<table border=\"1\" class=\"dataframe\">\n",
       "  <thead>\n",
       "    <tr style=\"text-align: right;\">\n",
       "      <th></th>\n",
       "      <th>PST</th>\n",
       "      <th>Tide</th>\n",
       "      <th>Height</th>\n",
       "      <th>Deg</th>\n",
       "      <th>Period</th>\n",
       "      <th>Wind Speed</th>\n",
       "      <th>Wind Direction</th>\n",
       "    </tr>\n",
       "  </thead>\n",
       "  <tbody>\n",
       "    <tr>\n",
       "      <th>4430</th>\n",
       "      <td>2017-07-04 07:00:00-07:00</td>\n",
       "      <td>3.18</td>\n",
       "      <td>1.36</td>\n",
       "      <td>191.0</td>\n",
       "      <td>15.0</td>\n",
       "      <td>NaN</td>\n",
       "      <td>NaN</td>\n",
       "    </tr>\n",
       "    <tr>\n",
       "      <th>6255</th>\n",
       "      <td>2017-09-18 08:00:00-07:00</td>\n",
       "      <td>4.47</td>\n",
       "      <td>1.67</td>\n",
       "      <td>313.0</td>\n",
       "      <td>7.0</td>\n",
       "      <td>NaN</td>\n",
       "      <td>NaN</td>\n",
       "    </tr>\n",
       "    <tr>\n",
       "      <th>6256</th>\n",
       "      <td>2017-09-18 09:00:00-07:00</td>\n",
       "      <td>5.15</td>\n",
       "      <td>1.78</td>\n",
       "      <td>313.0</td>\n",
       "      <td>7.0</td>\n",
       "      <td>NaN</td>\n",
       "      <td>NaN</td>\n",
       "    </tr>\n",
       "    <tr>\n",
       "      <th>6257</th>\n",
       "      <td>2017-09-18 10:00:00-07:00</td>\n",
       "      <td>5.22</td>\n",
       "      <td>1.69</td>\n",
       "      <td>310.0</td>\n",
       "      <td>7.0</td>\n",
       "      <td>NaN</td>\n",
       "      <td>NaN</td>\n",
       "    </tr>\n",
       "    <tr>\n",
       "      <th>6258</th>\n",
       "      <td>2017-09-18 11:00:00-07:00</td>\n",
       "      <td>4.43</td>\n",
       "      <td>1.46</td>\n",
       "      <td>307.0</td>\n",
       "      <td>4.0</td>\n",
       "      <td>NaN</td>\n",
       "      <td>NaN</td>\n",
       "    </tr>\n",
       "    <tr>\n",
       "      <th>10915</th>\n",
       "      <td>2018-03-31 12:00:00-07:00</td>\n",
       "      <td>4.21</td>\n",
       "      <td>1.04</td>\n",
       "      <td>193.0</td>\n",
       "      <td>13.0</td>\n",
       "      <td>NaN</td>\n",
       "      <td>NaN</td>\n",
       "    </tr>\n",
       "    <tr>\n",
       "      <th>13573</th>\n",
       "      <td>2018-07-20 06:00:00-07:00</td>\n",
       "      <td>3.56</td>\n",
       "      <td>1.74</td>\n",
       "      <td>321.0</td>\n",
       "      <td>9.0</td>\n",
       "      <td>NaN</td>\n",
       "      <td>NaN</td>\n",
       "    </tr>\n",
       "    <tr>\n",
       "      <th>13574</th>\n",
       "      <td>2018-07-20 07:00:00-07:00</td>\n",
       "      <td>3.40</td>\n",
       "      <td>1.74</td>\n",
       "      <td>319.0</td>\n",
       "      <td>11.0</td>\n",
       "      <td>NaN</td>\n",
       "      <td>NaN</td>\n",
       "    </tr>\n",
       "    <tr>\n",
       "      <th>13575</th>\n",
       "      <td>2018-07-20 08:00:00-07:00</td>\n",
       "      <td>2.81</td>\n",
       "      <td>1.72</td>\n",
       "      <td>317.0</td>\n",
       "      <td>9.0</td>\n",
       "      <td>NaN</td>\n",
       "      <td>NaN</td>\n",
       "    </tr>\n",
       "    <tr>\n",
       "      <th>13576</th>\n",
       "      <td>2018-07-20 09:00:00-07:00</td>\n",
       "      <td>2.33</td>\n",
       "      <td>1.82</td>\n",
       "      <td>321.0</td>\n",
       "      <td>9.0</td>\n",
       "      <td>NaN</td>\n",
       "      <td>NaN</td>\n",
       "    </tr>\n",
       "    <tr>\n",
       "      <th>13577</th>\n",
       "      <td>2018-07-20 10:00:00-07:00</td>\n",
       "      <td>1.79</td>\n",
       "      <td>1.74</td>\n",
       "      <td>319.0</td>\n",
       "      <td>9.0</td>\n",
       "      <td>NaN</td>\n",
       "      <td>NaN</td>\n",
       "    </tr>\n",
       "    <tr>\n",
       "      <th>13578</th>\n",
       "      <td>2018-07-20 11:00:00-07:00</td>\n",
       "      <td>1.91</td>\n",
       "      <td>1.96</td>\n",
       "      <td>320.0</td>\n",
       "      <td>9.0</td>\n",
       "      <td>NaN</td>\n",
       "      <td>NaN</td>\n",
       "    </tr>\n",
       "    <tr>\n",
       "      <th>13741</th>\n",
       "      <td>2018-07-27 06:00:00-07:00</td>\n",
       "      <td>0.43</td>\n",
       "      <td>2.20</td>\n",
       "      <td>313.0</td>\n",
       "      <td>7.0</td>\n",
       "      <td>NaN</td>\n",
       "      <td>NaN</td>\n",
       "    </tr>\n",
       "    <tr>\n",
       "      <th>14779</th>\n",
       "      <td>2018-09-08 12:00:00-07:00</td>\n",
       "      <td>3.76</td>\n",
       "      <td>2.17</td>\n",
       "      <td>316.0</td>\n",
       "      <td>7.0</td>\n",
       "      <td>NaN</td>\n",
       "      <td>NaN</td>\n",
       "    </tr>\n",
       "    <tr>\n",
       "      <th>18331</th>\n",
       "      <td>2019-02-03 11:00:00-08:00</td>\n",
       "      <td>4.49</td>\n",
       "      <td>4.51</td>\n",
       "      <td>293.0</td>\n",
       "      <td>11.0</td>\n",
       "      <td>NaN</td>\n",
       "      <td>NaN</td>\n",
       "    </tr>\n",
       "    <tr>\n",
       "      <th>18929</th>\n",
       "      <td>2019-02-28 09:00:00-08:00</td>\n",
       "      <td>2.47</td>\n",
       "      <td>2.05</td>\n",
       "      <td>292.0</td>\n",
       "      <td>7.0</td>\n",
       "      <td>NaN</td>\n",
       "      <td>NaN</td>\n",
       "    </tr>\n",
       "    <tr>\n",
       "      <th>20468</th>\n",
       "      <td>2019-05-03 13:00:00-07:00</td>\n",
       "      <td>2.37</td>\n",
       "      <td>1.38</td>\n",
       "      <td>191.0</td>\n",
       "      <td>4.0</td>\n",
       "      <td>NaN</td>\n",
       "      <td>NaN</td>\n",
       "    </tr>\n",
       "    <tr>\n",
       "      <th>24715</th>\n",
       "      <td>2019-10-27 11:00:00-07:00</td>\n",
       "      <td>5.82</td>\n",
       "      <td>2.63</td>\n",
       "      <td>310.0</td>\n",
       "      <td>13.0</td>\n",
       "      <td>NaN</td>\n",
       "      <td>NaN</td>\n",
       "    </tr>\n",
       "    <tr>\n",
       "      <th>25581</th>\n",
       "      <td>2019-12-02 12:00:00-08:00</td>\n",
       "      <td>4.80</td>\n",
       "      <td>2.49</td>\n",
       "      <td>289.0</td>\n",
       "      <td>13.0</td>\n",
       "      <td>NaN</td>\n",
       "      <td>NaN</td>\n",
       "    </tr>\n",
       "    <tr>\n",
       "      <th>25582</th>\n",
       "      <td>2019-12-02 13:00:00-08:00</td>\n",
       "      <td>4.68</td>\n",
       "      <td>2.35</td>\n",
       "      <td>283.0</td>\n",
       "      <td>11.0</td>\n",
       "      <td>NaN</td>\n",
       "      <td>NaN</td>\n",
       "    </tr>\n",
       "    <tr>\n",
       "      <th>25583</th>\n",
       "      <td>2019-12-02 14:00:00-08:00</td>\n",
       "      <td>4.78</td>\n",
       "      <td>2.32</td>\n",
       "      <td>303.0</td>\n",
       "      <td>13.0</td>\n",
       "      <td>NaN</td>\n",
       "      <td>NaN</td>\n",
       "    </tr>\n",
       "    <tr>\n",
       "      <th>25584</th>\n",
       "      <td>2019-12-02 15:00:00-08:00</td>\n",
       "      <td>4.12</td>\n",
       "      <td>2.22</td>\n",
       "      <td>307.0</td>\n",
       "      <td>13.0</td>\n",
       "      <td>NaN</td>\n",
       "      <td>NaN</td>\n",
       "    </tr>\n",
       "    <tr>\n",
       "      <th>28320</th>\n",
       "      <td>2020-03-25 16:00:00-07:00</td>\n",
       "      <td>1.40</td>\n",
       "      <td>2.27</td>\n",
       "      <td>305.0</td>\n",
       "      <td>13.0</td>\n",
       "      <td>NaN</td>\n",
       "      <td>NaN</td>\n",
       "    </tr>\n",
       "    <tr>\n",
       "      <th>28321</th>\n",
       "      <td>2020-03-25 17:00:00-07:00</td>\n",
       "      <td>0.92</td>\n",
       "      <td>1.94</td>\n",
       "      <td>316.0</td>\n",
       "      <td>4.0</td>\n",
       "      <td>NaN</td>\n",
       "      <td>NaN</td>\n",
       "    </tr>\n",
       "    <tr>\n",
       "      <th>31364</th>\n",
       "      <td>2020-07-30 12:00:00-07:00</td>\n",
       "      <td>2.48</td>\n",
       "      <td>0.91</td>\n",
       "      <td>186.0</td>\n",
       "      <td>4.0</td>\n",
       "      <td>NaN</td>\n",
       "      <td>NaN</td>\n",
       "    </tr>\n",
       "    <tr>\n",
       "      <th>41329</th>\n",
       "      <td>2021-09-18 17:00:00-07:00</td>\n",
       "      <td>3.14</td>\n",
       "      <td>1.29</td>\n",
       "      <td>182.0</td>\n",
       "      <td>15.0</td>\n",
       "      <td>NaN</td>\n",
       "      <td>NaN</td>\n",
       "    </tr>\n",
       "    <tr>\n",
       "      <th>41330</th>\n",
       "      <td>2021-09-18 18:00:00-07:00</td>\n",
       "      <td>4.18</td>\n",
       "      <td>1.26</td>\n",
       "      <td>185.0</td>\n",
       "      <td>4.0</td>\n",
       "      <td>NaN</td>\n",
       "      <td>NaN</td>\n",
       "    </tr>\n",
       "    <tr>\n",
       "      <th>41808</th>\n",
       "      <td>2021-10-08 16:00:00-07:00</td>\n",
       "      <td>1.07</td>\n",
       "      <td>2.44</td>\n",
       "      <td>289.0</td>\n",
       "      <td>7.0</td>\n",
       "      <td>NaN</td>\n",
       "      <td>NaN</td>\n",
       "    </tr>\n",
       "    <tr>\n",
       "      <th>41809</th>\n",
       "      <td>2021-10-08 17:00:00-07:00</td>\n",
       "      <td>0.38</td>\n",
       "      <td>2.54</td>\n",
       "      <td>281.0</td>\n",
       "      <td>7.0</td>\n",
       "      <td>NaN</td>\n",
       "      <td>NaN</td>\n",
       "    </tr>\n",
       "  </tbody>\n",
       "</table>\n",
       "</div>"
      ],
      "text/plain": [
       "                            PST  Tide  Height    Deg  Period  Wind Speed  \\\n",
       "4430  2017-07-04 07:00:00-07:00  3.18    1.36  191.0    15.0         NaN   \n",
       "6255  2017-09-18 08:00:00-07:00  4.47    1.67  313.0     7.0         NaN   \n",
       "6256  2017-09-18 09:00:00-07:00  5.15    1.78  313.0     7.0         NaN   \n",
       "6257  2017-09-18 10:00:00-07:00  5.22    1.69  310.0     7.0         NaN   \n",
       "6258  2017-09-18 11:00:00-07:00  4.43    1.46  307.0     4.0         NaN   \n",
       "10915 2018-03-31 12:00:00-07:00  4.21    1.04  193.0    13.0         NaN   \n",
       "13573 2018-07-20 06:00:00-07:00  3.56    1.74  321.0     9.0         NaN   \n",
       "13574 2018-07-20 07:00:00-07:00  3.40    1.74  319.0    11.0         NaN   \n",
       "13575 2018-07-20 08:00:00-07:00  2.81    1.72  317.0     9.0         NaN   \n",
       "13576 2018-07-20 09:00:00-07:00  2.33    1.82  321.0     9.0         NaN   \n",
       "13577 2018-07-20 10:00:00-07:00  1.79    1.74  319.0     9.0         NaN   \n",
       "13578 2018-07-20 11:00:00-07:00  1.91    1.96  320.0     9.0         NaN   \n",
       "13741 2018-07-27 06:00:00-07:00  0.43    2.20  313.0     7.0         NaN   \n",
       "14779 2018-09-08 12:00:00-07:00  3.76    2.17  316.0     7.0         NaN   \n",
       "18331 2019-02-03 11:00:00-08:00  4.49    4.51  293.0    11.0         NaN   \n",
       "18929 2019-02-28 09:00:00-08:00  2.47    2.05  292.0     7.0         NaN   \n",
       "20468 2019-05-03 13:00:00-07:00  2.37    1.38  191.0     4.0         NaN   \n",
       "24715 2019-10-27 11:00:00-07:00  5.82    2.63  310.0    13.0         NaN   \n",
       "25581 2019-12-02 12:00:00-08:00  4.80    2.49  289.0    13.0         NaN   \n",
       "25582 2019-12-02 13:00:00-08:00  4.68    2.35  283.0    11.0         NaN   \n",
       "25583 2019-12-02 14:00:00-08:00  4.78    2.32  303.0    13.0         NaN   \n",
       "25584 2019-12-02 15:00:00-08:00  4.12    2.22  307.0    13.0         NaN   \n",
       "28320 2020-03-25 16:00:00-07:00  1.40    2.27  305.0    13.0         NaN   \n",
       "28321 2020-03-25 17:00:00-07:00  0.92    1.94  316.0     4.0         NaN   \n",
       "31364 2020-07-30 12:00:00-07:00  2.48    0.91  186.0     4.0         NaN   \n",
       "41329 2021-09-18 17:00:00-07:00  3.14    1.29  182.0    15.0         NaN   \n",
       "41330 2021-09-18 18:00:00-07:00  4.18    1.26  185.0     4.0         NaN   \n",
       "41808 2021-10-08 16:00:00-07:00  1.07    2.44  289.0     7.0         NaN   \n",
       "41809 2021-10-08 17:00:00-07:00  0.38    2.54  281.0     7.0         NaN   \n",
       "\n",
       "      Wind Direction  \n",
       "4430             NaN  \n",
       "6255             NaN  \n",
       "6256             NaN  \n",
       "6257             NaN  \n",
       "6258             NaN  \n",
       "10915            NaN  \n",
       "13573            NaN  \n",
       "13574            NaN  \n",
       "13575            NaN  \n",
       "13576            NaN  \n",
       "13577            NaN  \n",
       "13578            NaN  \n",
       "13741            NaN  \n",
       "14779            NaN  \n",
       "18331            NaN  \n",
       "18929            NaN  \n",
       "20468            NaN  \n",
       "24715            NaN  \n",
       "25581            NaN  \n",
       "25582            NaN  \n",
       "25583            NaN  \n",
       "25584            NaN  \n",
       "28320            NaN  \n",
       "28321            NaN  \n",
       "31364            NaN  \n",
       "41329            NaN  \n",
       "41330            NaN  \n",
       "41808            NaN  \n",
       "41809            NaN  "
      ]
     },
     "execution_count": 256,
     "metadata": {},
     "output_type": "execute_result"
    }
   ],
   "source": [
    "dl[dl['Wind Speed'].isna()]"
   ]
  },
  {
   "cell_type": "markdown",
   "metadata": {},
   "source": [
    "Instead of chucking rows with any nan values, I'll keep them in the dataset and classify good days based on how many parameters met ideal conditions. That way, some of these hours with nan values could still classify as \"4/6 ideal\" or smth... might have to change this later based on how nan values act in the analysis bit, and if I change my measuring method."
   ]
  },
  {
   "cell_type": "code",
   "execution_count": null,
   "metadata": {},
   "outputs": [],
   "source": []
  },
  {
   "cell_type": "code",
   "execution_count": null,
   "metadata": {},
   "outputs": [],
   "source": []
  },
  {
   "cell_type": "code",
   "execution_count": null,
   "metadata": {},
   "outputs": [],
   "source": []
  },
  {
   "cell_type": "markdown",
   "metadata": {},
   "source": [
    "### not sure why I have so many nan values for period...my original file has 0 nan values, maybe something weird happened with the merging\n",
    "look at file ```missing_period``` for exploration"
   ]
  }
 ],
 "metadata": {
  "kernelspec": {
   "display_name": "Python 3.10.8 ('ivsurf-env')",
   "language": "python",
   "name": "python3"
  },
  "language_info": {
   "codemirror_mode": {
    "name": "ipython",
    "version": 3
   },
   "file_extension": ".py",
   "mimetype": "text/x-python",
   "name": "python",
   "nbconvert_exporter": "python",
   "pygments_lexer": "ipython3",
   "version": "3.10.8"
  },
  "vscode": {
   "interpreter": {
    "hash": "94ab3e166c87eb08f52c1f27d18afd75aa2f18bc3012018fbae2a9065e8ea721"
   }
  }
 },
 "nbformat": 4,
 "nbformat_minor": 4
}
