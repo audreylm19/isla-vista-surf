{
 "cells": [
  {
   "cell_type": "markdown",
   "metadata": {},
   "source": [
    "### First go at looking at complete data"
   ]
  },
  {
   "cell_type": "code",
   "execution_count": 1,
   "metadata": {},
   "outputs": [],
   "source": [
    "import pandas as pd\n",
    "import numpy as np\n",
    "from pathlib import Path"
   ]
  },
  {
   "cell_type": "code",
   "execution_count": 136,
   "metadata": {},
   "outputs": [],
   "source": [
    "root_folder = Path.cwd().parents[1]\n",
    "\n",
    "df = pd.read_csv(root_folder/'data/processed/00-final.csv')\n",
    "\n",
    "df['UTC'] = pd.to_datetime(df['PST'], utc=True)"
   ]
  },
  {
   "cell_type": "code",
   "execution_count": 138,
   "metadata": {},
   "outputs": [
    {
     "data": {
      "text/plain": [
       "datetime64[ns, UTC]"
      ]
     },
     "execution_count": 138,
     "metadata": {},
     "output_type": "execute_result"
    }
   ],
   "source": [
    "df['UTC'].dtype"
   ]
  },
  {
   "cell_type": "code",
   "execution_count": 140,
   "metadata": {},
   "outputs": [
    {
     "data": {
      "text/html": [
       "<div>\n",
       "<style scoped>\n",
       "    .dataframe tbody tr th:only-of-type {\n",
       "        vertical-align: middle;\n",
       "    }\n",
       "\n",
       "    .dataframe tbody tr th {\n",
       "        vertical-align: top;\n",
       "    }\n",
       "\n",
       "    .dataframe thead th {\n",
       "        text-align: right;\n",
       "    }\n",
       "</style>\n",
       "<table border=\"1\" class=\"dataframe\">\n",
       "  <thead>\n",
       "    <tr style=\"text-align: right;\">\n",
       "      <th></th>\n",
       "      <th>PST</th>\n",
       "      <th>Tide</th>\n",
       "      <th>Height</th>\n",
       "      <th>Deg</th>\n",
       "      <th>Period</th>\n",
       "      <th>Wind Speed</th>\n",
       "      <th>Wind Direction</th>\n",
       "      <th>UTC</th>\n",
       "    </tr>\n",
       "  </thead>\n",
       "  <tbody>\n",
       "    <tr>\n",
       "      <th>0</th>\n",
       "      <td>2017-01-01 07:00:00-08:00</td>\n",
       "      <td>3.82</td>\n",
       "      <td>2.47</td>\n",
       "      <td>306.0</td>\n",
       "      <td>11.0</td>\n",
       "      <td>7.0</td>\n",
       "      <td>260</td>\n",
       "      <td>2017-01-01 15:00:00+00:00</td>\n",
       "    </tr>\n",
       "    <tr>\n",
       "      <th>1</th>\n",
       "      <td>2017-01-01 08:00:00-08:00</td>\n",
       "      <td>4.42</td>\n",
       "      <td>2.37</td>\n",
       "      <td>309.0</td>\n",
       "      <td>9.0</td>\n",
       "      <td>6.0</td>\n",
       "      <td>40</td>\n",
       "      <td>2017-01-01 16:00:00+00:00</td>\n",
       "    </tr>\n",
       "    <tr>\n",
       "      <th>2</th>\n",
       "      <td>2017-01-01 09:00:00-08:00</td>\n",
       "      <td>5.13</td>\n",
       "      <td>2.38</td>\n",
       "      <td>310.0</td>\n",
       "      <td>11.0</td>\n",
       "      <td>0.0</td>\n",
       "      <td>000</td>\n",
       "      <td>2017-01-01 17:00:00+00:00</td>\n",
       "    </tr>\n",
       "    <tr>\n",
       "      <th>3</th>\n",
       "      <td>2017-01-01 10:00:00-08:00</td>\n",
       "      <td>5.66</td>\n",
       "      <td>2.66</td>\n",
       "      <td>314.0</td>\n",
       "      <td>11.0</td>\n",
       "      <td>0.0</td>\n",
       "      <td>000</td>\n",
       "      <td>2017-01-01 18:00:00+00:00</td>\n",
       "    </tr>\n",
       "    <tr>\n",
       "      <th>4</th>\n",
       "      <td>2017-01-01 11:00:00-08:00</td>\n",
       "      <td>5.71</td>\n",
       "      <td>2.38</td>\n",
       "      <td>303.0</td>\n",
       "      <td>11.0</td>\n",
       "      <td>5.0</td>\n",
       "      <td>150</td>\n",
       "      <td>2017-01-01 19:00:00+00:00</td>\n",
       "    </tr>\n",
       "  </tbody>\n",
       "</table>\n",
       "</div>"
      ],
      "text/plain": [
       "                         PST  Tide  Height    Deg  Period  Wind Speed  \\\n",
       "0  2017-01-01 07:00:00-08:00  3.82    2.47  306.0    11.0         7.0   \n",
       "1  2017-01-01 08:00:00-08:00  4.42    2.37  309.0     9.0         6.0   \n",
       "2  2017-01-01 09:00:00-08:00  5.13    2.38  310.0    11.0         0.0   \n",
       "3  2017-01-01 10:00:00-08:00  5.66    2.66  314.0    11.0         0.0   \n",
       "4  2017-01-01 11:00:00-08:00  5.71    2.38  303.0    11.0         5.0   \n",
       "\n",
       "  Wind Direction                       UTC  \n",
       "0            260 2017-01-01 15:00:00+00:00  \n",
       "1             40 2017-01-01 16:00:00+00:00  \n",
       "2            000 2017-01-01 17:00:00+00:00  \n",
       "3            000 2017-01-01 18:00:00+00:00  \n",
       "4            150 2017-01-01 19:00:00+00:00  "
      ]
     },
     "execution_count": 140,
     "metadata": {},
     "output_type": "execute_result"
    }
   ],
   "source": [
    "df.head()"
   ]
  },
  {
   "cell_type": "markdown",
   "metadata": {},
   "source": [
    "the `pd.to_datetime()` function not working how I thought it would:"
   ]
  },
  {
   "cell_type": "code",
   "execution_count": 141,
   "metadata": {},
   "outputs": [
    {
     "data": {
      "text/plain": [
       "dtype('O')"
      ]
     },
     "execution_count": 141,
     "metadata": {},
     "output_type": "execute_result"
    }
   ],
   "source": [
    "df['PST'] = pd.to_datetime(df['PST'], utc=False)\n",
    "df['PST'].dtype"
   ]
  },
  {
   "cell_type": "markdown",
   "metadata": {},
   "source": [
    "Don't feel like messing with it, so just created a UTC column... wanted to keep PST column just in case I need it later....even though seems like it's useless atm"
   ]
  },
  {
   "cell_type": "markdown",
   "metadata": {},
   "source": [
    "![](devs_surfline.png)"
   ]
  },
  {
   "cell_type": "markdown",
   "metadata": {},
   "source": [
    "![](compass.jpeg)"
   ]
  },
  {
   "cell_type": "markdown",
   "metadata": {},
   "source": [
    "### **Swell Direction**"
   ]
  },
  {
   "cell_type": "code",
   "execution_count": 18,
   "metadata": {},
   "outputs": [
    {
     "name": "stdout",
     "output_type": "stream",
     "text": [
      "258.75\n",
      "303.75\n"
     ]
    }
   ],
   "source": [
    "slice = 360/32\n",
    "print(23*slice)\n",
    "print(27*slice)"
   ]
  },
  {
   "cell_type": "markdown",
   "metadata": {},
   "source": [
    "WSW = 258<br/>\n",
    "WNW = 304<br/>\n",
    "Any swell direction in the range $[258,304]$ will be considered ideal <br/>\n",
    "Rounding to make window slightly bigger"
   ]
  },
  {
   "cell_type": "markdown",
   "metadata": {},
   "source": [
    "### **Period**\n",
    "15 second swell was so rare....let's see how often that happened "
   ]
  },
  {
   "cell_type": "code",
   "execution_count": 32,
   "metadata": {},
   "outputs": [
    {
     "data": {
      "text/plain": [
       "(2337, 7)"
      ]
     },
     "execution_count": 32,
     "metadata": {},
     "output_type": "execute_result"
    }
   ],
   "source": [
    "df[df['Period']>=15].shape"
   ]
  },
  {
   "cell_type": "markdown",
   "metadata": {},
   "source": [
    "ok maybe more often than I thought...."
   ]
  },
  {
   "cell_type": "code",
   "execution_count": 29,
   "metadata": {},
   "outputs": [
    {
     "data": {
      "text/plain": [
       "(23850, 7)"
      ]
     },
     "execution_count": 29,
     "metadata": {},
     "output_type": "execute_result"
    }
   ],
   "source": [
    "df.shape"
   ]
  },
  {
   "cell_type": "code",
   "execution_count": 31,
   "metadata": {},
   "outputs": [
    {
     "data": {
      "text/html": [
       "<div>\n",
       "<style scoped>\n",
       "    .dataframe tbody tr th:only-of-type {\n",
       "        vertical-align: middle;\n",
       "    }\n",
       "\n",
       "    .dataframe tbody tr th {\n",
       "        vertical-align: top;\n",
       "    }\n",
       "\n",
       "    .dataframe thead th {\n",
       "        text-align: right;\n",
       "    }\n",
       "</style>\n",
       "<table border=\"1\" class=\"dataframe\">\n",
       "  <thead>\n",
       "    <tr style=\"text-align: right;\">\n",
       "      <th></th>\n",
       "      <th>PST</th>\n",
       "      <th>Tide</th>\n",
       "      <th>Height</th>\n",
       "      <th>Deg</th>\n",
       "      <th>Period</th>\n",
       "      <th>Wind Speed</th>\n",
       "      <th>Wind Direction</th>\n",
       "    </tr>\n",
       "  </thead>\n",
       "  <tbody>\n",
       "    <tr>\n",
       "      <th>21</th>\n",
       "      <td>2017-01-02 17:00:00-08:00</td>\n",
       "      <td>0.71</td>\n",
       "      <td>2.76</td>\n",
       "      <td>319.0</td>\n",
       "      <td>15.0</td>\n",
       "      <td>7.0</td>\n",
       "      <td>310</td>\n",
       "    </tr>\n",
       "    <tr>\n",
       "      <th>165</th>\n",
       "      <td>2017-01-16 07:00:00-08:00</td>\n",
       "      <td>2.46</td>\n",
       "      <td>2.31</td>\n",
       "      <td>285.0</td>\n",
       "      <td>17.0</td>\n",
       "      <td>0.0</td>\n",
       "      <td>000</td>\n",
       "    </tr>\n",
       "    <tr>\n",
       "      <th>166</th>\n",
       "      <td>2017-01-16 08:00:00-08:00</td>\n",
       "      <td>2.94</td>\n",
       "      <td>2.10</td>\n",
       "      <td>282.0</td>\n",
       "      <td>17.0</td>\n",
       "      <td>0.0</td>\n",
       "      <td>000</td>\n",
       "    </tr>\n",
       "    <tr>\n",
       "      <th>167</th>\n",
       "      <td>2017-01-16 09:00:00-08:00</td>\n",
       "      <td>3.69</td>\n",
       "      <td>2.48</td>\n",
       "      <td>283.0</td>\n",
       "      <td>17.0</td>\n",
       "      <td>0.0</td>\n",
       "      <td>000</td>\n",
       "    </tr>\n",
       "    <tr>\n",
       "      <th>168</th>\n",
       "      <td>2017-01-16 10:00:00-08:00</td>\n",
       "      <td>4.46</td>\n",
       "      <td>2.57</td>\n",
       "      <td>286.0</td>\n",
       "      <td>17.0</td>\n",
       "      <td>0.0</td>\n",
       "      <td>000</td>\n",
       "    </tr>\n",
       "    <tr>\n",
       "      <th>...</th>\n",
       "      <td>...</td>\n",
       "      <td>...</td>\n",
       "      <td>...</td>\n",
       "      <td>...</td>\n",
       "      <td>...</td>\n",
       "      <td>...</td>\n",
       "      <td>...</td>\n",
       "    </tr>\n",
       "    <tr>\n",
       "      <th>23728</th>\n",
       "      <td>2021-12-20 15:00:00-08:00</td>\n",
       "      <td>0.04</td>\n",
       "      <td>1.15</td>\n",
       "      <td>305.0</td>\n",
       "      <td>15.0</td>\n",
       "      <td>7.0</td>\n",
       "      <td>260</td>\n",
       "    </tr>\n",
       "    <tr>\n",
       "      <th>23729</th>\n",
       "      <td>2021-12-20 16:00:00-08:00</td>\n",
       "      <td>-0.45</td>\n",
       "      <td>1.12</td>\n",
       "      <td>293.0</td>\n",
       "      <td>15.0</td>\n",
       "      <td>6.0</td>\n",
       "      <td>250</td>\n",
       "    </tr>\n",
       "    <tr>\n",
       "      <th>23730</th>\n",
       "      <td>2021-12-20 17:00:00-08:00</td>\n",
       "      <td>0.07</td>\n",
       "      <td>1.20</td>\n",
       "      <td>289.0</td>\n",
       "      <td>15.0</td>\n",
       "      <td>0.0</td>\n",
       "      <td>000</td>\n",
       "    </tr>\n",
       "    <tr>\n",
       "      <th>23789</th>\n",
       "      <td>2021-12-26 10:00:00-08:00</td>\n",
       "      <td>2.88</td>\n",
       "      <td>2.83</td>\n",
       "      <td>312.0</td>\n",
       "      <td>15.0</td>\n",
       "      <td>9.0</td>\n",
       "      <td>270</td>\n",
       "    </tr>\n",
       "    <tr>\n",
       "      <th>23798</th>\n",
       "      <td>2021-12-27 08:00:00-08:00</td>\n",
       "      <td>2.87</td>\n",
       "      <td>2.91</td>\n",
       "      <td>327.0</td>\n",
       "      <td>15.0</td>\n",
       "      <td>0.0</td>\n",
       "      <td>000</td>\n",
       "    </tr>\n",
       "  </tbody>\n",
       "</table>\n",
       "<p>2337 rows × 7 columns</p>\n",
       "</div>"
      ],
      "text/plain": [
       "                             PST  Tide  Height    Deg  Period  Wind Speed  \\\n",
       "21     2017-01-02 17:00:00-08:00  0.71    2.76  319.0    15.0         7.0   \n",
       "165    2017-01-16 07:00:00-08:00  2.46    2.31  285.0    17.0         0.0   \n",
       "166    2017-01-16 08:00:00-08:00  2.94    2.10  282.0    17.0         0.0   \n",
       "167    2017-01-16 09:00:00-08:00  3.69    2.48  283.0    17.0         0.0   \n",
       "168    2017-01-16 10:00:00-08:00  4.46    2.57  286.0    17.0         0.0   \n",
       "...                          ...   ...     ...    ...     ...         ...   \n",
       "23728  2021-12-20 15:00:00-08:00  0.04    1.15  305.0    15.0         7.0   \n",
       "23729  2021-12-20 16:00:00-08:00 -0.45    1.12  293.0    15.0         6.0   \n",
       "23730  2021-12-20 17:00:00-08:00  0.07    1.20  289.0    15.0         0.0   \n",
       "23789  2021-12-26 10:00:00-08:00  2.88    2.83  312.0    15.0         9.0   \n",
       "23798  2021-12-27 08:00:00-08:00  2.87    2.91  327.0    15.0         0.0   \n",
       "\n",
       "      Wind Direction  \n",
       "21               310  \n",
       "165              000  \n",
       "166              000  \n",
       "167              000  \n",
       "168              000  \n",
       "...              ...  \n",
       "23728            260  \n",
       "23729            250  \n",
       "23730            000  \n",
       "23789            270  \n",
       "23798            000  \n",
       "\n",
       "[2337 rows x 7 columns]"
      ]
     },
     "execution_count": 31,
     "metadata": {},
     "output_type": "execute_result"
    }
   ],
   "source": [
    "df[df['Period']>=15]"
   ]
  },
  {
   "cell_type": "markdown",
   "metadata": {},
   "source": [
    "I kinda want to go against surfline on this one and say that greater than 15sec period is fine, just means waves were big and probably epic <br/>\n",
    "Should get some confirmation on that though <br/>\n",
    "Also bc data is from Harvest buoy, might be more extreme than the actual swell that arrives on shore because Harvest is all the way out near point conception....could also do analysis with different buoy data, like have three different datasets (harvest, east sb, west sb) and run them all through a similar process"
   ]
  },
  {
   "cell_type": "markdown",
   "metadata": {},
   "source": [
    "### **Wind Direction**"
   ]
  },
  {
   "cell_type": "code",
   "execution_count": 19,
   "metadata": {},
   "outputs": [
    {
     "data": {
      "text/plain": [
       "56.25"
      ]
     },
     "execution_count": 19,
     "metadata": {},
     "output_type": "execute_result"
    }
   ],
   "source": [
    "slice*5"
   ]
  },
  {
   "cell_type": "markdown",
   "metadata": {},
   "source": [
    "N=0 <br/>\n",
    "NE=56.25<br/>\n",
    "Any wind $>$ 5mph in range $[0,57]$ will be considered ideal <br/>\n",
    "Any wind $\\leq$ 5mph in any direction will be considered ideal <br/>\n",
    "Any wind $\\geq$ 10mph in any direction will not be considered ideal <br/>"
   ]
  },
  {
   "cell_type": "markdown",
   "metadata": {},
   "source": [
    "### **Tide**"
   ]
  },
  {
   "cell_type": "code",
   "execution_count": 25,
   "metadata": {},
   "outputs": [
    {
     "name": "stdout",
     "output_type": "stream",
     "text": [
      "Lowest Low: -1.78\n",
      "Highest High: 7.61\n"
     ]
    }
   ],
   "source": [
    "print(\"Lowest Low:\", df['Tide'].min())\n",
    "print(\"Highest High:\", df['Tide'].max())"
   ]
  },
  {
   "cell_type": "markdown",
   "metadata": {},
   "source": [
    "From my experience, mid tide (good tide) at devs would be 2ft-5ft...should corroborate though"
   ]
  },
  {
   "cell_type": "markdown",
   "metadata": {},
   "source": [
    "### **Surf Height**\n",
    "This one is a bit more of a doozey because the swell height recorded at the buoy is not the same as the actual wave height....might have to stray away from surfline for this one and do some more research/asking around...can ask Haley, Chris Keet, Kenna, Nathan <br/>\n",
    "Will mess around with analysis methods for now without including this parameter"
   ]
  },
  {
   "cell_type": "markdown",
   "metadata": {},
   "source": [
    "### Wind is probably the easiest to filter through, so I'll start there\n",
    "Gonna make a column called \"ideal wind\" and it'll have a 1 if ideal and 0 if not"
   ]
  },
  {
   "cell_type": "code",
   "execution_count": 142,
   "metadata": {},
   "outputs": [
    {
     "data": {
      "text/html": [
       "<div>\n",
       "<style scoped>\n",
       "    .dataframe tbody tr th:only-of-type {\n",
       "        vertical-align: middle;\n",
       "    }\n",
       "\n",
       "    .dataframe tbody tr th {\n",
       "        vertical-align: top;\n",
       "    }\n",
       "\n",
       "    .dataframe thead th {\n",
       "        text-align: right;\n",
       "    }\n",
       "</style>\n",
       "<table border=\"1\" class=\"dataframe\">\n",
       "  <thead>\n",
       "    <tr style=\"text-align: right;\">\n",
       "      <th></th>\n",
       "      <th>PST</th>\n",
       "      <th>Tide</th>\n",
       "      <th>Height</th>\n",
       "      <th>Deg</th>\n",
       "      <th>Period</th>\n",
       "      <th>Wind Speed</th>\n",
       "      <th>Wind Direction</th>\n",
       "      <th>UTC</th>\n",
       "      <th>Ideal Wind</th>\n",
       "    </tr>\n",
       "  </thead>\n",
       "  <tbody>\n",
       "    <tr>\n",
       "      <th>0</th>\n",
       "      <td>2017-01-01 07:00:00-08:00</td>\n",
       "      <td>3.82</td>\n",
       "      <td>2.47</td>\n",
       "      <td>306.0</td>\n",
       "      <td>11.0</td>\n",
       "      <td>7.0</td>\n",
       "      <td>260</td>\n",
       "      <td>2017-01-01 15:00:00+00:00</td>\n",
       "      <td>0</td>\n",
       "    </tr>\n",
       "    <tr>\n",
       "      <th>1</th>\n",
       "      <td>2017-01-01 08:00:00-08:00</td>\n",
       "      <td>4.42</td>\n",
       "      <td>2.37</td>\n",
       "      <td>309.0</td>\n",
       "      <td>9.0</td>\n",
       "      <td>6.0</td>\n",
       "      <td>40</td>\n",
       "      <td>2017-01-01 16:00:00+00:00</td>\n",
       "      <td>0</td>\n",
       "    </tr>\n",
       "    <tr>\n",
       "      <th>2</th>\n",
       "      <td>2017-01-01 09:00:00-08:00</td>\n",
       "      <td>5.13</td>\n",
       "      <td>2.38</td>\n",
       "      <td>310.0</td>\n",
       "      <td>11.0</td>\n",
       "      <td>0.0</td>\n",
       "      <td>000</td>\n",
       "      <td>2017-01-01 17:00:00+00:00</td>\n",
       "      <td>0</td>\n",
       "    </tr>\n",
       "    <tr>\n",
       "      <th>3</th>\n",
       "      <td>2017-01-01 10:00:00-08:00</td>\n",
       "      <td>5.66</td>\n",
       "      <td>2.66</td>\n",
       "      <td>314.0</td>\n",
       "      <td>11.0</td>\n",
       "      <td>0.0</td>\n",
       "      <td>000</td>\n",
       "      <td>2017-01-01 18:00:00+00:00</td>\n",
       "      <td>0</td>\n",
       "    </tr>\n",
       "    <tr>\n",
       "      <th>4</th>\n",
       "      <td>2017-01-01 11:00:00-08:00</td>\n",
       "      <td>5.71</td>\n",
       "      <td>2.38</td>\n",
       "      <td>303.0</td>\n",
       "      <td>11.0</td>\n",
       "      <td>5.0</td>\n",
       "      <td>150</td>\n",
       "      <td>2017-01-01 19:00:00+00:00</td>\n",
       "      <td>0</td>\n",
       "    </tr>\n",
       "  </tbody>\n",
       "</table>\n",
       "</div>"
      ],
      "text/plain": [
       "                         PST  Tide  Height    Deg  Period  Wind Speed  \\\n",
       "0  2017-01-01 07:00:00-08:00  3.82    2.47  306.0    11.0         7.0   \n",
       "1  2017-01-01 08:00:00-08:00  4.42    2.37  309.0     9.0         6.0   \n",
       "2  2017-01-01 09:00:00-08:00  5.13    2.38  310.0    11.0         0.0   \n",
       "3  2017-01-01 10:00:00-08:00  5.66    2.66  314.0    11.0         0.0   \n",
       "4  2017-01-01 11:00:00-08:00  5.71    2.38  303.0    11.0         5.0   \n",
       "\n",
       "  Wind Direction                       UTC  Ideal Wind  \n",
       "0            260 2017-01-01 15:00:00+00:00           0  \n",
       "1             40 2017-01-01 16:00:00+00:00           0  \n",
       "2            000 2017-01-01 17:00:00+00:00           0  \n",
       "3            000 2017-01-01 18:00:00+00:00           0  \n",
       "4            150 2017-01-01 19:00:00+00:00           0  "
      ]
     },
     "execution_count": 142,
     "metadata": {},
     "output_type": "execute_result"
    }
   ],
   "source": [
    "zeros = np.zeros(df.shape[0],dtype=int)\n",
    "df['Ideal Wind']=zeros\n",
    "df.head()"
   ]
  },
  {
   "cell_type": "code",
   "execution_count": 36,
   "metadata": {},
   "outputs": [
    {
     "data": {
      "text/plain": [
       "000      3627\n",
       "260      2038\n",
       "250      1966\n",
       "150      1467\n",
       "240      1420\n",
       "         ... \n",
       "195.0       1\n",
       "10.0        1\n",
       "250.0       1\n",
       "315.0       1\n",
       "100.0       1\n",
       "Name: Wind Direction, Length: 67, dtype: int64"
      ]
     },
     "execution_count": 36,
     "metadata": {},
     "output_type": "execute_result"
    }
   ],
   "source": [
    "df['Wind Direction'].value_counts()"
   ]
  },
  {
   "cell_type": "code",
   "execution_count": 38,
   "metadata": {},
   "outputs": [
    {
     "data": {
      "text/plain": [
       "str"
      ]
     },
     "execution_count": 38,
     "metadata": {},
     "output_type": "execute_result"
    }
   ],
   "source": [
    "type(df['Wind Direction'].iloc[2])"
   ]
  },
  {
   "cell_type": "markdown",
   "metadata": {},
   "source": [
    "Since '000' is given for calm winds, automatically those will qualify as ideal <br/>\n",
    "```'VRB'``` means variable wind direction, so if the mph is greater than 5 and has VRB, not ideal"
   ]
  },
  {
   "cell_type": "markdown",
   "metadata": {},
   "source": [
    "Think I should change the ```'000'``` to ```'calm'``` because python thinks it's 0"
   ]
  },
  {
   "cell_type": "code",
   "execution_count": 143,
   "metadata": {},
   "outputs": [],
   "source": [
    "#changing '000' to 'calm'\n",
    "df.loc[df['Wind Direction']== '000', 'Wind Direction'] = 'calm'\n",
    "\n",
    "#'calm' winds are ideal\n",
    "df.loc[df['Wind Direction']== 'calm', 'Ideal Wind'] = 1\n",
    "\n",
    "#winds less than 5mph are ideal\n",
    "df.loc[df['Wind Speed'] <= 5, 'Ideal Wind'] = 1\n",
    "\n",
    "#winds with direction 0-57 are ideal\n",
    "wdints = pd.to_numeric(df['Wind Direction'],errors='coerce') #only care about integer values\n",
    "goodwind = (0 <= wdints) & (wdints <= 57) #boolean series\n",
    "df.loc[goodwind, 'Ideal Wind'] = 1\n",
    "\n",
    "#winds over 10 mph not ideal\n",
    "df.loc[df['Wind Speed']>=10, 'Ideal Wind'] = 0"
   ]
  },
  {
   "cell_type": "code",
   "execution_count": 144,
   "metadata": {},
   "outputs": [
    {
     "data": {
      "text/html": [
       "<div>\n",
       "<style scoped>\n",
       "    .dataframe tbody tr th:only-of-type {\n",
       "        vertical-align: middle;\n",
       "    }\n",
       "\n",
       "    .dataframe tbody tr th {\n",
       "        vertical-align: top;\n",
       "    }\n",
       "\n",
       "    .dataframe thead th {\n",
       "        text-align: right;\n",
       "    }\n",
       "</style>\n",
       "<table border=\"1\" class=\"dataframe\">\n",
       "  <thead>\n",
       "    <tr style=\"text-align: right;\">\n",
       "      <th></th>\n",
       "      <th>PST</th>\n",
       "      <th>Tide</th>\n",
       "      <th>Height</th>\n",
       "      <th>Deg</th>\n",
       "      <th>Period</th>\n",
       "      <th>Wind Speed</th>\n",
       "      <th>Wind Direction</th>\n",
       "      <th>UTC</th>\n",
       "      <th>Ideal Wind</th>\n",
       "    </tr>\n",
       "  </thead>\n",
       "  <tbody>\n",
       "    <tr>\n",
       "      <th>0</th>\n",
       "      <td>2017-01-01 07:00:00-08:00</td>\n",
       "      <td>3.82</td>\n",
       "      <td>2.47</td>\n",
       "      <td>306.0</td>\n",
       "      <td>11.0</td>\n",
       "      <td>7.0</td>\n",
       "      <td>260</td>\n",
       "      <td>2017-01-01 15:00:00+00:00</td>\n",
       "      <td>0</td>\n",
       "    </tr>\n",
       "    <tr>\n",
       "      <th>1</th>\n",
       "      <td>2017-01-01 08:00:00-08:00</td>\n",
       "      <td>4.42</td>\n",
       "      <td>2.37</td>\n",
       "      <td>309.0</td>\n",
       "      <td>9.0</td>\n",
       "      <td>6.0</td>\n",
       "      <td>40</td>\n",
       "      <td>2017-01-01 16:00:00+00:00</td>\n",
       "      <td>1</td>\n",
       "    </tr>\n",
       "    <tr>\n",
       "      <th>2</th>\n",
       "      <td>2017-01-01 09:00:00-08:00</td>\n",
       "      <td>5.13</td>\n",
       "      <td>2.38</td>\n",
       "      <td>310.0</td>\n",
       "      <td>11.0</td>\n",
       "      <td>0.0</td>\n",
       "      <td>calm</td>\n",
       "      <td>2017-01-01 17:00:00+00:00</td>\n",
       "      <td>1</td>\n",
       "    </tr>\n",
       "    <tr>\n",
       "      <th>3</th>\n",
       "      <td>2017-01-01 10:00:00-08:00</td>\n",
       "      <td>5.66</td>\n",
       "      <td>2.66</td>\n",
       "      <td>314.0</td>\n",
       "      <td>11.0</td>\n",
       "      <td>0.0</td>\n",
       "      <td>calm</td>\n",
       "      <td>2017-01-01 18:00:00+00:00</td>\n",
       "      <td>1</td>\n",
       "    </tr>\n",
       "    <tr>\n",
       "      <th>4</th>\n",
       "      <td>2017-01-01 11:00:00-08:00</td>\n",
       "      <td>5.71</td>\n",
       "      <td>2.38</td>\n",
       "      <td>303.0</td>\n",
       "      <td>11.0</td>\n",
       "      <td>5.0</td>\n",
       "      <td>150</td>\n",
       "      <td>2017-01-01 19:00:00+00:00</td>\n",
       "      <td>1</td>\n",
       "    </tr>\n",
       "    <tr>\n",
       "      <th>5</th>\n",
       "      <td>2017-01-01 12:00:00-08:00</td>\n",
       "      <td>4.86</td>\n",
       "      <td>2.54</td>\n",
       "      <td>306.0</td>\n",
       "      <td>4.0</td>\n",
       "      <td>6.0</td>\n",
       "      <td>260</td>\n",
       "      <td>2017-01-01 20:00:00+00:00</td>\n",
       "      <td>0</td>\n",
       "    </tr>\n",
       "    <tr>\n",
       "      <th>6</th>\n",
       "      <td>2017-01-01 13:00:00-08:00</td>\n",
       "      <td>4.30</td>\n",
       "      <td>2.41</td>\n",
       "      <td>300.0</td>\n",
       "      <td>4.0</td>\n",
       "      <td>8.0</td>\n",
       "      <td>230</td>\n",
       "      <td>2017-01-01 21:00:00+00:00</td>\n",
       "      <td>0</td>\n",
       "    </tr>\n",
       "    <tr>\n",
       "      <th>7</th>\n",
       "      <td>2017-01-01 14:00:00-08:00</td>\n",
       "      <td>3.33</td>\n",
       "      <td>2.62</td>\n",
       "      <td>312.0</td>\n",
       "      <td>4.0</td>\n",
       "      <td>8.0</td>\n",
       "      <td>110</td>\n",
       "      <td>2017-01-01 22:00:00+00:00</td>\n",
       "      <td>0</td>\n",
       "    </tr>\n",
       "    <tr>\n",
       "      <th>8</th>\n",
       "      <td>2017-01-01 15:00:00-08:00</td>\n",
       "      <td>1.85</td>\n",
       "      <td>2.59</td>\n",
       "      <td>313.0</td>\n",
       "      <td>4.0</td>\n",
       "      <td>3.0</td>\n",
       "      <td>VRB</td>\n",
       "      <td>2017-01-01 23:00:00+00:00</td>\n",
       "      <td>1</td>\n",
       "    </tr>\n",
       "    <tr>\n",
       "      <th>9</th>\n",
       "      <td>2017-01-01 16:00:00-08:00</td>\n",
       "      <td>0.82</td>\n",
       "      <td>2.72</td>\n",
       "      <td>316.0</td>\n",
       "      <td>11.0</td>\n",
       "      <td>5.0</td>\n",
       "      <td>300</td>\n",
       "      <td>2017-01-02 00:00:00+00:00</td>\n",
       "      <td>1</td>\n",
       "    </tr>\n",
       "  </tbody>\n",
       "</table>\n",
       "</div>"
      ],
      "text/plain": [
       "                         PST  Tide  Height    Deg  Period  Wind Speed  \\\n",
       "0  2017-01-01 07:00:00-08:00  3.82    2.47  306.0    11.0         7.0   \n",
       "1  2017-01-01 08:00:00-08:00  4.42    2.37  309.0     9.0         6.0   \n",
       "2  2017-01-01 09:00:00-08:00  5.13    2.38  310.0    11.0         0.0   \n",
       "3  2017-01-01 10:00:00-08:00  5.66    2.66  314.0    11.0         0.0   \n",
       "4  2017-01-01 11:00:00-08:00  5.71    2.38  303.0    11.0         5.0   \n",
       "5  2017-01-01 12:00:00-08:00  4.86    2.54  306.0     4.0         6.0   \n",
       "6  2017-01-01 13:00:00-08:00  4.30    2.41  300.0     4.0         8.0   \n",
       "7  2017-01-01 14:00:00-08:00  3.33    2.62  312.0     4.0         8.0   \n",
       "8  2017-01-01 15:00:00-08:00  1.85    2.59  313.0     4.0         3.0   \n",
       "9  2017-01-01 16:00:00-08:00  0.82    2.72  316.0    11.0         5.0   \n",
       "\n",
       "  Wind Direction                       UTC  Ideal Wind  \n",
       "0            260 2017-01-01 15:00:00+00:00           0  \n",
       "1             40 2017-01-01 16:00:00+00:00           1  \n",
       "2           calm 2017-01-01 17:00:00+00:00           1  \n",
       "3           calm 2017-01-01 18:00:00+00:00           1  \n",
       "4            150 2017-01-01 19:00:00+00:00           1  \n",
       "5            260 2017-01-01 20:00:00+00:00           0  \n",
       "6            230 2017-01-01 21:00:00+00:00           0  \n",
       "7            110 2017-01-01 22:00:00+00:00           0  \n",
       "8            VRB 2017-01-01 23:00:00+00:00           1  \n",
       "9            300 2017-01-02 00:00:00+00:00           1  "
      ]
     },
     "execution_count": 144,
     "metadata": {},
     "output_type": "execute_result"
    }
   ],
   "source": [
    "df.head(10)"
   ]
  },
  {
   "cell_type": "code",
   "execution_count": 151,
   "metadata": {},
   "outputs": [
    {
     "name": "stderr",
     "output_type": "stream",
     "text": [
      "C:\\Users\\audre\\AppData\\Local\\Temp\\ipykernel_8912\\745857846.py:1: FutureWarning: The default value of numeric_only in DataFrameGroupBy.sum is deprecated. In a future version, numeric_only will default to False. Either specify numeric_only or select only columns which should be valid for the function.\n",
      "  df[['UTC', 'Ideal Wind']].groupby(df['UTC'].dt.year).sum()\n"
     ]
    },
    {
     "data": {
      "text/html": [
       "<div>\n",
       "<style scoped>\n",
       "    .dataframe tbody tr th:only-of-type {\n",
       "        vertical-align: middle;\n",
       "    }\n",
       "\n",
       "    .dataframe tbody tr th {\n",
       "        vertical-align: top;\n",
       "    }\n",
       "\n",
       "    .dataframe thead th {\n",
       "        text-align: right;\n",
       "    }\n",
       "</style>\n",
       "<table border=\"1\" class=\"dataframe\">\n",
       "  <thead>\n",
       "    <tr style=\"text-align: right;\">\n",
       "      <th></th>\n",
       "      <th>Ideal Wind</th>\n",
       "    </tr>\n",
       "    <tr>\n",
       "      <th>UTC</th>\n",
       "      <th></th>\n",
       "    </tr>\n",
       "  </thead>\n",
       "  <tbody>\n",
       "    <tr>\n",
       "      <th>2017</th>\n",
       "      <td>1697</td>\n",
       "    </tr>\n",
       "    <tr>\n",
       "      <th>2018</th>\n",
       "      <td>1701</td>\n",
       "    </tr>\n",
       "    <tr>\n",
       "      <th>2019</th>\n",
       "      <td>1644</td>\n",
       "    </tr>\n",
       "    <tr>\n",
       "      <th>2020</th>\n",
       "      <td>1777</td>\n",
       "    </tr>\n",
       "    <tr>\n",
       "      <th>2021</th>\n",
       "      <td>1693</td>\n",
       "    </tr>\n",
       "  </tbody>\n",
       "</table>\n",
       "</div>"
      ],
      "text/plain": [
       "      Ideal Wind\n",
       "UTC             \n",
       "2017        1697\n",
       "2018        1701\n",
       "2019        1644\n",
       "2020        1777\n",
       "2021        1693"
      ]
     },
     "execution_count": 151,
     "metadata": {},
     "output_type": "execute_result"
    }
   ],
   "source": [
    "df[['UTC', 'Ideal Wind']].groupby(df['UTC'].dt.year).sum()"
   ]
  },
  {
   "cell_type": "markdown",
   "metadata": {},
   "source": [
    "Gotta figure out how to do groupby year/month combo, hopefully there's a way besides splitting up the dataset by year and then doing all of this on 5 datasets"
   ]
  }
 ],
 "metadata": {
  "kernelspec": {
   "display_name": "Python 3.10.8 ('ivsurf-env')",
   "language": "python",
   "name": "python3"
  },
  "language_info": {
   "codemirror_mode": {
    "name": "ipython",
    "version": 3
   },
   "file_extension": ".py",
   "mimetype": "text/x-python",
   "name": "python",
   "nbconvert_exporter": "python",
   "pygments_lexer": "ipython3",
   "version": "3.10.8"
  },
  "orig_nbformat": 4,
  "vscode": {
   "interpreter": {
    "hash": "94ab3e166c87eb08f52c1f27d18afd75aa2f18bc3012018fbae2a9065e8ea721"
   }
  }
 },
 "nbformat": 4,
 "nbformat_minor": 2
}
