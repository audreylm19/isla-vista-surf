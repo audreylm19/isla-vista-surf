{
 "cells": [
  {
   "cell_type": "markdown",
   "metadata": {},
   "source": [
    "### Goal:\n",
    "Automate cleaning for five years of tide data.\n",
    "Cleaning includes:\n",
    "- making a UTC datetime column\n",
    "- dropping unessesary columns"
   ]
  },
  {
   "cell_type": "code",
   "execution_count": 11,
   "metadata": {},
   "outputs": [],
   "source": [
    "import pandas as pd\n",
    "import numpy as np"
   ]
  },
  {
   "cell_type": "code",
   "execution_count": 8,
   "metadata": {},
   "outputs": [],
   "source": [
    "#df is tide dataframe to clean\n",
    "#csv is file path name, a string\n",
    "def cleanTide(df, csv):\n",
    "    \n",
    "    #making string for use in to_datetime\n",
    "    df['Date'] = df['Date'].str.replace('/','-')\n",
    "    df['UTC'] = df['Date']+' '+df['Time (GMT)']\n",
    "\n",
    "    #converting\n",
    "    df['UTC'] = pd.to_datetime(df['UTC'], utc=True)\n",
    "    \n",
    "    #renaming\n",
    "    df['Tide'] = df['Verified (ft)']\n",
    "\n",
    "    #dropping and saving to csv\n",
    "    to_drop = ['Date', 'Time (GMT)', 'Predicted (ft)', 'Preliminary (ft)', 'Verified (ft)']\n",
    "    df.drop(columns = to_drop).to_csv(csv, index=False)\n",
    "    \n",
    "    return"
   ]
  },
  {
   "cell_type": "code",
   "execution_count": 9,
   "metadata": {},
   "outputs": [],
   "source": [
    "t17 = pd.read_csv(\"data/raw_tide2017.csv\")\n",
    "t18 = pd.read_csv(\"data/raw_tide2018.csv\")\n",
    "t19 = pd.read_csv(\"data/raw_tide2019.csv\")\n",
    "t20 = pd.read_csv(\"data/raw_tide2020.csv\")\n",
    "t21 = pd.read_csv(\"data/raw_tide2021.csv\")"
   ]
  },
  {
   "cell_type": "code",
   "execution_count": 10,
   "metadata": {},
   "outputs": [],
   "source": [
    "cleanTide(t17,'data/00-tide2017.csv')\n",
    "cleanTide(t18,'data/00-tide2018.csv')\n",
    "cleanTide(t19,'data/00-tide2019.csv')\n",
    "cleanTide(t20,'data/00-tide2020.csv')\n",
    "cleanTide(t21,'data/00-tide2021.csv')"
   ]
  },
  {
   "cell_type": "markdown",
   "metadata": {},
   "source": [
    "## New Goal:\n",
    "append all years together for one dataset\n",
    "\n",
    "### csv files cannot store datetime objects, so need to convert the UTC column to a datetime object while reading the file to a dataframe. "
   ]
  },
  {
   "cell_type": "code",
   "execution_count": 12,
   "metadata": {},
   "outputs": [],
   "source": [
    "date_parser = pd.to_datetime\n",
    "\n",
    "t17 = pd.read_csv('data/00-tide2017.csv', parse_dates=['UTC'], date_parser=date_parser)\n",
    "t18 = pd.read_csv('data/00-tide2018.csv', parse_dates=['UTC'], date_parser=date_parser)\n",
    "t19 = pd.read_csv('data/00-tide2019.csv', parse_dates=['UTC'], date_parser=date_parser)\n",
    "t20 = pd.read_csv('data/00-tide2020.csv', parse_dates=['UTC'], date_parser=date_parser)\n",
    "t21 = pd.read_csv('data/00-tide2021.csv', parse_dates=['UTC'], date_parser=date_parser)"
   ]
  },
  {
   "cell_type": "code",
   "execution_count": 13,
   "metadata": {},
   "outputs": [
    {
     "data": {
      "text/plain": [
       "(43824, 2)"
      ]
     },
     "execution_count": 13,
     "metadata": {},
     "output_type": "execute_result"
    }
   ],
   "source": [
    "#making the fatty\n",
    "bigt = pd.concat([t17,t18,t19,t20,t21], ignore_index=True)\n",
    "bigt.shape"
   ]
  },
  {
   "cell_type": "markdown",
   "metadata": {},
   "source": [
    "No missing hours!!"
   ]
  },
  {
   "cell_type": "code",
   "execution_count": 14,
   "metadata": {},
   "outputs": [
    {
     "data": {
      "text/plain": [
       "43824"
      ]
     },
     "execution_count": 14,
     "metadata": {},
     "output_type": "execute_result"
    }
   ],
   "source": [
    "24*365*5+24"
   ]
  },
  {
   "cell_type": "code",
   "execution_count": 15,
   "metadata": {},
   "outputs": [
    {
     "data": {
      "text/plain": [
       "True"
      ]
     },
     "execution_count": 15,
     "metadata": {},
     "output_type": "execute_result"
    }
   ],
   "source": [
    "#checking to make sure there arn't duplicate dates\n",
    "date_count = bigt['UTC'].value_counts().to_list()\n",
    "\n",
    "ones = np.ones(len(date_count))\n",
    "\n",
    "truth = date_count==ones\n",
    "truth.sum()==bigt.shape[0]"
   ]
  },
  {
   "cell_type": "code",
   "execution_count": 16,
   "metadata": {},
   "outputs": [],
   "source": [
    "bigt.to_csv('data/00-tide.csv',index=False)"
   ]
  },
  {
   "cell_type": "code",
   "execution_count": null,
   "metadata": {},
   "outputs": [],
   "source": []
  }
 ],
 "metadata": {
  "kernelspec": {
   "display_name": "Python 3",
   "language": "python",
   "name": "python3"
  },
  "language_info": {
   "codemirror_mode": {
    "name": "ipython",
    "version": 3
   },
   "file_extension": ".py",
   "mimetype": "text/x-python",
   "name": "python",
   "nbconvert_exporter": "python",
   "pygments_lexer": "ipython3",
   "version": "3.8.5"
  }
 },
 "nbformat": 4,
 "nbformat_minor": 4
}
