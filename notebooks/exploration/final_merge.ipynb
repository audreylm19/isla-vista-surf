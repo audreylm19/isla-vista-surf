{
 "cells": [
  {
   "cell_type": "markdown",
   "id": "7ba099cc-d8de-4a56-a96c-b269dd141dc0",
   "metadata": {},
   "source": [
    "# Goal: \n",
    "### Merge swell, period, wind, and tide data into a singe dataframe\n",
    "### Convert UTC to PST and filter for daylight hours\n",
    "#### This file is the clean version of ```the_big_merge.ipynb```"
   ]
  },
  {
   "cell_type": "code",
   "execution_count": 1,
   "id": "9fdca876-6ad0-458d-ab1e-c3851fd8acc9",
   "metadata": {},
   "outputs": [],
   "source": [
    "import pandas as pd\n",
    "import numpy as np\n",
    "import random\n",
    "\n",
    "from datetime import datetime, timezone, timedelta\n",
    "from zoneinfo import ZoneInfo\n",
    "from astral import LocationInfo\n",
    "from astral.sun import sun"
   ]
  },
  {
   "cell_type": "code",
   "execution_count": 2,
   "id": "2e8c769e-4d0e-4928-8601-5ef3c061834a",
   "metadata": {},
   "outputs": [],
   "source": [
    "#reading cleaned datasets\n",
    "swell = pd.read_csv('data/interim/01-swell.csv')\n",
    "tide = pd.read_csv('data/interim/00-tide.csv')\n",
    "wind = pd.read_csv('data/interim/00-wind.csv')\n",
    "period = pd.read_csv('data/interim/00-period.csv')"
   ]
  },
  {
   "cell_type": "code",
   "execution_count": 3,
   "id": "491e58b7-18b2-4996-9c7a-17b013e88e0d",
   "metadata": {},
   "outputs": [],
   "source": [
    "#merging\n",
    "ts = tide.merge(swell, how='left', on='UTC')\n",
    "tsp= ts.merge(period, how='left', on='UTC')\n",
    "tspw = tsp.merge(wind, how='left', on='UTC')"
   ]
  },
  {
   "cell_type": "code",
   "execution_count": 4,
   "id": "dbb3328c-b773-4680-8954-c1c2dc753df7",
   "metadata": {},
   "outputs": [],
   "source": [
    "#fixing duplicate value\n",
    "tspw.iloc[21452,6]=10\n",
    "tspw = tspw.drop(index=21453)"
   ]
  },
  {
   "cell_type": "code",
   "execution_count": 5,
   "id": "3b18ef9f-4954-4e02-96ef-ca90ecbf8390",
   "metadata": {},
   "outputs": [],
   "source": [
    "#converting to datetime object because csvs can't store\n",
    "tspw['UTC'] = pd.to_datetime(tspw['UTC'], utc=True)"
   ]
  },
  {
   "cell_type": "code",
   "execution_count": 6,
   "id": "812a73c6-0807-4587-84b0-8559036b4975",
   "metadata": {},
   "outputs": [],
   "source": [
    "#creating datetime column in PST\n",
    "PST = ZoneInfo('America/Los_Angeles')\n",
    "pstlist = [x.astimezone(tz=PST) for x in tspw['UTC']]\n",
    "tspw['PST']=pstlist"
   ]
  },
  {
   "cell_type": "code",
   "execution_count": 7,
   "id": "b3f9225c-964b-43ee-ba89-d23fc80dd071",
   "metadata": {},
   "outputs": [],
   "source": [
    "#create Dawn column\n",
    "iv = LocationInfo(\"Isla Vista\", \"California\", \"America/Los_Angeles\", 34.41302853802114, -119.8615254859206)\n",
    "dawn=[]\n",
    "for i in tspw.index.to_list():\n",
    "    s = sun(iv.observer, date=tspw['PST'][i], tzinfo=PST)\n",
    "    dawn.append(s['dawn'])\n",
    "tspw['Dawn'] = dawn\n",
    "\n",
    "#create Dusk column\n",
    "iv = LocationInfo(\"Isla Vista\", \"California\", \"America/Los_Angeles\", 34.41302853802114, -119.8615254859206)\n",
    "dusk=[]\n",
    "for i in tspw.index.to_list():\n",
    "    s = sun(iv.observer, date=tspw['PST'][i], tzinfo=PST)\n",
    "    dusk.append(s['dusk'])\n",
    "tspw['Dusk'] = dusk"
   ]
  },
  {
   "cell_type": "code",
   "execution_count": 8,
   "id": "9ad65d25-1689-435b-9752-dee9103666f0",
   "metadata": {},
   "outputs": [],
   "source": [
    "#filtering for daylight hours\n",
    "day=[]\n",
    "for i in tspw.index.to_list():\n",
    "    day.append(tspw['Dawn'][i] <= tspw['PST'][i] <= tspw['Dusk'][i])"
   ]
  },
  {
   "cell_type": "code",
   "execution_count": 10,
   "id": "aba10a5c-7e7a-46a8-ab6a-d7d67f9762df",
   "metadata": {},
   "outputs": [],
   "source": [
    "#writing to csv\n",
    "tspw[day][['PST','Tide','Height','Deg','Period','Wind Speed', 'Wind Direction']].to_csv('data/processed/final.csv')"
   ]
  },
  {
   "cell_type": "code",
   "execution_count": null,
   "id": "6ee5fc58-f424-4ecb-9ad1-fdeff7379ea3",
   "metadata": {},
   "outputs": [],
   "source": []
  }
 ],
 "metadata": {
  "kernelspec": {
   "display_name": "Python 3 (ipykernel)",
   "language": "python",
   "name": "python3"
  },
  "language_info": {
   "codemirror_mode": {
    "name": "ipython",
    "version": 3
   },
   "file_extension": ".py",
   "mimetype": "text/x-python",
   "name": "python",
   "nbconvert_exporter": "python",
   "pygments_lexer": "ipython3",
   "version": "3.10.8"
  }
 },
 "nbformat": 4,
 "nbformat_minor": 5
}
