{
 "cells": [
  {
   "cell_type": "code",
   "execution_count": 134,
   "metadata": {},
   "outputs": [],
   "source": [
    "import pandas as pd\n",
    "import numpy as np\n",
    "from pathlib import Path\n",
    "import matplotlib.pyplot as plt\n",
    "import matplotlib.patches as mpatches"
   ]
  },
  {
   "cell_type": "code",
   "execution_count": 55,
   "metadata": {},
   "outputs": [],
   "source": [
    "root_folder = Path.cwd().parents[1]\n",
    "\n",
    "columns = ['PST','Score','Ideal Wind', 'Ideal Tide', 'Ideal Swell', 'Ideal Period']\n",
    "df = pd.read_csv(root_folder/'data/processed/01-final.csv', usecols=columns)\n",
    "df = df.rename(columns={'Ideal Wind':'Wind', 'Ideal Tide':'Tide', 'Ideal Swell': 'Swell', 'Ideal Period': 'Period'})\n",
    "df['UTC'] = pd.to_datetime(df['PST'], utc=True)"
   ]
  },
  {
   "cell_type": "markdown",
   "metadata": {},
   "source": [
    "After a bit of searching online, looks like there isn't a good solution to making the PST column a datetime object and keeping it in PST. For now I'll just work in UTC, even though 8 hours out of each year could be shifted to the following year....this may be a problem when making my summaries but for now I'll ignore."
   ]
  },
  {
   "cell_type": "code",
   "execution_count": null,
   "metadata": {},
   "outputs": [],
   "source": [
    "ones = np.ones(df.shape[0], dtype=int)\n",
    "df['count'] = ones"
   ]
  },
  {
   "cell_type": "code",
   "execution_count": 52,
   "metadata": {},
   "outputs": [
    {
     "data": {
      "text/html": [
       "<div>\n",
       "<style scoped>\n",
       "    .dataframe tbody tr th:only-of-type {\n",
       "        vertical-align: middle;\n",
       "    }\n",
       "\n",
       "    .dataframe tbody tr th {\n",
       "        vertical-align: top;\n",
       "    }\n",
       "\n",
       "    .dataframe thead th {\n",
       "        text-align: right;\n",
       "    }\n",
       "</style>\n",
       "<table border=\"1\" class=\"dataframe\">\n",
       "  <thead>\n",
       "    <tr style=\"text-align: right;\">\n",
       "      <th></th>\n",
       "      <th>PST</th>\n",
       "      <th>Wind</th>\n",
       "      <th>Period</th>\n",
       "      <th>Tide</th>\n",
       "      <th>Swell</th>\n",
       "      <th>Score</th>\n",
       "      <th>UTC</th>\n",
       "    </tr>\n",
       "  </thead>\n",
       "  <tbody>\n",
       "    <tr>\n",
       "      <th>0</th>\n",
       "      <td>2017-01-01 07:00:00-08:00</td>\n",
       "      <td>0</td>\n",
       "      <td>1</td>\n",
       "      <td>1</td>\n",
       "      <td>0</td>\n",
       "      <td>2</td>\n",
       "      <td>2017-01-01 15:00:00+00:00</td>\n",
       "    </tr>\n",
       "    <tr>\n",
       "      <th>1</th>\n",
       "      <td>2017-01-01 08:00:00-08:00</td>\n",
       "      <td>1</td>\n",
       "      <td>1</td>\n",
       "      <td>1</td>\n",
       "      <td>0</td>\n",
       "      <td>3</td>\n",
       "      <td>2017-01-01 16:00:00+00:00</td>\n",
       "    </tr>\n",
       "    <tr>\n",
       "      <th>2</th>\n",
       "      <td>2017-01-01 09:00:00-08:00</td>\n",
       "      <td>1</td>\n",
       "      <td>1</td>\n",
       "      <td>0</td>\n",
       "      <td>0</td>\n",
       "      <td>2</td>\n",
       "      <td>2017-01-01 17:00:00+00:00</td>\n",
       "    </tr>\n",
       "    <tr>\n",
       "      <th>3</th>\n",
       "      <td>2017-01-01 10:00:00-08:00</td>\n",
       "      <td>1</td>\n",
       "      <td>1</td>\n",
       "      <td>0</td>\n",
       "      <td>0</td>\n",
       "      <td>2</td>\n",
       "      <td>2017-01-01 18:00:00+00:00</td>\n",
       "    </tr>\n",
       "    <tr>\n",
       "      <th>4</th>\n",
       "      <td>2017-01-01 11:00:00-08:00</td>\n",
       "      <td>1</td>\n",
       "      <td>1</td>\n",
       "      <td>0</td>\n",
       "      <td>1</td>\n",
       "      <td>3</td>\n",
       "      <td>2017-01-01 19:00:00+00:00</td>\n",
       "    </tr>\n",
       "  </tbody>\n",
       "</table>\n",
       "</div>"
      ],
      "text/plain": [
       "                         PST  Wind  Period  Tide  Swell  Score  \\\n",
       "0  2017-01-01 07:00:00-08:00     0       1     1      0      2   \n",
       "1  2017-01-01 08:00:00-08:00     1       1     1      0      3   \n",
       "2  2017-01-01 09:00:00-08:00     1       1     0      0      2   \n",
       "3  2017-01-01 10:00:00-08:00     1       1     0      0      2   \n",
       "4  2017-01-01 11:00:00-08:00     1       1     0      1      3   \n",
       "\n",
       "                        UTC  \n",
       "0 2017-01-01 15:00:00+00:00  \n",
       "1 2017-01-01 16:00:00+00:00  \n",
       "2 2017-01-01 17:00:00+00:00  \n",
       "3 2017-01-01 18:00:00+00:00  \n",
       "4 2017-01-01 19:00:00+00:00  "
      ]
     },
     "execution_count": 52,
     "metadata": {},
     "output_type": "execute_result"
    }
   ],
   "source": [
    "df.head()"
   ]
  },
  {
   "cell_type": "code",
   "execution_count": 56,
   "metadata": {},
   "outputs": [
    {
     "data": {
      "text/html": [
       "<div>\n",
       "<style scoped>\n",
       "    .dataframe tbody tr th:only-of-type {\n",
       "        vertical-align: middle;\n",
       "    }\n",
       "\n",
       "    .dataframe tbody tr th {\n",
       "        vertical-align: top;\n",
       "    }\n",
       "\n",
       "    .dataframe thead th {\n",
       "        text-align: right;\n",
       "    }\n",
       "</style>\n",
       "<table border=\"1\" class=\"dataframe\">\n",
       "  <thead>\n",
       "    <tr style=\"text-align: right;\">\n",
       "      <th></th>\n",
       "      <th>PST</th>\n",
       "      <th>Wind</th>\n",
       "      <th>Period</th>\n",
       "      <th>Tide</th>\n",
       "      <th>Swell</th>\n",
       "      <th>Score</th>\n",
       "      <th>UTC</th>\n",
       "    </tr>\n",
       "  </thead>\n",
       "  <tbody>\n",
       "    <tr>\n",
       "      <th>0</th>\n",
       "      <td>2017-01-01 07:00:00-08:00</td>\n",
       "      <td>0</td>\n",
       "      <td>1</td>\n",
       "      <td>1</td>\n",
       "      <td>0</td>\n",
       "      <td>2</td>\n",
       "      <td>2017-01-01 15:00:00+00:00</td>\n",
       "    </tr>\n",
       "    <tr>\n",
       "      <th>1</th>\n",
       "      <td>2017-01-01 08:00:00-08:00</td>\n",
       "      <td>1</td>\n",
       "      <td>1</td>\n",
       "      <td>1</td>\n",
       "      <td>0</td>\n",
       "      <td>3</td>\n",
       "      <td>2017-01-01 16:00:00+00:00</td>\n",
       "    </tr>\n",
       "    <tr>\n",
       "      <th>2</th>\n",
       "      <td>2017-01-01 09:00:00-08:00</td>\n",
       "      <td>1</td>\n",
       "      <td>1</td>\n",
       "      <td>0</td>\n",
       "      <td>0</td>\n",
       "      <td>2</td>\n",
       "      <td>2017-01-01 17:00:00+00:00</td>\n",
       "    </tr>\n",
       "    <tr>\n",
       "      <th>3</th>\n",
       "      <td>2017-01-01 10:00:00-08:00</td>\n",
       "      <td>1</td>\n",
       "      <td>1</td>\n",
       "      <td>0</td>\n",
       "      <td>0</td>\n",
       "      <td>2</td>\n",
       "      <td>2017-01-01 18:00:00+00:00</td>\n",
       "    </tr>\n",
       "    <tr>\n",
       "      <th>4</th>\n",
       "      <td>2017-01-01 11:00:00-08:00</td>\n",
       "      <td>1</td>\n",
       "      <td>1</td>\n",
       "      <td>0</td>\n",
       "      <td>1</td>\n",
       "      <td>3</td>\n",
       "      <td>2017-01-01 19:00:00+00:00</td>\n",
       "    </tr>\n",
       "  </tbody>\n",
       "</table>\n",
       "</div>"
      ],
      "text/plain": [
       "                         PST  Wind  Period  Tide  Swell  Score  \\\n",
       "0  2017-01-01 07:00:00-08:00     0       1     1      0      2   \n",
       "1  2017-01-01 08:00:00-08:00     1       1     1      0      3   \n",
       "2  2017-01-01 09:00:00-08:00     1       1     0      0      2   \n",
       "3  2017-01-01 10:00:00-08:00     1       1     0      0      2   \n",
       "4  2017-01-01 11:00:00-08:00     1       1     0      1      3   \n",
       "\n",
       "                        UTC  \n",
       "0 2017-01-01 15:00:00+00:00  \n",
       "1 2017-01-01 16:00:00+00:00  \n",
       "2 2017-01-01 17:00:00+00:00  \n",
       "3 2017-01-01 18:00:00+00:00  \n",
       "4 2017-01-01 19:00:00+00:00  "
      ]
     },
     "execution_count": 56,
     "metadata": {},
     "output_type": "execute_result"
    }
   ],
   "source": [
    "df.head()"
   ]
  },
  {
   "cell_type": "code",
   "execution_count": 57,
   "metadata": {},
   "outputs": [
    {
     "data": {
      "text/plain": [
       "2    8937\n",
       "1    7274\n",
       "3    4865\n",
       "0    1581\n",
       "4    1193\n",
       "Name: Score, dtype: int64"
      ]
     },
     "execution_count": 57,
     "metadata": {},
     "output_type": "execute_result"
    }
   ],
   "source": [
    "df.Score.value_counts()"
   ]
  },
  {
   "cell_type": "code",
   "execution_count": 62,
   "metadata": {},
   "outputs": [
    {
     "data": {
      "text/plain": [
       "<function matplotlib.pyplot.show(close=None, block=None)>"
      ]
     },
     "execution_count": 62,
     "metadata": {},
     "output_type": "execute_result"
    },
    {
     "data": {
      "image/png": "[encoded data removed]",
      "text/plain": [
       "<Figure size 640x480 with 1 Axes>"
      ]
     },
     "metadata": {},
     "output_type": "display_data"
    }
   ],
   "source": [
    "plt.scatter(df.UTC, df.Score)\n",
    "plt.show"
   ]
  },
  {
   "cell_type": "code",
   "execution_count": 65,
   "metadata": {},
   "outputs": [],
   "source": [
    "df['Swell Score'] = df[['Swell','Period']].sum(axis=1)"
   ]
  },
  {
   "cell_type": "code",
   "execution_count": 66,
   "metadata": {},
   "outputs": [
    {
     "data": {
      "text/html": [
       "<div>\n",
       "<style scoped>\n",
       "    .dataframe tbody tr th:only-of-type {\n",
       "        vertical-align: middle;\n",
       "    }\n",
       "\n",
       "    .dataframe tbody tr th {\n",
       "        vertical-align: top;\n",
       "    }\n",
       "\n",
       "    .dataframe thead th {\n",
       "        text-align: right;\n",
       "    }\n",
       "</style>\n",
       "<table border=\"1\" class=\"dataframe\">\n",
       "  <thead>\n",
       "    <tr style=\"text-align: right;\">\n",
       "      <th></th>\n",
       "      <th>PST</th>\n",
       "      <th>Wind</th>\n",
       "      <th>Period</th>\n",
       "      <th>Tide</th>\n",
       "      <th>Swell</th>\n",
       "      <th>Score</th>\n",
       "      <th>UTC</th>\n",
       "      <th>Swell Score</th>\n",
       "    </tr>\n",
       "  </thead>\n",
       "  <tbody>\n",
       "    <tr>\n",
       "      <th>0</th>\n",
       "      <td>2017-01-01 07:00:00-08:00</td>\n",
       "      <td>0</td>\n",
       "      <td>1</td>\n",
       "      <td>1</td>\n",
       "      <td>0</td>\n",
       "      <td>2</td>\n",
       "      <td>2017-01-01 15:00:00+00:00</td>\n",
       "      <td>1</td>\n",
       "    </tr>\n",
       "    <tr>\n",
       "      <th>1</th>\n",
       "      <td>2017-01-01 08:00:00-08:00</td>\n",
       "      <td>1</td>\n",
       "      <td>1</td>\n",
       "      <td>1</td>\n",
       "      <td>0</td>\n",
       "      <td>3</td>\n",
       "      <td>2017-01-01 16:00:00+00:00</td>\n",
       "      <td>1</td>\n",
       "    </tr>\n",
       "    <tr>\n",
       "      <th>2</th>\n",
       "      <td>2017-01-01 09:00:00-08:00</td>\n",
       "      <td>1</td>\n",
       "      <td>1</td>\n",
       "      <td>0</td>\n",
       "      <td>0</td>\n",
       "      <td>2</td>\n",
       "      <td>2017-01-01 17:00:00+00:00</td>\n",
       "      <td>1</td>\n",
       "    </tr>\n",
       "    <tr>\n",
       "      <th>3</th>\n",
       "      <td>2017-01-01 10:00:00-08:00</td>\n",
       "      <td>1</td>\n",
       "      <td>1</td>\n",
       "      <td>0</td>\n",
       "      <td>0</td>\n",
       "      <td>2</td>\n",
       "      <td>2017-01-01 18:00:00+00:00</td>\n",
       "      <td>1</td>\n",
       "    </tr>\n",
       "    <tr>\n",
       "      <th>4</th>\n",
       "      <td>2017-01-01 11:00:00-08:00</td>\n",
       "      <td>1</td>\n",
       "      <td>1</td>\n",
       "      <td>0</td>\n",
       "      <td>1</td>\n",
       "      <td>3</td>\n",
       "      <td>2017-01-01 19:00:00+00:00</td>\n",
       "      <td>2</td>\n",
       "    </tr>\n",
       "  </tbody>\n",
       "</table>\n",
       "</div>"
      ],
      "text/plain": [
       "                         PST  Wind  Period  Tide  Swell  Score  \\\n",
       "0  2017-01-01 07:00:00-08:00     0       1     1      0      2   \n",
       "1  2017-01-01 08:00:00-08:00     1       1     1      0      3   \n",
       "2  2017-01-01 09:00:00-08:00     1       1     0      0      2   \n",
       "3  2017-01-01 10:00:00-08:00     1       1     0      0      2   \n",
       "4  2017-01-01 11:00:00-08:00     1       1     0      1      3   \n",
       "\n",
       "                        UTC  Swell Score  \n",
       "0 2017-01-01 15:00:00+00:00            1  \n",
       "1 2017-01-01 16:00:00+00:00            1  \n",
       "2 2017-01-01 17:00:00+00:00            1  \n",
       "3 2017-01-01 18:00:00+00:00            1  \n",
       "4 2017-01-01 19:00:00+00:00            2  "
      ]
     },
     "execution_count": 66,
     "metadata": {},
     "output_type": "execute_result"
    }
   ],
   "source": [
    "df.head()"
   ]
  },
  {
   "cell_type": "code",
   "execution_count": 80,
   "metadata": {},
   "outputs": [
    {
     "data": {
      "text/html": [
       "<div>\n",
       "<style scoped>\n",
       "    .dataframe tbody tr th:only-of-type {\n",
       "        vertical-align: middle;\n",
       "    }\n",
       "\n",
       "    .dataframe tbody tr th {\n",
       "        vertical-align: top;\n",
       "    }\n",
       "\n",
       "    .dataframe thead th {\n",
       "        text-align: right;\n",
       "    }\n",
       "</style>\n",
       "<table border=\"1\" class=\"dataframe\">\n",
       "  <thead>\n",
       "    <tr style=\"text-align: right;\">\n",
       "      <th></th>\n",
       "      <th>Score</th>\n",
       "      <th>UTC</th>\n",
       "      <th>Wind</th>\n",
       "      <th>Period</th>\n",
       "      <th>Tide</th>\n",
       "      <th>Swell</th>\n",
       "      <th>Swell Score</th>\n",
       "    </tr>\n",
       "  </thead>\n",
       "  <tbody>\n",
       "    <tr>\n",
       "      <th>0</th>\n",
       "      <td>0</td>\n",
       "      <td>2017-01-06 20:00:00+00:00</td>\n",
       "      <td>0</td>\n",
       "      <td>0</td>\n",
       "      <td>0</td>\n",
       "      <td>0</td>\n",
       "      <td>0</td>\n",
       "    </tr>\n",
       "    <tr>\n",
       "      <th>1</th>\n",
       "      <td>0</td>\n",
       "      <td>2017-01-07 18:00:00+00:00</td>\n",
       "      <td>0</td>\n",
       "      <td>0</td>\n",
       "      <td>0</td>\n",
       "      <td>0</td>\n",
       "      <td>0</td>\n",
       "    </tr>\n",
       "    <tr>\n",
       "      <th>2</th>\n",
       "      <td>0</td>\n",
       "      <td>2017-01-07 19:00:00+00:00</td>\n",
       "      <td>0</td>\n",
       "      <td>0</td>\n",
       "      <td>0</td>\n",
       "      <td>0</td>\n",
       "      <td>0</td>\n",
       "    </tr>\n",
       "    <tr>\n",
       "      <th>3</th>\n",
       "      <td>0</td>\n",
       "      <td>2017-01-07 20:00:00+00:00</td>\n",
       "      <td>0</td>\n",
       "      <td>0</td>\n",
       "      <td>0</td>\n",
       "      <td>0</td>\n",
       "      <td>0</td>\n",
       "    </tr>\n",
       "    <tr>\n",
       "      <th>4</th>\n",
       "      <td>0</td>\n",
       "      <td>2017-01-07 21:00:00+00:00</td>\n",
       "      <td>0</td>\n",
       "      <td>0</td>\n",
       "      <td>0</td>\n",
       "      <td>0</td>\n",
       "      <td>0</td>\n",
       "    </tr>\n",
       "    <tr>\n",
       "      <th>...</th>\n",
       "      <td>...</td>\n",
       "      <td>...</td>\n",
       "      <td>...</td>\n",
       "      <td>...</td>\n",
       "      <td>...</td>\n",
       "      <td>...</td>\n",
       "      <td>...</td>\n",
       "    </tr>\n",
       "    <tr>\n",
       "      <th>23845</th>\n",
       "      <td>4</td>\n",
       "      <td>2021-12-22 16:00:00+00:00</td>\n",
       "      <td>1</td>\n",
       "      <td>1</td>\n",
       "      <td>1</td>\n",
       "      <td>1</td>\n",
       "      <td>2</td>\n",
       "    </tr>\n",
       "    <tr>\n",
       "      <th>23846</th>\n",
       "      <td>4</td>\n",
       "      <td>2021-12-22 21:00:00+00:00</td>\n",
       "      <td>1</td>\n",
       "      <td>1</td>\n",
       "      <td>1</td>\n",
       "      <td>1</td>\n",
       "      <td>2</td>\n",
       "    </tr>\n",
       "    <tr>\n",
       "      <th>23847</th>\n",
       "      <td>4</td>\n",
       "      <td>2021-12-22 22:00:00+00:00</td>\n",
       "      <td>1</td>\n",
       "      <td>1</td>\n",
       "      <td>1</td>\n",
       "      <td>1</td>\n",
       "      <td>2</td>\n",
       "    </tr>\n",
       "    <tr>\n",
       "      <th>23848</th>\n",
       "      <td>4</td>\n",
       "      <td>2021-12-25 18:00:00+00:00</td>\n",
       "      <td>1</td>\n",
       "      <td>1</td>\n",
       "      <td>1</td>\n",
       "      <td>1</td>\n",
       "      <td>2</td>\n",
       "    </tr>\n",
       "    <tr>\n",
       "      <th>23849</th>\n",
       "      <td>4</td>\n",
       "      <td>2021-12-25 20:00:00+00:00</td>\n",
       "      <td>1</td>\n",
       "      <td>1</td>\n",
       "      <td>1</td>\n",
       "      <td>1</td>\n",
       "      <td>2</td>\n",
       "    </tr>\n",
       "  </tbody>\n",
       "</table>\n",
       "<p>23850 rows × 7 columns</p>\n",
       "</div>"
      ],
      "text/plain": [
       "       Score                       UTC  Wind  Period  Tide  Swell  Swell Score\n",
       "0          0 2017-01-06 20:00:00+00:00     0       0     0      0            0\n",
       "1          0 2017-01-07 18:00:00+00:00     0       0     0      0            0\n",
       "2          0 2017-01-07 19:00:00+00:00     0       0     0      0            0\n",
       "3          0 2017-01-07 20:00:00+00:00     0       0     0      0            0\n",
       "4          0 2017-01-07 21:00:00+00:00     0       0     0      0            0\n",
       "...      ...                       ...   ...     ...   ...    ...          ...\n",
       "23845      4 2021-12-22 16:00:00+00:00     1       1     1      1            2\n",
       "23846      4 2021-12-22 21:00:00+00:00     1       1     1      1            2\n",
       "23847      4 2021-12-22 22:00:00+00:00     1       1     1      1            2\n",
       "23848      4 2021-12-25 18:00:00+00:00     1       1     1      1            2\n",
       "23849      4 2021-12-25 20:00:00+00:00     1       1     1      1            2\n",
       "\n",
       "[23850 rows x 7 columns]"
      ]
     },
     "execution_count": 80,
     "metadata": {},
     "output_type": "execute_result"
    }
   ],
   "source": [
    "df.drop(columns='PST').groupby(['Score', 'UTC']).sum().reset_index()"
   ]
  },
  {
   "cell_type": "code",
   "execution_count": 102,
   "metadata": {},
   "outputs": [],
   "source": [
    "zero = df.Score == 0\n",
    "one = df.Score == 1\n",
    "two = df.Score == 2\n",
    "three = df.Score == 3\n",
    "four = df.Score == 4"
   ]
  },
  {
   "cell_type": "code",
   "execution_count": 152,
   "metadata": {},
   "outputs": [],
   "source": [
    "#values of each group\n",
    "bar0 = df[zero]['count'].groupby(df['UTC'].dt.year).sum()\n",
    "bar1 = df[one]['count'].groupby(df['UTC'].dt.year).sum()\n",
    "bar2 = df[two]['count'].groupby(df['UTC'].dt.year).sum()\n",
    "bar3 = df[three]['count'].groupby(df['UTC'].dt.year).sum()\n",
    "bar4 = df[four]['count'].groupby(df['UTC'].dt.year).sum()"
   ]
  },
  {
   "cell_type": "code",
   "execution_count": 163,
   "metadata": {},
   "outputs": [
    {
     "data": {
      "image/png": "[encoded data removed]",
      "text/plain": [
       "<Figure size 600x800 with 1 Axes>"
      ]
     },
     "metadata": {},
     "output_type": "display_data"
    }
   ],
   "source": [
    "#position of bars on the x-axis\n",
    "r = [0,1,2,3,4]\n",
    "\n",
    "#names of group and bar width and edgecolor\n",
    "names = ['2017','2018','2019','2020','2021']\n",
    "bar_width = 1\n",
    "edgecolor = 'white'\n",
    "\n",
    "#bar heights\n",
    "bar2_start = np.add(bar0,bar1).tolist()\n",
    "bar3_start = np.add(bar2_start, bar2).tolist()\n",
    "bar4_start = np.add(bar3_start, bar3).tolist()\n",
    "\n",
    "plt.figure(figsize=(6,8))\n",
    "\n",
    "#create zero bars\n",
    "plt.bar(r, bar0, color='gray', edgecolor = edgecolor, width=bar_width)\n",
    "\n",
    "#create one bars\n",
    "plt.bar(r, bar1, bottom=bar0, color='dodgerblue', edgecolor = edgecolor, width=bar_width)\n",
    "\n",
    "#create two bars\n",
    "plt.bar(r, bar2, bottom=bar2_start, color='limegreen', edgecolor = edgecolor, width=bar_width)\n",
    "\n",
    "#create three bars\n",
    "plt.bar(r, bar3, bottom=bar3_start, color='orange', edgecolor = edgecolor, width=bar_width)\n",
    "\n",
    "#create four bars\n",
    "plt.bar(r, bar4, bottom=bar4_start, color='orangered', edgecolor = edgecolor, width=bar_width)\n",
    "\n",
    "#custom x axis\n",
    "plt.xticks(r,names, fontweight='bold')\n",
    "plt.xlabel('Year')\n",
    "\n",
    "plt.ylabel('Surfable Hours')\n",
    "\n",
    "# Add a legend\n",
    "gray = mpatches.Patch(color='gray', label='0')\n",
    "blue = mpatches.Patch(color='dodgerblue', label='1')\n",
    "green = mpatches.Patch(color='limegreen', label='2')\n",
    "orange = mpatches.Patch(color='orange', label='3')\n",
    "red = mpatches.Patch(color='orangered', label='4')\n",
    "plt.legend(handles = [red,orange,green,blue,gray],loc='upper left', bbox_to_anchor=(1,1), ncol=1)\n",
    "\n",
    "plt.title('Number of Ideal Conditions Met', loc='center')\n",
    "\n",
    "plt.show()\n"
   ]
  },
  {
   "cell_type": "code",
   "execution_count": 128,
   "metadata": {},
   "outputs": [],
   "source": [
    "bar2_start = np.add(bar0,bar1).tolist()\n"
   ]
  },
  {
   "cell_type": "code",
   "execution_count": 129,
   "metadata": {},
   "outputs": [
    {
     "ename": "AttributeError",
     "evalue": "'numpy.ndarray' object has no attribute 'to_list'",
     "output_type": "error",
     "traceback": [
      "\u001b[1;31m---------------------------------------------------------------------------\u001b[0m",
      "\u001b[1;31mAttributeError\u001b[0m                            Traceback (most recent call last)",
      "Cell \u001b[1;32mIn [129], line 1\u001b[0m\n\u001b[1;32m----> 1\u001b[0m bar3_start \u001b[39m=\u001b[39m np\u001b[39m.\u001b[39;49madd(bar2_start, bar2)\u001b[39m.\u001b[39;49mto_list()\n",
      "\u001b[1;31mAttributeError\u001b[0m: 'numpy.ndarray' object has no attribute 'to_list'"
     ]
    }
   ],
   "source": [
    "\n",
    "bar3_start = np.add(bar2_start, bar2).tolist()\n"
   ]
  },
  {
   "cell_type": "code",
   "execution_count": null,
   "metadata": {},
   "outputs": [],
   "source": [
    "bar4_start = np.add(bar3_start, bar3).tolist()"
   ]
  },
  {
   "cell_type": "code",
   "execution_count": 148,
   "metadata": {},
   "outputs": [
    {
     "data": {
      "text/plain": [
       "UTC\n",
       "2017    1775\n",
       "2018    1751\n",
       "2019    1817\n",
       "2020    1799\n",
       "2021    1795\n",
       "Name: count, dtype: int32"
      ]
     },
     "execution_count": 148,
     "metadata": {},
     "output_type": "execute_result"
    }
   ],
   "source": [
    "df[two]['count'].groupby(df['UTC'].dt.year).sum()"
   ]
  },
  {
   "cell_type": "code",
   "execution_count": 158,
   "metadata": {},
   "outputs": [],
   "source": [
    "l = df[two]['count'].groupby(df['UTC'].dt.year).sum().index.to_list()"
   ]
  },
  {
   "cell_type": "code",
   "execution_count": 159,
   "metadata": {},
   "outputs": [
    {
     "data": {
      "text/plain": [
       "5"
      ]
     },
     "execution_count": 159,
     "metadata": {},
     "output_type": "execute_result"
    }
   ],
   "source": [
    "len(l)"
   ]
  }
 ],
 "metadata": {
  "kernelspec": {
   "display_name": "Python 3.10.8 ('ivsurf-env')",
   "language": "python",
   "name": "python3"
  },
  "language_info": {
   "codemirror_mode": {
    "name": "ipython",
    "version": 3
   },
   "file_extension": ".py",
   "mimetype": "text/x-python",
   "name": "python",
   "nbconvert_exporter": "python",
   "pygments_lexer": "ipython3",
   "version": "3.10.8"
  },
  "orig_nbformat": 4,
  "vscode": {
   "interpreter": {
    "hash": "94ab3e166c87eb08f52c1f27d18afd75aa2f18bc3012018fbae2a9065e8ea721"
   }
  }
 },
 "nbformat": 4,
 "nbformat_minor": 2
}
