{
 "cells": [
  {
   "cell_type": "code",
   "execution_count": 15,
   "metadata": {},
   "outputs": [],
   "source": [
    "import pandas as pd\n",
    "from pathlib import Path\n",
    "from datetime import timedelta\n",
    "import numpy as np\n",
    "from bokeh.io import show\n",
    "\n",
    "import sys\n",
    "sys.path.insert(1, 'C:\\\\Users\\\\audre\\\\Documents\\\\Data Science Portfolio\\\\Surf\\\\src\\\\data_prep')\n",
    "from scatter_bar_functions import makeScatterBar"
   ]
  },
  {
   "cell_type": "code",
   "execution_count": 2,
   "metadata": {},
   "outputs": [],
   "source": [
    "#reading in data\n",
    "root_folder = Path.cwd().parents[1]\n",
    "y16 = pd.read_csv(root_folder/'data/processed'/'01-final.csv')\n",
    "y16['PSTdt'] = pd.to_datetime(y16['PST'], utc=True)-timedelta(hours=8)"
   ]
  },
  {
   "cell_type": "code",
   "execution_count": 5,
   "metadata": {},
   "outputs": [],
   "source": [
    "y16 = y16[y16.PSTdt.dt.year == 2016]"
   ]
  },
  {
   "cell_type": "code",
   "execution_count": 9,
   "metadata": {},
   "outputs": [
    {
     "data": {
      "text/plain": [
       "PST                  0\n",
       "Tide                 0\n",
       "Height            1292\n",
       "Deg               1292\n",
       "Period            1292\n",
       "Wind Speed           1\n",
       "Wind Direction       3\n",
       "Ideal Wind           0\n",
       "Ideal Period         0\n",
       "Ideal Tide           0\n",
       "Ideal Swell          0\n",
       "Score                0\n",
       "PSTdt                0\n",
       "dtype: int64"
      ]
     },
     "execution_count": 9,
     "metadata": {},
     "output_type": "execute_result"
    }
   ],
   "source": [
    "y16.isna().sum()"
   ]
  },
  {
   "attachments": {},
   "cell_type": "markdown",
   "metadata": {},
   "source": [
    "gonna experiment with fully dropping nan values bc so many definitly skew the results"
   ]
  },
  {
   "cell_type": "code",
   "execution_count": 19,
   "metadata": {},
   "outputs": [
    {
     "name": "stderr",
     "output_type": "stream",
     "text": [
      "C:\\Users\\audre\\AppData\\Local\\Temp\\ipykernel_25608\\4157503066.py:2: SettingWithCopyWarning: \n",
      "A value is trying to be set on a copy of a slice from a DataFrame.\n",
      "Try using .loc[row_indexer,col_indexer] = value instead\n",
      "\n",
      "See the caveats in the documentation: https://pandas.pydata.org/pandas-docs/stable/user_guide/indexing.html#returning-a-view-versus-a-copy\n",
      "  y16['Month'] = y16['PSTdt'].dt.month\n",
      "C:\\Users\\audre\\AppData\\Local\\Temp\\ipykernel_25608\\4157503066.py:5: SettingWithCopyWarning: \n",
      "A value is trying to be set on a copy of a slice from a DataFrame.\n",
      "Try using .loc[row_indexer,col_indexer] = value instead\n",
      "\n",
      "See the caveats in the documentation: https://pandas.pydata.org/pandas-docs/stable/user_guide/indexing.html#returning-a-view-versus-a-copy\n",
      "  y16['color'] = ''\n"
     ]
    }
   ],
   "source": [
    "#creating month column\n",
    "y16['Month'] = y16['PSTdt'].dt.month\n",
    "\n",
    "#defining colors\n",
    "y16['color'] = ''\n",
    "y16.loc[y16['Score']==1, 'color'] = \"#1E90FF\"\n",
    "y16.loc[y16['Score']==2, 'color'] = \"#32CD32\"\n",
    "y16.loc[y16['Score']==0, 'color'] = \"#808080\"\n",
    "y16.loc[y16['Score']==3, 'color'] = \"#FFA500\"\n",
    "y16.loc[y16['Score']==4, 'color'] = \"#FF4500\"\n",
    "y16.loc[y16['Score']==-1, 'color'] = \"#DDDD00\"\n"
   ]
  },
  {
   "cell_type": "code",
   "execution_count": 33,
   "metadata": {},
   "outputs": [
    {
     "name": "stderr",
     "output_type": "stream",
     "text": [
      "C:\\Users\\audre\\AppData\\Local\\Temp\\ipykernel_25608\\2924445294.py:1: FutureWarning: In a future version of pandas all arguments of DataFrame.any and Series.any will be keyword-only.\n",
      "  nanindex = y16[pd.isnull(y16).any(1)].index\n"
     ]
    }
   ],
   "source": [
    "nanindex = y16[pd.isnull(y16).any(1)].index"
   ]
  },
  {
   "cell_type": "code",
   "execution_count": 34,
   "metadata": {},
   "outputs": [],
   "source": [
    "y16.loc[nanindex, 'Score'] = -1"
   ]
  },
  {
   "attachments": {},
   "cell_type": "markdown",
   "metadata": {},
   "source": [
    "make other color that shows \"no data\"? or search internet for supplementary data source"
   ]
  },
  {
   "cell_type": "code",
   "execution_count": 35,
   "metadata": {},
   "outputs": [],
   "source": [
    "y16.loc[y16['Score']==-1, 'color'] = \"#DDDD00\""
   ]
  },
  {
   "cell_type": "code",
   "execution_count": 36,
   "metadata": {},
   "outputs": [],
   "source": [
    "plot = makeScatterBar(2016, 5, 5, y16)"
   ]
  },
  {
   "cell_type": "code",
   "execution_count": 37,
   "metadata": {},
   "outputs": [],
   "source": [
    "show(plot)"
   ]
  },
  {
   "cell_type": "code",
   "execution_count": null,
   "metadata": {},
   "outputs": [],
   "source": []
  }
 ],
 "metadata": {
  "kernelspec": {
   "display_name": "ivsurf-env",
   "language": "python",
   "name": "python3"
  },
  "language_info": {
   "codemirror_mode": {
    "name": "ipython",
    "version": 3
   },
   "file_extension": ".py",
   "mimetype": "text/x-python",
   "name": "python",
   "nbconvert_exporter": "python",
   "pygments_lexer": "ipython3",
   "version": "3.10.8"
  },
  "orig_nbformat": 4,
  "vscode": {
   "interpreter": {
    "hash": "94ab3e166c87eb08f52c1f27d18afd75aa2f18bc3012018fbae2a9065e8ea721"
   }
  }
 },
 "nbformat": 4,
 "nbformat_minor": 2
}
