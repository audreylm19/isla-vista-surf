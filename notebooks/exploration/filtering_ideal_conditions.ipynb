{
 "cells": [
  {
   "cell_type": "markdown",
   "metadata": {},
   "source": [
    "### Goal: \n",
    "Create function that given some \"ideal conditons\" can spit out a dataframe with `Ideal Wind`, `Ideal Period`, `Ideal Tide`, and `Ideal Swell` columns. <br/>\n",
    "This is key because will likely want to change ideal parameters depending on new information/would be interesting to run with different numbers anyways."
   ]
  },
  {
   "cell_type": "code",
   "execution_count": 6,
   "metadata": {},
   "outputs": [],
   "source": [
    "import pandas as pd\n",
    "import numpy as np\n",
    "from pathlib import Path"
   ]
  },
  {
   "cell_type": "code",
   "execution_count": 24,
   "metadata": {},
   "outputs": [],
   "source": [
    "root_folder = Path.cwd().parents[1]\n",
    "\n",
    "df = pd.read_csv(root_folder/'data/processed/00-final.csv')"
   ]
  },
  {
   "cell_type": "code",
   "execution_count": 20,
   "metadata": {},
   "outputs": [],
   "source": [
    "def ideal_wind(df, wind_direction: list, wind_speed: list):\n",
    "    \"\"\"Creates Ideal Wind column, 0 for bad wind, 1 for good wind\"\"\"\n",
    "\n",
    "    zeros = np.zeros(df.shape[0],dtype=int)\n",
    "    df['Ideal Wind']=zeros\n",
    "\n",
    "    #low speed winds are ideal\n",
    "    df.loc[df['Wind Speed'] <= wind_speed[0], 'Ideal Wind'] = 1\n",
    "\n",
    "    #filter for direction\n",
    "    wdints = pd.to_numeric(df['Wind Direction'],errors='coerce') #only care about integer values\n",
    "    goodwind = (wind_direction[0] <= wdints) & (wdints <= wind_direction[1]) \n",
    "    df.loc[goodwind, 'Ideal Wind'] = 1\n",
    "\n",
    "    #high speed winds bad\n",
    "    df.loc[df['Wind Speed']>=wind_speed[1], 'Ideal Wind'] = 0\n",
    "\n",
    "    return\n"
   ]
  },
  {
   "cell_type": "code",
   "execution_count": 6,
   "metadata": {},
   "outputs": [
    {
     "data": {
      "text/html": [
       "<div>\n",
       "<style scoped>\n",
       "    .dataframe tbody tr th:only-of-type {\n",
       "        vertical-align: middle;\n",
       "    }\n",
       "\n",
       "    .dataframe tbody tr th {\n",
       "        vertical-align: top;\n",
       "    }\n",
       "\n",
       "    .dataframe thead th {\n",
       "        text-align: right;\n",
       "    }\n",
       "</style>\n",
       "<table border=\"1\" class=\"dataframe\">\n",
       "  <thead>\n",
       "    <tr style=\"text-align: right;\">\n",
       "      <th></th>\n",
       "      <th>PST</th>\n",
       "      <th>Tide</th>\n",
       "      <th>Height</th>\n",
       "      <th>Deg</th>\n",
       "      <th>Period</th>\n",
       "      <th>Wind Speed</th>\n",
       "      <th>Wind Direction</th>\n",
       "    </tr>\n",
       "  </thead>\n",
       "  <tbody>\n",
       "    <tr>\n",
       "      <th>0</th>\n",
       "      <td>2017-01-01 07:00:00-08:00</td>\n",
       "      <td>3.82</td>\n",
       "      <td>2.47</td>\n",
       "      <td>306.0</td>\n",
       "      <td>11.0</td>\n",
       "      <td>7.0</td>\n",
       "      <td>260</td>\n",
       "    </tr>\n",
       "    <tr>\n",
       "      <th>1</th>\n",
       "      <td>2017-01-01 08:00:00-08:00</td>\n",
       "      <td>4.42</td>\n",
       "      <td>2.37</td>\n",
       "      <td>309.0</td>\n",
       "      <td>9.0</td>\n",
       "      <td>6.0</td>\n",
       "      <td>40</td>\n",
       "    </tr>\n",
       "    <tr>\n",
       "      <th>2</th>\n",
       "      <td>2017-01-01 09:00:00-08:00</td>\n",
       "      <td>5.13</td>\n",
       "      <td>2.38</td>\n",
       "      <td>310.0</td>\n",
       "      <td>11.0</td>\n",
       "      <td>0.0</td>\n",
       "      <td>000</td>\n",
       "    </tr>\n",
       "    <tr>\n",
       "      <th>3</th>\n",
       "      <td>2017-01-01 10:00:00-08:00</td>\n",
       "      <td>5.66</td>\n",
       "      <td>2.66</td>\n",
       "      <td>314.0</td>\n",
       "      <td>11.0</td>\n",
       "      <td>0.0</td>\n",
       "      <td>000</td>\n",
       "    </tr>\n",
       "    <tr>\n",
       "      <th>4</th>\n",
       "      <td>2017-01-01 11:00:00-08:00</td>\n",
       "      <td>5.71</td>\n",
       "      <td>2.38</td>\n",
       "      <td>303.0</td>\n",
       "      <td>11.0</td>\n",
       "      <td>5.0</td>\n",
       "      <td>150</td>\n",
       "    </tr>\n",
       "  </tbody>\n",
       "</table>\n",
       "</div>"
      ],
      "text/plain": [
       "                         PST  Tide  Height    Deg  Period  Wind Speed  \\\n",
       "0  2017-01-01 07:00:00-08:00  3.82    2.47  306.0    11.0         7.0   \n",
       "1  2017-01-01 08:00:00-08:00  4.42    2.37  309.0     9.0         6.0   \n",
       "2  2017-01-01 09:00:00-08:00  5.13    2.38  310.0    11.0         0.0   \n",
       "3  2017-01-01 10:00:00-08:00  5.66    2.66  314.0    11.0         0.0   \n",
       "4  2017-01-01 11:00:00-08:00  5.71    2.38  303.0    11.0         5.0   \n",
       "\n",
       "  Wind Direction  \n",
       "0            260  \n",
       "1             40  \n",
       "2            000  \n",
       "3            000  \n",
       "4            150  "
      ]
     },
     "execution_count": 6,
     "metadata": {},
     "output_type": "execute_result"
    }
   ],
   "source": [
    "df.head()"
   ]
  },
  {
   "cell_type": "code",
   "execution_count": 7,
   "metadata": {},
   "outputs": [
    {
     "data": {
      "text/plain": [
       "4.0       6694\n",
       "9.0       5233\n",
       "7.0       3795\n",
       "11.0      3102\n",
       "13.0      2652\n",
       "15.0      1572\n",
       "17.0       510\n",
       "20.0       253\n",
       "970.0        1\n",
       "1018.0       1\n",
       "Name: Period, dtype: int64"
      ]
     },
     "execution_count": 7,
     "metadata": {},
     "output_type": "execute_result"
    }
   ],
   "source": [
    "df['Period'].value_counts()"
   ]
  },
  {
   "cell_type": "markdown",
   "metadata": {},
   "source": [
    "Since I don't have exact ideal conditions measurements yet I'm just going to use what I think is good for now **but will change later** "
   ]
  },
  {
   "cell_type": "code",
   "execution_count": 21,
   "metadata": {},
   "outputs": [],
   "source": [
    "def ideal_period(df, good_period: int):\n",
    "    \"Creates Ideal Period column, 0 for bad period, 1 for good period\"\n",
    "    \n",
    "    zeros = np.zeros(df.shape[0],dtype=int)\n",
    "    df['Ideal Period']=zeros\n",
    "    df.loc[df['Period']>=good_period, 'Ideal Period'] = 1\n",
    "\n",
    "    return"
   ]
  },
  {
   "cell_type": "code",
   "execution_count": 25,
   "metadata": {},
   "outputs": [],
   "source": [
    "ideal_period(df, 8)\n",
    "ideal_wind(df,[0,57],[5,10])"
   ]
  },
  {
   "cell_type": "code",
   "execution_count": 26,
   "metadata": {},
   "outputs": [
    {
     "data": {
      "text/html": [
       "<div>\n",
       "<style scoped>\n",
       "    .dataframe tbody tr th:only-of-type {\n",
       "        vertical-align: middle;\n",
       "    }\n",
       "\n",
       "    .dataframe tbody tr th {\n",
       "        vertical-align: top;\n",
       "    }\n",
       "\n",
       "    .dataframe thead th {\n",
       "        text-align: right;\n",
       "    }\n",
       "</style>\n",
       "<table border=\"1\" class=\"dataframe\">\n",
       "  <thead>\n",
       "    <tr style=\"text-align: right;\">\n",
       "      <th></th>\n",
       "      <th>PST</th>\n",
       "      <th>Tide</th>\n",
       "      <th>Height</th>\n",
       "      <th>Deg</th>\n",
       "      <th>Period</th>\n",
       "      <th>Wind Speed</th>\n",
       "      <th>Wind Direction</th>\n",
       "      <th>Ideal Period</th>\n",
       "      <th>Ideal Wind</th>\n",
       "    </tr>\n",
       "  </thead>\n",
       "  <tbody>\n",
       "    <tr>\n",
       "      <th>0</th>\n",
       "      <td>2017-01-01 07:00:00-08:00</td>\n",
       "      <td>3.82</td>\n",
       "      <td>2.47</td>\n",
       "      <td>306.0</td>\n",
       "      <td>11.0</td>\n",
       "      <td>7.0</td>\n",
       "      <td>260</td>\n",
       "      <td>1</td>\n",
       "      <td>0</td>\n",
       "    </tr>\n",
       "    <tr>\n",
       "      <th>1</th>\n",
       "      <td>2017-01-01 08:00:00-08:00</td>\n",
       "      <td>4.42</td>\n",
       "      <td>2.37</td>\n",
       "      <td>309.0</td>\n",
       "      <td>9.0</td>\n",
       "      <td>6.0</td>\n",
       "      <td>40</td>\n",
       "      <td>1</td>\n",
       "      <td>1</td>\n",
       "    </tr>\n",
       "    <tr>\n",
       "      <th>2</th>\n",
       "      <td>2017-01-01 09:00:00-08:00</td>\n",
       "      <td>5.13</td>\n",
       "      <td>2.38</td>\n",
       "      <td>310.0</td>\n",
       "      <td>11.0</td>\n",
       "      <td>0.0</td>\n",
       "      <td>calm</td>\n",
       "      <td>1</td>\n",
       "      <td>1</td>\n",
       "    </tr>\n",
       "    <tr>\n",
       "      <th>3</th>\n",
       "      <td>2017-01-01 10:00:00-08:00</td>\n",
       "      <td>5.66</td>\n",
       "      <td>2.66</td>\n",
       "      <td>314.0</td>\n",
       "      <td>11.0</td>\n",
       "      <td>0.0</td>\n",
       "      <td>calm</td>\n",
       "      <td>1</td>\n",
       "      <td>1</td>\n",
       "    </tr>\n",
       "    <tr>\n",
       "      <th>4</th>\n",
       "      <td>2017-01-01 11:00:00-08:00</td>\n",
       "      <td>5.71</td>\n",
       "      <td>2.38</td>\n",
       "      <td>303.0</td>\n",
       "      <td>11.0</td>\n",
       "      <td>5.0</td>\n",
       "      <td>150</td>\n",
       "      <td>1</td>\n",
       "      <td>1</td>\n",
       "    </tr>\n",
       "  </tbody>\n",
       "</table>\n",
       "</div>"
      ],
      "text/plain": [
       "                         PST  Tide  Height    Deg  Period  Wind Speed  \\\n",
       "0  2017-01-01 07:00:00-08:00  3.82    2.47  306.0    11.0         7.0   \n",
       "1  2017-01-01 08:00:00-08:00  4.42    2.37  309.0     9.0         6.0   \n",
       "2  2017-01-01 09:00:00-08:00  5.13    2.38  310.0    11.0         0.0   \n",
       "3  2017-01-01 10:00:00-08:00  5.66    2.66  314.0    11.0         0.0   \n",
       "4  2017-01-01 11:00:00-08:00  5.71    2.38  303.0    11.0         5.0   \n",
       "\n",
       "  Wind Direction  Ideal Period  Ideal Wind  \n",
       "0            260             1           0  \n",
       "1             40             1           1  \n",
       "2           calm             1           1  \n",
       "3           calm             1           1  \n",
       "4            150             1           1  "
      ]
     },
     "execution_count": 26,
     "metadata": {},
     "output_type": "execute_result"
    }
   ],
   "source": [
    "df.head()"
   ]
  },
  {
   "cell_type": "code",
   "execution_count": 27,
   "metadata": {},
   "outputs": [
    {
     "data": {
      "text/plain": [
       "1    13324\n",
       "0    10526\n",
       "Name: Ideal Period, dtype: int64"
      ]
     },
     "execution_count": 27,
     "metadata": {},
     "output_type": "execute_result"
    }
   ],
   "source": [
    "df['Ideal Period'].value_counts()"
   ]
  },
  {
   "cell_type": "code",
   "execution_count": 29,
   "metadata": {},
   "outputs": [
    {
     "data": {
      "text/plain": [
       "0    15338\n",
       "1     8512\n",
       "Name: Ideal Wind, dtype: int64"
      ]
     },
     "execution_count": 29,
     "metadata": {},
     "output_type": "execute_result"
    }
   ],
   "source": [
    "df['Ideal Wind'].value_counts()"
   ]
  },
  {
   "cell_type": "code",
   "execution_count": 34,
   "metadata": {},
   "outputs": [],
   "source": [
    "def ideal_tide(df, good_tide: list):\n",
    "    \"\"\"Creates Ideal Tide column, 0 for bad tide, 1 for good tide\"\"\"\n",
    "\n",
    "    zeros = np.zeros(df.shape[0],dtype=int)\n",
    "    df['Ideal Tide']=zeros\n",
    "\n",
    "    good = (good_tide[0] <= df.Tide) & (df.Tide <= good_tide[1])\n",
    "    df.loc[good, 'Ideal Tide'] = 1\n",
    "\n",
    "    return"
   ]
  },
  {
   "cell_type": "code",
   "execution_count": null,
   "metadata": {},
   "outputs": [],
   "source": [
    "def ideal_swell(df, direction: list, height: list):\n",
    "    \"\"\"Creates Ideal Swell column, 0 for bad swell, 1 for good swell\"\"\"\n",
    "\n",
    "    zeros = np.zeros(df.shape[0],dtype=int)\n",
    "    df['Ideal Swell'] = zeros\n",
    "\n",
    "    good_direction = (direction[0] <= df.Deg) & (df.Deg <= direction[1])\n",
    "    good_height = (height[0] <= df.Height) & (df.Height <= height[1])\n",
    "    good = good_direction & good_height\n",
    "    df.loc[good, 'Ideal Swell'] = 1\n",
    "\n",
    "    return"
   ]
  },
  {
   "cell_type": "code",
   "execution_count": null,
   "metadata": {},
   "outputs": [],
   "source": [
    "#making a dictionary for ideal conditions so that I can easily access and change individual items\n",
    "\n",
    "Ideals = {\n",
    "    \"wind_speed\": [5,10],\n",
    "    \"wind_direction\": [0,57],\n",
    "    \"tide\": [2,5],\n",
    "    \"period\": 8,\n",
    "    \"swell_direction\": [258,304],\n",
    "    \"swell_height\": [1,3]\n",
    "}"
   ]
  }
 ],
 "metadata": {
  "kernelspec": {
   "display_name": "Python 3.10.8 ('ivsurf-env')",
   "language": "python",
   "name": "python3"
  },
  "language_info": {
   "codemirror_mode": {
    "name": "ipython",
    "version": 3
   },
   "file_extension": ".py",
   "mimetype": "text/x-python",
   "name": "python",
   "nbconvert_exporter": "python",
   "pygments_lexer": "ipython3",
   "version": "3.10.8"
  },
  "orig_nbformat": 4,
  "vscode": {
   "interpreter": {
    "hash": "94ab3e166c87eb08f52c1f27d18afd75aa2f18bc3012018fbae2a9065e8ea721"
   }
  }
 },
 "nbformat": 4,
 "nbformat_minor": 2
}
