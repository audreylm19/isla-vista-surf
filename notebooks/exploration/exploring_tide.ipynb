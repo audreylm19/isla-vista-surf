{
 "cells": [
  {
   "cell_type": "code",
   "execution_count": 1,
   "metadata": {},
   "outputs": [],
   "source": [
    "import pandas as pd"
   ]
  },
  {
   "cell_type": "code",
   "execution_count": 2,
   "metadata": {},
   "outputs": [
    {
     "data": {
      "text/html": [
       "<div>\n",
       "<style scoped>\n",
       "    .dataframe tbody tr th:only-of-type {\n",
       "        vertical-align: middle;\n",
       "    }\n",
       "\n",
       "    .dataframe tbody tr th {\n",
       "        vertical-align: top;\n",
       "    }\n",
       "\n",
       "    .dataframe thead th {\n",
       "        text-align: right;\n",
       "    }\n",
       "</style>\n",
       "<table border=\"1\" class=\"dataframe\">\n",
       "  <thead>\n",
       "    <tr style=\"text-align: right;\">\n",
       "      <th></th>\n",
       "      <th>Date</th>\n",
       "      <th>Time (GMT)</th>\n",
       "      <th>Predicted (ft)</th>\n",
       "      <th>Preliminary (ft)</th>\n",
       "      <th>Verified (ft)</th>\n",
       "    </tr>\n",
       "  </thead>\n",
       "  <tbody>\n",
       "    <tr>\n",
       "      <th>0</th>\n",
       "      <td>2017/01/01</td>\n",
       "      <td>00:00</td>\n",
       "      <td>-0.103</td>\n",
       "      <td>-</td>\n",
       "      <td>0.31</td>\n",
       "    </tr>\n",
       "    <tr>\n",
       "      <th>1</th>\n",
       "      <td>2017/01/01</td>\n",
       "      <td>01:00</td>\n",
       "      <td>-0.556</td>\n",
       "      <td>-</td>\n",
       "      <td>-0.19</td>\n",
       "    </tr>\n",
       "    <tr>\n",
       "      <th>2</th>\n",
       "      <td>2017/01/01</td>\n",
       "      <td>02:00</td>\n",
       "      <td>-0.467</td>\n",
       "      <td>-</td>\n",
       "      <td>-0.09</td>\n",
       "    </tr>\n",
       "    <tr>\n",
       "      <th>3</th>\n",
       "      <td>2017/01/01</td>\n",
       "      <td>03:00</td>\n",
       "      <td>0.108</td>\n",
       "      <td>-</td>\n",
       "      <td>0.62</td>\n",
       "    </tr>\n",
       "    <tr>\n",
       "      <th>4</th>\n",
       "      <td>2017/01/01</td>\n",
       "      <td>04:00</td>\n",
       "      <td>1.029</td>\n",
       "      <td>-</td>\n",
       "      <td>1.44</td>\n",
       "    </tr>\n",
       "    <tr>\n",
       "      <th>5</th>\n",
       "      <td>2017/01/01</td>\n",
       "      <td>05:00</td>\n",
       "      <td>2.062</td>\n",
       "      <td>-</td>\n",
       "      <td>2.63</td>\n",
       "    </tr>\n",
       "    <tr>\n",
       "      <th>6</th>\n",
       "      <td>2017/01/01</td>\n",
       "      <td>06:00</td>\n",
       "      <td>2.950</td>\n",
       "      <td>-</td>\n",
       "      <td>3.38</td>\n",
       "    </tr>\n",
       "    <tr>\n",
       "      <th>7</th>\n",
       "      <td>2017/01/01</td>\n",
       "      <td>07:00</td>\n",
       "      <td>3.530</td>\n",
       "      <td>-</td>\n",
       "      <td>4.03</td>\n",
       "    </tr>\n",
       "    <tr>\n",
       "      <th>8</th>\n",
       "      <td>2017/01/01</td>\n",
       "      <td>08:00</td>\n",
       "      <td>3.733</td>\n",
       "      <td>-</td>\n",
       "      <td>4.32</td>\n",
       "    </tr>\n",
       "    <tr>\n",
       "      <th>9</th>\n",
       "      <td>2017/01/01</td>\n",
       "      <td>09:00</td>\n",
       "      <td>3.567</td>\n",
       "      <td>-</td>\n",
       "      <td>3.83</td>\n",
       "    </tr>\n",
       "    <tr>\n",
       "      <th>10</th>\n",
       "      <td>2017/01/01</td>\n",
       "      <td>10:00</td>\n",
       "      <td>3.172</td>\n",
       "      <td>-</td>\n",
       "      <td>3.49</td>\n",
       "    </tr>\n",
       "    <tr>\n",
       "      <th>11</th>\n",
       "      <td>2017/01/01</td>\n",
       "      <td>11:00</td>\n",
       "      <td>2.750</td>\n",
       "      <td>-</td>\n",
       "      <td>3.05</td>\n",
       "    </tr>\n",
       "    <tr>\n",
       "      <th>12</th>\n",
       "      <td>2017/01/01</td>\n",
       "      <td>12:00</td>\n",
       "      <td>2.469</td>\n",
       "      <td>-</td>\n",
       "      <td>2.68</td>\n",
       "    </tr>\n",
       "    <tr>\n",
       "      <th>13</th>\n",
       "      <td>2017/01/01</td>\n",
       "      <td>13:00</td>\n",
       "      <td>2.463</td>\n",
       "      <td>-</td>\n",
       "      <td>2.84</td>\n",
       "    </tr>\n",
       "    <tr>\n",
       "      <th>14</th>\n",
       "      <td>2017/01/01</td>\n",
       "      <td>14:00</td>\n",
       "      <td>2.790</td>\n",
       "      <td>-</td>\n",
       "      <td>3.18</td>\n",
       "    </tr>\n",
       "    <tr>\n",
       "      <th>15</th>\n",
       "      <td>2017/01/01</td>\n",
       "      <td>15:00</td>\n",
       "      <td>3.391</td>\n",
       "      <td>-</td>\n",
       "      <td>3.82</td>\n",
       "    </tr>\n",
       "    <tr>\n",
       "      <th>16</th>\n",
       "      <td>2017/01/01</td>\n",
       "      <td>16:00</td>\n",
       "      <td>4.136</td>\n",
       "      <td>-</td>\n",
       "      <td>4.42</td>\n",
       "    </tr>\n",
       "    <tr>\n",
       "      <th>17</th>\n",
       "      <td>2017/01/01</td>\n",
       "      <td>17:00</td>\n",
       "      <td>4.837</td>\n",
       "      <td>-</td>\n",
       "      <td>5.13</td>\n",
       "    </tr>\n",
       "    <tr>\n",
       "      <th>18</th>\n",
       "      <td>2017/01/01</td>\n",
       "      <td>18:00</td>\n",
       "      <td>5.273</td>\n",
       "      <td>-</td>\n",
       "      <td>5.66</td>\n",
       "    </tr>\n",
       "    <tr>\n",
       "      <th>19</th>\n",
       "      <td>2017/01/01</td>\n",
       "      <td>19:00</td>\n",
       "      <td>5.295</td>\n",
       "      <td>-</td>\n",
       "      <td>5.71</td>\n",
       "    </tr>\n",
       "    <tr>\n",
       "      <th>20</th>\n",
       "      <td>2017/01/01</td>\n",
       "      <td>20:00</td>\n",
       "      <td>4.863</td>\n",
       "      <td>-</td>\n",
       "      <td>4.86</td>\n",
       "    </tr>\n",
       "    <tr>\n",
       "      <th>21</th>\n",
       "      <td>2017/01/01</td>\n",
       "      <td>21:00</td>\n",
       "      <td>3.997</td>\n",
       "      <td>-</td>\n",
       "      <td>4.30</td>\n",
       "    </tr>\n",
       "    <tr>\n",
       "      <th>22</th>\n",
       "      <td>2017/01/01</td>\n",
       "      <td>22:00</td>\n",
       "      <td>2.834</td>\n",
       "      <td>-</td>\n",
       "      <td>3.33</td>\n",
       "    </tr>\n",
       "    <tr>\n",
       "      <th>23</th>\n",
       "      <td>2017/01/01</td>\n",
       "      <td>23:00</td>\n",
       "      <td>1.610</td>\n",
       "      <td>-</td>\n",
       "      <td>1.85</td>\n",
       "    </tr>\n",
       "  </tbody>\n",
       "</table>\n",
       "</div>"
      ],
      "text/plain": [
       "          Date Time (GMT)  Predicted (ft) Preliminary (ft)  Verified (ft)\n",
       "0   2017/01/01      00:00          -0.103                -           0.31\n",
       "1   2017/01/01      01:00          -0.556                -          -0.19\n",
       "2   2017/01/01      02:00          -0.467                -          -0.09\n",
       "3   2017/01/01      03:00           0.108                -           0.62\n",
       "4   2017/01/01      04:00           1.029                -           1.44\n",
       "5   2017/01/01      05:00           2.062                -           2.63\n",
       "6   2017/01/01      06:00           2.950                -           3.38\n",
       "7   2017/01/01      07:00           3.530                -           4.03\n",
       "8   2017/01/01      08:00           3.733                -           4.32\n",
       "9   2017/01/01      09:00           3.567                -           3.83\n",
       "10  2017/01/01      10:00           3.172                -           3.49\n",
       "11  2017/01/01      11:00           2.750                -           3.05\n",
       "12  2017/01/01      12:00           2.469                -           2.68\n",
       "13  2017/01/01      13:00           2.463                -           2.84\n",
       "14  2017/01/01      14:00           2.790                -           3.18\n",
       "15  2017/01/01      15:00           3.391                -           3.82\n",
       "16  2017/01/01      16:00           4.136                -           4.42\n",
       "17  2017/01/01      17:00           4.837                -           5.13\n",
       "18  2017/01/01      18:00           5.273                -           5.66\n",
       "19  2017/01/01      19:00           5.295                -           5.71\n",
       "20  2017/01/01      20:00           4.863                -           4.86\n",
       "21  2017/01/01      21:00           3.997                -           4.30\n",
       "22  2017/01/01      22:00           2.834                -           3.33\n",
       "23  2017/01/01      23:00           1.610                -           1.85"
      ]
     },
     "execution_count": 2,
     "metadata": {},
     "output_type": "execute_result"
    }
   ],
   "source": [
    "t17 = pd.read_csv(\"data/raw_tide2017.csv\")\n",
    "t17.head(24)"
   ]
  },
  {
   "cell_type": "markdown",
   "metadata": {},
   "source": [
    "Above data is great, will get rid of predicted and preliminary columns. Challenge is to figure out how to merge all the data I have together based on time stamp, since time is prob recorded differently in each dataset anddd GMT is useless for this project, gotta convert to PST eventually. The cdip data might actually also be on GMT because it had the time listed as UTC, and UTC +0 = GMT. Will need to switch to PST so that I can eventually drop all of the observations that occur at night."
   ]
  },
  {
   "cell_type": "code",
   "execution_count": 3,
   "metadata": {},
   "outputs": [
    {
     "data": {
      "text/plain": [
       "(8760, 5)"
      ]
     },
     "execution_count": 3,
     "metadata": {},
     "output_type": "execute_result"
    }
   ],
   "source": [
    "t17.shape"
   ]
  },
  {
   "cell_type": "markdown",
   "metadata": {},
   "source": [
    "Gotta check shape of each tide file to make sure they have the correct amount of data - 8760 entries, one for each hour, and 8784 entries in 2020 cuz leap year"
   ]
  },
  {
   "cell_type": "code",
   "execution_count": 4,
   "metadata": {},
   "outputs": [],
   "source": [
    "t18 = pd.read_csv(\"data/raw_tide2018.csv\")\n",
    "t19 = pd.read_csv(\"data/raw_tide2019.csv\")\n",
    "t20 = pd.read_csv(\"data/raw_tide2020.csv\")\n",
    "t21 = pd.read_csv(\"data/raw_tide2021.csv\")"
   ]
  },
  {
   "cell_type": "code",
   "execution_count": 5,
   "metadata": {},
   "outputs": [
    {
     "data": {
      "text/plain": [
       "(8760, 5)"
      ]
     },
     "execution_count": 5,
     "metadata": {},
     "output_type": "execute_result"
    }
   ],
   "source": [
    "t18.shape"
   ]
  },
  {
   "cell_type": "code",
   "execution_count": 6,
   "metadata": {},
   "outputs": [
    {
     "data": {
      "text/plain": [
       "(8760, 5)"
      ]
     },
     "execution_count": 6,
     "metadata": {},
     "output_type": "execute_result"
    }
   ],
   "source": [
    "t19.shape"
   ]
  },
  {
   "cell_type": "code",
   "execution_count": 7,
   "metadata": {},
   "outputs": [
    {
     "data": {
      "text/plain": [
       "(8784, 5)"
      ]
     },
     "execution_count": 7,
     "metadata": {},
     "output_type": "execute_result"
    }
   ],
   "source": [
    "t20.shape"
   ]
  },
  {
   "cell_type": "code",
   "execution_count": 8,
   "metadata": {},
   "outputs": [
    {
     "data": {
      "text/plain": [
       "(8760, 5)"
      ]
     },
     "execution_count": 8,
     "metadata": {},
     "output_type": "execute_result"
    }
   ],
   "source": [
    "t21.shape"
   ]
  },
  {
   "cell_type": "markdown",
   "metadata": {},
   "source": [
    "Yew all looks good\n",
    "\n",
    "# Tide has perfect dimensions, it's UTC should be base to merge on"
   ]
  },
  {
   "cell_type": "code",
   "execution_count": 10,
   "metadata": {},
   "outputs": [
    {
     "data": {
      "text/plain": [
       "'2021/01/01'"
      ]
     },
     "execution_count": 10,
     "metadata": {},
     "output_type": "execute_result"
    }
   ],
   "source": [
    "t21['Date'][0]"
   ]
  },
  {
   "cell_type": "markdown",
   "metadata": {},
   "source": [
    "Gotta replace \\slashes with -dashes"
   ]
  },
  {
   "cell_type": "code",
   "execution_count": 13,
   "metadata": {},
   "outputs": [],
   "source": [
    "t21['Date'] = t21['Date'].str.replace('/','-')\n",
    "\n",
    "t21['UTC'] = t21['Date']+' '+t21['Time (GMT)']\n",
    "\n",
    "t21['UTC'] = pd.to_datetime(t21['UTC'], utc=True)\n",
    "\n",
    "t21['Tide'] = t21['Verified (ft)']"
   ]
  },
  {
   "cell_type": "code",
   "execution_count": 28,
   "metadata": {},
   "outputs": [
    {
     "data": {
      "text/html": [
       "<div>\n",
       "<style scoped>\n",
       "    .dataframe tbody tr th:only-of-type {\n",
       "        vertical-align: middle;\n",
       "    }\n",
       "\n",
       "    .dataframe tbody tr th {\n",
       "        vertical-align: top;\n",
       "    }\n",
       "\n",
       "    .dataframe thead th {\n",
       "        text-align: right;\n",
       "    }\n",
       "</style>\n",
       "<table border=\"1\" class=\"dataframe\">\n",
       "  <thead>\n",
       "    <tr style=\"text-align: right;\">\n",
       "      <th></th>\n",
       "      <th>Date</th>\n",
       "      <th>Time (GMT)</th>\n",
       "      <th>Predicted (ft)</th>\n",
       "      <th>Preliminary (ft)</th>\n",
       "      <th>Verified (ft)</th>\n",
       "      <th>UTC</th>\n",
       "      <th>UTC1</th>\n",
       "      <th>Tide</th>\n",
       "    </tr>\n",
       "  </thead>\n",
       "  <tbody>\n",
       "    <tr>\n",
       "      <th>0</th>\n",
       "      <td>2021-01-01</td>\n",
       "      <td>00:00</td>\n",
       "      <td>-0.665</td>\n",
       "      <td>-</td>\n",
       "      <td>-0.56</td>\n",
       "      <td>2021-01-01 00:00:00+00:00</td>\n",
       "      <td>2021-01-01 00:00:00+00:00</td>\n",
       "      <td>-0.56</td>\n",
       "    </tr>\n",
       "    <tr>\n",
       "      <th>1</th>\n",
       "      <td>2021-01-01</td>\n",
       "      <td>01:00</td>\n",
       "      <td>-0.943</td>\n",
       "      <td>-</td>\n",
       "      <td>-0.94</td>\n",
       "      <td>2021-01-01 01:00:00+00:00</td>\n",
       "      <td>2021-01-01 01:00:00+00:00</td>\n",
       "      <td>-0.94</td>\n",
       "    </tr>\n",
       "    <tr>\n",
       "      <th>2</th>\n",
       "      <td>2021-01-01</td>\n",
       "      <td>02:00</td>\n",
       "      <td>-0.672</td>\n",
       "      <td>-</td>\n",
       "      <td>-0.43</td>\n",
       "      <td>2021-01-01 02:00:00+00:00</td>\n",
       "      <td>2021-01-01 02:00:00+00:00</td>\n",
       "      <td>-0.43</td>\n",
       "    </tr>\n",
       "    <tr>\n",
       "      <th>3</th>\n",
       "      <td>2021-01-01</td>\n",
       "      <td>03:00</td>\n",
       "      <td>0.057</td>\n",
       "      <td>-</td>\n",
       "      <td>0.34</td>\n",
       "      <td>2021-01-01 03:00:00+00:00</td>\n",
       "      <td>2021-01-01 03:00:00+00:00</td>\n",
       "      <td>0.34</td>\n",
       "    </tr>\n",
       "    <tr>\n",
       "      <th>4</th>\n",
       "      <td>2021-01-01</td>\n",
       "      <td>04:00</td>\n",
       "      <td>1.067</td>\n",
       "      <td>-</td>\n",
       "      <td>1.26</td>\n",
       "      <td>2021-01-01 04:00:00+00:00</td>\n",
       "      <td>2021-01-01 04:00:00+00:00</td>\n",
       "      <td>1.26</td>\n",
       "    </tr>\n",
       "  </tbody>\n",
       "</table>\n",
       "</div>"
      ],
      "text/plain": [
       "         Date Time (GMT)  Predicted (ft) Preliminary (ft)  Verified (ft)  \\\n",
       "0  2021-01-01      00:00          -0.665                -          -0.56   \n",
       "1  2021-01-01      01:00          -0.943                -          -0.94   \n",
       "2  2021-01-01      02:00          -0.672                -          -0.43   \n",
       "3  2021-01-01      03:00           0.057                -           0.34   \n",
       "4  2021-01-01      04:00           1.067                -           1.26   \n",
       "\n",
       "                        UTC                      UTC1  Tide  \n",
       "0 2021-01-01 00:00:00+00:00 2021-01-01 00:00:00+00:00 -0.56  \n",
       "1 2021-01-01 01:00:00+00:00 2021-01-01 01:00:00+00:00 -0.94  \n",
       "2 2021-01-01 02:00:00+00:00 2021-01-01 02:00:00+00:00 -0.43  \n",
       "3 2021-01-01 03:00:00+00:00 2021-01-01 03:00:00+00:00  0.34  \n",
       "4 2021-01-01 04:00:00+00:00 2021-01-01 04:00:00+00:00  1.26  "
      ]
     },
     "execution_count": 28,
     "metadata": {},
     "output_type": "execute_result"
    }
   ],
   "source": [
    "t21.head()"
   ]
  },
  {
   "cell_type": "code",
   "execution_count": 29,
   "metadata": {},
   "outputs": [
    {
     "data": {
      "text/html": [
       "<div>\n",
       "<style scoped>\n",
       "    .dataframe tbody tr th:only-of-type {\n",
       "        vertical-align: middle;\n",
       "    }\n",
       "\n",
       "    .dataframe tbody tr th {\n",
       "        vertical-align: top;\n",
       "    }\n",
       "\n",
       "    .dataframe thead th {\n",
       "        text-align: right;\n",
       "    }\n",
       "</style>\n",
       "<table border=\"1\" class=\"dataframe\">\n",
       "  <thead>\n",
       "    <tr style=\"text-align: right;\">\n",
       "      <th></th>\n",
       "      <th>UTC</th>\n",
       "      <th>UTC1</th>\n",
       "      <th>Tide</th>\n",
       "    </tr>\n",
       "  </thead>\n",
       "  <tbody>\n",
       "    <tr>\n",
       "      <th>0</th>\n",
       "      <td>2021-01-01 00:00:00+00:00</td>\n",
       "      <td>2021-01-01 00:00:00+00:00</td>\n",
       "      <td>-0.56</td>\n",
       "    </tr>\n",
       "    <tr>\n",
       "      <th>1</th>\n",
       "      <td>2021-01-01 01:00:00+00:00</td>\n",
       "      <td>2021-01-01 01:00:00+00:00</td>\n",
       "      <td>-0.94</td>\n",
       "    </tr>\n",
       "    <tr>\n",
       "      <th>2</th>\n",
       "      <td>2021-01-01 02:00:00+00:00</td>\n",
       "      <td>2021-01-01 02:00:00+00:00</td>\n",
       "      <td>-0.43</td>\n",
       "    </tr>\n",
       "    <tr>\n",
       "      <th>3</th>\n",
       "      <td>2021-01-01 03:00:00+00:00</td>\n",
       "      <td>2021-01-01 03:00:00+00:00</td>\n",
       "      <td>0.34</td>\n",
       "    </tr>\n",
       "    <tr>\n",
       "      <th>4</th>\n",
       "      <td>2021-01-01 04:00:00+00:00</td>\n",
       "      <td>2021-01-01 04:00:00+00:00</td>\n",
       "      <td>1.26</td>\n",
       "    </tr>\n",
       "  </tbody>\n",
       "</table>\n",
       "</div>"
      ],
      "text/plain": [
       "                        UTC                      UTC1  Tide\n",
       "0 2021-01-01 00:00:00+00:00 2021-01-01 00:00:00+00:00 -0.56\n",
       "1 2021-01-01 01:00:00+00:00 2021-01-01 01:00:00+00:00 -0.94\n",
       "2 2021-01-01 02:00:00+00:00 2021-01-01 02:00:00+00:00 -0.43\n",
       "3 2021-01-01 03:00:00+00:00 2021-01-01 03:00:00+00:00  0.34\n",
       "4 2021-01-01 04:00:00+00:00 2021-01-01 04:00:00+00:00  1.26"
      ]
     },
     "execution_count": 29,
     "metadata": {},
     "output_type": "execute_result"
    }
   ],
   "source": [
    "to_drop = ['Date', 'Time (GMT)', 'Predicted (ft)', 'Preliminary (ft)',\n",
    "       'Verified (ft)']\n",
    "\n",
    "t21.drop(columns = to_drop).head()"
   ]
  },
  {
   "cell_type": "code",
   "execution_count": 30,
   "metadata": {},
   "outputs": [
    {
     "data": {
      "text/plain": [
       "datetime64[ns, UTC]"
      ]
     },
     "execution_count": 30,
     "metadata": {},
     "output_type": "execute_result"
    }
   ],
   "source": [
    "t21['UTC'].dtype"
   ]
  },
  {
   "cell_type": "code",
   "execution_count": 33,
   "metadata": {},
   "outputs": [
    {
     "data": {
      "text/plain": [
       "datetime.timedelta(0)"
      ]
     },
     "execution_count": 33,
     "metadata": {},
     "output_type": "execute_result"
    }
   ],
   "source": [
    "t21['UTC'][0].tzinfo.utcoffset(None)"
   ]
  },
  {
   "cell_type": "code",
   "execution_count": null,
   "metadata": {},
   "outputs": [],
   "source": []
  }
 ],
 "metadata": {
  "kernelspec": {
   "display_name": "Python 3",
   "language": "python",
   "name": "python3"
  },
  "language_info": {
   "codemirror_mode": {
    "name": "ipython",
    "version": 3
   },
   "file_extension": ".py",
   "mimetype": "text/x-python",
   "name": "python",
   "nbconvert_exporter": "python",
   "pygments_lexer": "ipython3",
   "version": "3.8.5"
  }
 },
 "nbformat": 4,
 "nbformat_minor": 4
}
