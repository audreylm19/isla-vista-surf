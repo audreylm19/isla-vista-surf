{
 "cells": [
  {
   "cell_type": "code",
   "execution_count": 7,
   "metadata": {},
   "outputs": [],
   "source": [
    "import pandas as pd\n",
    "from pathlib import Path\n",
    "from datetime import timedelta\n",
    "import numpy as np\n",
    "\n",
    "from bokeh.io import show\n",
    "from bokeh.plotting import figure\n",
    "from bokeh.models import ColumnDataSource, CustomJS, TapTool, Plot, Circle"
   ]
  },
  {
   "cell_type": "code",
   "execution_count": 12,
   "metadata": {},
   "outputs": [],
   "source": [
    "#reading in data\n",
    "root_folder = Path.cwd().parents[0]\n",
    "df = pd.read_csv(root_folder/'data/processed'/'01-final.csv')\n",
    "df['PSTdt'] = pd.to_datetime(df['PST'], utc=True)-timedelta(hours=8)\n",
    "\n",
    "#creating month column\n",
    "df['Month'] = df['PSTdt'].dt.month\n",
    "\n",
    "#defining colors\n",
    "colors = [\"#808080\", \"#1E90FF\", \"#32CD32\", \"#FFA500\", \"#FF4500\"]\n",
    "\n",
    "#making a count column\n",
    "ones = np.ones(df.shape[0], dtype=int)\n",
    "df['count'] = ones\n",
    "\n",
    "#booleans to filter by score\n",
    "zero = df.Score == 0\n",
    "one = df.Score == 1\n",
    "two = df.Score == 2\n",
    "three = df.Score == 3\n",
    "four = df.Score == 4\n",
    "\n",
    "#hour count for each score by year\n",
    "bar0 = df[zero]['count'].groupby(df['PSTdt'].dt.year).sum()\n",
    "bar1 = df[one]['count'].groupby(df['PSTdt'].dt.year).sum()\n",
    "bar2 = df[two]['count'].groupby(df['PSTdt'].dt.year).sum()\n",
    "bar3 = df[three]['count'].groupby(df['PSTdt'].dt.year).sum()\n",
    "bar4 = df[four]['count'].groupby(df['PSTdt'].dt.year).sum()\n",
    "\n",
    "#interaction\n",
    "callback = CustomJS(code=\n",
    "'''alert('!!!')''')\n",
    "tap = TapTool(callback=callback)"
   ]
  },
  {
   "cell_type": "code",
   "execution_count": 13,
   "metadata": {},
   "outputs": [],
   "source": [
    "data = {'0':bar0, '1':bar1, '2':bar2, '3':bar3, '4':bar4}\n",
    "\n",
    "source = pd.DataFrame(data)"
   ]
  },
  {
   "cell_type": "code",
   "execution_count": 14,
   "metadata": {},
   "outputs": [
    {
     "data": {
      "text/plain": [
       "[GlyphRenderer(id='p1749', ...),\n",
       " GlyphRenderer(id='p1777', ...),\n",
       " GlyphRenderer(id='p1809', ...),\n",
       " GlyphRenderer(id='p1846', ...),\n",
       " GlyphRenderer(id='p1888', ...)]"
      ]
     },
     "execution_count": 14,
     "metadata": {},
     "output_type": "execute_result"
    }
   ],
   "source": [
    "plot = figure(toolbar_location=None, tools=[tap])\n",
    "\n",
    "plot.vbar_stack(['0','1','2','3','4'], \n",
    "    x='PSTdt', \n",
    "    width=0.9, \n",
    "    color=colors,\n",
    "    line_color='white',\n",
    "    legend_label=['0','1','2','3','4'],  \n",
    "    source=source,\n",
    "    # set visual properties for selected glyphs\n",
    "    selection_color=colors,\n",
    "    selection_line_color='white',\n",
    "\n",
    "    # set visual properties for non-selected glyphs\n",
    "    nonselection_fill_alpha=1.0,\n",
    "    nonselection_fill_color=colors,\n",
    "    nonselection_line_color='white',\n",
    "    nonselection_line_alpha=1.0)"
   ]
  },
  {
   "cell_type": "code",
   "execution_count": 15,
   "metadata": {},
   "outputs": [],
   "source": [
    "show(plot)"
   ]
  },
  {
   "cell_type": "code",
   "execution_count": 6,
   "metadata": {},
   "outputs": [
    {
     "data": {
      "text/html": [
       "<div>\n",
       "<style scoped>\n",
       "    .dataframe tbody tr th:only-of-type {\n",
       "        vertical-align: middle;\n",
       "    }\n",
       "\n",
       "    .dataframe tbody tr th {\n",
       "        vertical-align: top;\n",
       "    }\n",
       "\n",
       "    .dataframe thead th {\n",
       "        text-align: right;\n",
       "    }\n",
       "</style>\n",
       "<table border=\"1\" class=\"dataframe\">\n",
       "  <thead>\n",
       "    <tr style=\"text-align: right;\">\n",
       "      <th></th>\n",
       "      <th>0</th>\n",
       "      <th>1</th>\n",
       "      <th>2</th>\n",
       "      <th>3</th>\n",
       "      <th>4</th>\n",
       "    </tr>\n",
       "    <tr>\n",
       "      <th>PSTdt</th>\n",
       "      <th></th>\n",
       "      <th></th>\n",
       "      <th></th>\n",
       "      <th></th>\n",
       "      <th></th>\n",
       "    </tr>\n",
       "  </thead>\n",
       "  <tbody>\n",
       "    <tr>\n",
       "      <th>2017</th>\n",
       "      <td>291</td>\n",
       "      <td>1402</td>\n",
       "      <td>1777</td>\n",
       "      <td>1045</td>\n",
       "      <td>254</td>\n",
       "    </tr>\n",
       "    <tr>\n",
       "      <th>2018</th>\n",
       "      <td>315</td>\n",
       "      <td>1447</td>\n",
       "      <td>1750</td>\n",
       "      <td>1009</td>\n",
       "      <td>247</td>\n",
       "    </tr>\n",
       "    <tr>\n",
       "      <th>2019</th>\n",
       "      <td>350</td>\n",
       "      <td>1522</td>\n",
       "      <td>1816</td>\n",
       "      <td>843</td>\n",
       "      <td>236</td>\n",
       "    </tr>\n",
       "    <tr>\n",
       "      <th>2020</th>\n",
       "      <td>327</td>\n",
       "      <td>1433</td>\n",
       "      <td>1799</td>\n",
       "      <td>980</td>\n",
       "      <td>240</td>\n",
       "    </tr>\n",
       "    <tr>\n",
       "      <th>2021</th>\n",
       "      <td>298</td>\n",
       "      <td>1470</td>\n",
       "      <td>1795</td>\n",
       "      <td>988</td>\n",
       "      <td>216</td>\n",
       "    </tr>\n",
       "  </tbody>\n",
       "</table>\n",
       "</div>"
      ],
      "text/plain": [
       "         0     1     2     3    4\n",
       "PSTdt                            \n",
       "2017   291  1402  1777  1045  254\n",
       "2018   315  1447  1750  1009  247\n",
       "2019   350  1522  1816   843  236\n",
       "2020   327  1433  1799   980  240\n",
       "2021   298  1470  1795   988  216"
      ]
     },
     "execution_count": 6,
     "metadata": {},
     "output_type": "execute_result"
    }
   ],
   "source": [
    "source"
   ]
  },
  {
   "cell_type": "code",
   "execution_count": null,
   "metadata": {},
   "outputs": [],
   "source": []
  }
 ],
 "metadata": {
  "kernelspec": {
   "display_name": "ivsurf-env",
   "language": "python",
   "name": "python3"
  },
  "language_info": {
   "codemirror_mode": {
    "name": "ipython",
    "version": 3
   },
   "file_extension": ".py",
   "mimetype": "text/x-python",
   "name": "python",
   "nbconvert_exporter": "python",
   "pygments_lexer": "ipython3",
   "version": "3.10.8"
  },
  "orig_nbformat": 4,
  "vscode": {
   "interpreter": {
    "hash": "94ab3e166c87eb08f52c1f27d18afd75aa2f18bc3012018fbae2a9065e8ea721"
   }
  }
 },
 "nbformat": 4,
 "nbformat_minor": 2
}
