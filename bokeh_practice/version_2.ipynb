{
 "cells": [
  {
   "cell_type": "code",
   "execution_count": 56,
   "metadata": {},
   "outputs": [],
   "source": [
    "import pandas as pd\n",
    "from pathlib import Path\n",
    "from datetime import timedelta\n",
    "import numpy as np\n",
    "\n",
    "from bokeh.io import show\n",
    "from bokeh.plotting import figure\n",
    "from bokeh.models import ColumnDataSource, CustomJS, TapTool, Plot, Circle"
   ]
  },
  {
   "cell_type": "code",
   "execution_count": 76,
   "metadata": {},
   "outputs": [],
   "source": [
    "#reading in data\n",
    "root_folder = Path.cwd().parents[0]\n",
    "df = pd.read_csv(root_folder/'data/processed'/'01-final.csv')\n",
    "df['PSTdt'] = pd.to_datetime(df['PST'], utc=True)-timedelta(hours=8)\n",
    "\n",
    "#creating month column\n",
    "df['Month'] = df['PSTdt'].dt.month\n",
    "\n",
    "#defining colors\n",
    "colors = [\"#1E90FF\", \"#32CD32\", \"#808080\", \"#FFA500\", \"#FF4500\"]\n",
    "\n",
    "#making a count column\n",
    "ones = np.ones(df.shape[0], dtype=int)\n",
    "df['count'] = ones\n",
    "\n",
    "#booleans to filter by score\n",
    "zero = df.Score == 0\n",
    "one = df.Score == 1\n",
    "two = df.Score == 2\n",
    "three = df.Score == 3\n",
    "four = df.Score == 4\n",
    "\n",
    "#hour count for each score by year\n",
    "bar0 = df[zero]['count'].groupby(df['PSTdt'].dt.year).sum()\n",
    "bar1 = df[one]['count'].groupby(df['PSTdt'].dt.year).sum()\n",
    "bar2 = df[two]['count'].groupby(df['PSTdt'].dt.year).sum()\n",
    "bar3 = df[three]['count'].groupby(df['PSTdt'].dt.year).sum()\n",
    "bar4 = df[four]['count'].groupby(df['PSTdt'].dt.year).sum()\n",
    "\n",
    "#interaction\n",
    "callback = CustomJS(code=\n",
    "'''alert('!!!')''')\n",
    "tap = TapTool(callback=callback)"
   ]
  },
  {
   "cell_type": "code",
   "execution_count": 77,
   "metadata": {},
   "outputs": [],
   "source": [
    "data = {'0':bar0, '1':bar1, '2':bar2, '3':bar3, '4':bar4}\n",
    "\n",
    "source = pd.DataFrame(data)"
   ]
  },
  {
   "cell_type": "code",
   "execution_count": 79,
   "metadata": {},
   "outputs": [
    {
     "data": {
      "text/plain": [
       "[GlyphRenderer(id='p10408', ...),\n",
       " GlyphRenderer(id='p10436', ...),\n",
       " GlyphRenderer(id='p10468', ...),\n",
       " GlyphRenderer(id='p10505', ...),\n",
       " GlyphRenderer(id='p10547', ...)]"
      ]
     },
     "execution_count": 79,
     "metadata": {},
     "output_type": "execute_result"
    }
   ],
   "source": [
    "plot = figure(toolbar_location=None, tools=[tap])\n",
    "\n",
    "plot.vbar_stack(['0','1','2','3','4'], \n",
    "    x='PSTdt', \n",
    "    width=0.9, \n",
    "    color=colors,\n",
    "    line_color='white',\n",
    "    legend_label=['0','1','2','3','4'],  \n",
    "    source=source,\n",
    "    # set visual properties for selected glyphs\n",
    "    selection_color=colors,\n",
    "    selection_line_color='white',\n",
    "\n",
    "    # set visual properties for non-selected glyphs\n",
    "    nonselection_fill_alpha=1.0,\n",
    "    nonselection_fill_color=colors,\n",
    "    nonselection_line_color='white',\n",
    "    nonselection_line_alpha=1.0)"
   ]
  },
  {
   "cell_type": "code",
   "execution_count": 80,
   "metadata": {},
   "outputs": [],
   "source": [
    "show(plot)"
   ]
  },
  {
   "cell_type": "code",
   "execution_count": null,
   "metadata": {},
   "outputs": [],
   "source": []
  },
  {
   "cell_type": "code",
   "execution_count": null,
   "metadata": {},
   "outputs": [],
   "source": []
  }
 ],
 "metadata": {
  "kernelspec": {
   "display_name": "ivsurf-env",
   "language": "python",
   "name": "python3"
  },
  "language_info": {
   "codemirror_mode": {
    "name": "ipython",
    "version": 3
   },
   "file_extension": ".py",
   "mimetype": "text/x-python",
   "name": "python",
   "nbconvert_exporter": "python",
   "pygments_lexer": "ipython3",
   "version": "3.10.8"
  },
  "orig_nbformat": 4,
  "vscode": {
   "interpreter": {
    "hash": "94ab3e166c87eb08f52c1f27d18afd75aa2f18bc3012018fbae2a9065e8ea721"
   }
  }
 },
 "nbformat": 4,
 "nbformat_minor": 2
}
